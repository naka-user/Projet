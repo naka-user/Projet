{
 "cells": [
  {
   "cell_type": "code",
   "execution_count": null,
   "id": "82c2d743-bd39-451f-8d2e-9ef552ce7e4f",
   "metadata": {},
   "outputs": [],
   "source": []
  },
  {
   "cell_type": "code",
   "execution_count": 330,
   "id": "a3ed11a8-d04b-476b-be6d-38d556282f28",
   "metadata": {},
   "outputs": [],
   "source": [
    "import os\n",
    "import pandas as pd\n",
    "import numpy as np\n",
    "import matplotlib.pyplot as plt\n",
    "import seaborn as sns\n",
    "from sklearn.decomposition import PCA\n",
    "from sklearn.model_selection import train_test_split\n",
    "from sklearn.linear_model import LogisticRegression\n",
    "from sklearn.svm import SVC\n",
    "from sklearn.ensemble import RandomForestClassifier\n",
    "import xgboost as xgb\n",
    "from sklearn.metrics import f1_score, accuracy_score, recall_score, precision_score\n",
    "from sklearn.metrics import classification_report\n",
    "from sklearn.model_selection import GridSearchCV, RandomizedSearchCV\n",
    "import joblib\n",
    "import pickle\n",
    "\n"
   ]
  },
  {
   "cell_type": "code",
   "execution_count": 331,
   "id": "5e5f70fc-5f4b-43ab-a04d-8c7f881f2e4d",
   "metadata": {},
   "outputs": [],
   "source": [
    "import warnings\n",
    "\n",
    "warnings.filterwarnings(\"ignore\")\n",
    "\n"
   ]
  },
  {
   "cell_type": "code",
   "execution_count": 332,
   "id": "cbe4009d-3884-4282-9118-ec8f9157f13d",
   "metadata": {},
   "outputs": [],
   "source": [
    "csvpath = os.path.join('..','data','dpe.csv')\n",
    "\n",
    "df = pd.read_csv(csvpath, sep=',', engine='python')\n",
    "\n"
   ]
  },
  {
   "cell_type": "code",
   "execution_count": 333,
   "id": "3b5f1bc4-d4a1-4ba4-83cd-8893c4788c11",
   "metadata": {},
   "outputs": [
    {
     "data": {
      "text/html": [
       "<div>\n",
       "<style scoped>\n",
       "    .dataframe tbody tr th:only-of-type {\n",
       "        vertical-align: middle;\n",
       "    }\n",
       "\n",
       "    .dataframe tbody tr th {\n",
       "        vertical-align: top;\n",
       "    }\n",
       "\n",
       "    .dataframe thead th {\n",
       "        text-align: right;\n",
       "    }\n",
       "</style>\n",
       "<table border=\"1\" class=\"dataframe\">\n",
       "  <thead>\n",
       "    <tr style=\"text-align: right;\">\n",
       "      <th></th>\n",
       "      <th>Modele_DPE</th>\n",
       "      <th>Version_DPE</th>\n",
       "      <th>Methode_application_DPE</th>\n",
       "      <th>Etiquette_DPE</th>\n",
       "      <th>Etiquette_GES</th>\n",
       "      <th>Type_batiment</th>\n",
       "      <th>Hauteur_sous_plafond</th>\n",
       "      <th>Conso_5_usages_finale</th>\n",
       "      <th>Conso_5_usages_m2_finale</th>\n",
       "      <th>Conso_chauffage_finale</th>\n",
       "      <th>...</th>\n",
       "      <th>Nombre_niveau_immeuble</th>\n",
       "      <th>Nombre_niveau_logement</th>\n",
       "      <th>Surface_habitable_immeuble</th>\n",
       "      <th>Surface_habitable_logement</th>\n",
       "      <th>Score_BAN</th>\n",
       "      <th>Cout_chauffage_energie_num2</th>\n",
       "      <th>Cout_ECS_energie_num2</th>\n",
       "      <th>Type_energie_num2</th>\n",
       "      <th>Emission_GES_5_usages_energie_num2</th>\n",
       "      <th>Qualite_isolation_plancher_bas</th>\n",
       "    </tr>\n",
       "  </thead>\n",
       "  <tbody>\n",
       "    <tr>\n",
       "      <th>0</th>\n",
       "      <td>RT2012</td>\n",
       "      <td>1</td>\n",
       "      <td>dpe_etude_thermique_reglementaire_RT2012_batim...</td>\n",
       "      <td>C</td>\n",
       "      <td>C</td>\n",
       "      <td>maison</td>\n",
       "      <td>2.5</td>\n",
       "      <td>2780.9</td>\n",
       "      <td>64.4</td>\n",
       "      <td>1713.9</td>\n",
       "      <td>...</td>\n",
       "      <td>1.0</td>\n",
       "      <td>1.0</td>\n",
       "      <td>339.7</td>\n",
       "      <td>43.2</td>\n",
       "      <td>0.80</td>\n",
       "      <td>0.80</td>\n",
       "      <td>0.0</td>\n",
       "      <td>Electricite</td>\n",
       "      <td>2.4</td>\n",
       "      <td>bonne</td>\n",
       "    </tr>\n",
       "    <tr>\n",
       "      <th>1</th>\n",
       "      <td>RT2012</td>\n",
       "      <td>1</td>\n",
       "      <td>dpe_etude_thermique_reglementaire_RT2012_batim...</td>\n",
       "      <td>C</td>\n",
       "      <td>C</td>\n",
       "      <td>maison</td>\n",
       "      <td>2.5</td>\n",
       "      <td>4173.0</td>\n",
       "      <td>58.3</td>\n",
       "      <td>2613.0</td>\n",
       "      <td>...</td>\n",
       "      <td>1.0</td>\n",
       "      <td>1.0</td>\n",
       "      <td>71.6</td>\n",
       "      <td>71.6</td>\n",
       "      <td>0.21</td>\n",
       "      <td>0.21</td>\n",
       "      <td>3.0</td>\n",
       "      <td>Electricite</td>\n",
       "      <td>12.7</td>\n",
       "      <td>tres_bonne</td>\n",
       "    </tr>\n",
       "    <tr>\n",
       "      <th>2</th>\n",
       "      <td>RT2012</td>\n",
       "      <td>1_1</td>\n",
       "      <td>dpe_etude_thermique_RT2012_batiment_appartement</td>\n",
       "      <td>C</td>\n",
       "      <td>C</td>\n",
       "      <td>appartement</td>\n",
       "      <td>2.5</td>\n",
       "      <td>2401.9</td>\n",
       "      <td>54.1</td>\n",
       "      <td>1147.8</td>\n",
       "      <td>...</td>\n",
       "      <td>1.0</td>\n",
       "      <td>1.0</td>\n",
       "      <td>1128.2</td>\n",
       "      <td>44.4</td>\n",
       "      <td>0.72</td>\n",
       "      <td>0.72</td>\n",
       "      <td>0.0</td>\n",
       "      <td>Electricite</td>\n",
       "      <td>1.9</td>\n",
       "      <td>bonne</td>\n",
       "    </tr>\n",
       "    <tr>\n",
       "      <th>3</th>\n",
       "      <td>RT2012</td>\n",
       "      <td>2</td>\n",
       "      <td>dpe_etude_thermique_reglementaire_RT2012_batim...</td>\n",
       "      <td>C</td>\n",
       "      <td>C</td>\n",
       "      <td>maison</td>\n",
       "      <td>2.5</td>\n",
       "      <td>6651.3</td>\n",
       "      <td>63.7</td>\n",
       "      <td>5452.0</td>\n",
       "      <td>...</td>\n",
       "      <td>1.0</td>\n",
       "      <td>1.0</td>\n",
       "      <td>104.5</td>\n",
       "      <td>104.5</td>\n",
       "      <td>0.33</td>\n",
       "      <td>0.33</td>\n",
       "      <td>227.0</td>\n",
       "      <td>Electricite</td>\n",
       "      <td>22.5</td>\n",
       "      <td>tres_bonne</td>\n",
       "    </tr>\n",
       "    <tr>\n",
       "      <th>4</th>\n",
       "      <td>RT2012</td>\n",
       "      <td>1_1</td>\n",
       "      <td>dpe_etude_thermique_RT2012_batiment_appartement</td>\n",
       "      <td>C</td>\n",
       "      <td>C</td>\n",
       "      <td>appartement</td>\n",
       "      <td>2.5</td>\n",
       "      <td>4856.8</td>\n",
       "      <td>88.7</td>\n",
       "      <td>3301.6</td>\n",
       "      <td>...</td>\n",
       "      <td>1.0</td>\n",
       "      <td>1.0</td>\n",
       "      <td>1738.3</td>\n",
       "      <td>54.7</td>\n",
       "      <td>0.82</td>\n",
       "      <td>0.82</td>\n",
       "      <td>4.4</td>\n",
       "      <td>Electricite</td>\n",
       "      <td>2.8</td>\n",
       "      <td>bonne</td>\n",
       "    </tr>\n",
       "  </tbody>\n",
       "</table>\n",
       "<p>5 rows × 66 columns</p>\n",
       "</div>"
      ],
      "text/plain": [
       "  Modele_DPE Version_DPE                            Methode_application_DPE  \\\n",
       "0     RT2012           1  dpe_etude_thermique_reglementaire_RT2012_batim...   \n",
       "1     RT2012           1  dpe_etude_thermique_reglementaire_RT2012_batim...   \n",
       "2     RT2012         1_1    dpe_etude_thermique_RT2012_batiment_appartement   \n",
       "3     RT2012           2  dpe_etude_thermique_reglementaire_RT2012_batim...   \n",
       "4     RT2012         1_1    dpe_etude_thermique_RT2012_batiment_appartement   \n",
       "\n",
       "  Etiquette_DPE Etiquette_GES Type_batiment  Hauteur_sous_plafond  \\\n",
       "0             C             C        maison                   2.5   \n",
       "1             C             C        maison                   2.5   \n",
       "2             C             C   appartement                   2.5   \n",
       "3             C             C        maison                   2.5   \n",
       "4             C             C   appartement                   2.5   \n",
       "\n",
       "   Conso_5_usages_finale  Conso_5_usages_m2_finale  Conso_chauffage_finale  \\\n",
       "0                 2780.9                      64.4                  1713.9   \n",
       "1                 4173.0                      58.3                  2613.0   \n",
       "2                 2401.9                      54.1                  1147.8   \n",
       "3                 6651.3                      63.7                  5452.0   \n",
       "4                 4856.8                      88.7                  3301.6   \n",
       "\n",
       "   ...  Nombre_niveau_immeuble  Nombre_niveau_logement  \\\n",
       "0  ...                     1.0                     1.0   \n",
       "1  ...                     1.0                     1.0   \n",
       "2  ...                     1.0                     1.0   \n",
       "3  ...                     1.0                     1.0   \n",
       "4  ...                     1.0                     1.0   \n",
       "\n",
       "   Surface_habitable_immeuble  Surface_habitable_logement  Score_BAN  \\\n",
       "0                       339.7                        43.2       0.80   \n",
       "1                        71.6                        71.6       0.21   \n",
       "2                      1128.2                        44.4       0.72   \n",
       "3                       104.5                       104.5       0.33   \n",
       "4                      1738.3                        54.7       0.82   \n",
       "\n",
       "   Cout_chauffage_energie_num2  Cout_ECS_energie_num2  Type_energie_num2  \\\n",
       "0                         0.80                    0.0        Electricite   \n",
       "1                         0.21                    3.0        Electricite   \n",
       "2                         0.72                    0.0        Electricite   \n",
       "3                         0.33                  227.0        Electricite   \n",
       "4                         0.82                    4.4        Electricite   \n",
       "\n",
       "   Emission_GES_5_usages_energie_num2  Qualite_isolation_plancher_bas  \n",
       "0                                 2.4                           bonne  \n",
       "1                                12.7                      tres_bonne  \n",
       "2                                 1.9                           bonne  \n",
       "3                                22.5                      tres_bonne  \n",
       "4                                 2.8                           bonne  \n",
       "\n",
       "[5 rows x 66 columns]"
      ]
     },
     "execution_count": 333,
     "metadata": {},
     "output_type": "execute_result"
    }
   ],
   "source": [
    "df.head()\n",
    "\n"
   ]
  },
  {
   "cell_type": "code",
   "execution_count": 334,
   "id": "b8e4169e-cdb3-48a4-9c7d-acde5433dc51",
   "metadata": {},
   "outputs": [
    {
     "data": {
      "text/html": [
       "<div>\n",
       "<style scoped>\n",
       "    .dataframe tbody tr th:only-of-type {\n",
       "        vertical-align: middle;\n",
       "    }\n",
       "\n",
       "    .dataframe tbody tr th {\n",
       "        vertical-align: top;\n",
       "    }\n",
       "\n",
       "    .dataframe thead th {\n",
       "        text-align: right;\n",
       "    }\n",
       "</style>\n",
       "<table border=\"1\" class=\"dataframe\">\n",
       "  <thead>\n",
       "    <tr style=\"text-align: right;\">\n",
       "      <th></th>\n",
       "      <th>Hauteur_sous_plafond</th>\n",
       "      <th>Conso_5_usages_finale</th>\n",
       "      <th>Conso_5_usages_m2_finale</th>\n",
       "      <th>Conso_chauffage_finale</th>\n",
       "      <th>Conso_chauffage_depensier_finale</th>\n",
       "      <th>Conso_eclairage_finale</th>\n",
       "      <th>Conso_ECS_finale</th>\n",
       "      <th>Conso_ECS_depensier_finale</th>\n",
       "      <th>Conso_refroidissement_finale</th>\n",
       "      <th>Conso_refroidissement_depensier_finale</th>\n",
       "      <th>...</th>\n",
       "      <th>Ubat_W_m2_K</th>\n",
       "      <th>Nombre_appartement</th>\n",
       "      <th>Nombre_niveau_immeuble</th>\n",
       "      <th>Nombre_niveau_logement</th>\n",
       "      <th>Surface_habitable_immeuble</th>\n",
       "      <th>Surface_habitable_logement</th>\n",
       "      <th>Score_BAN</th>\n",
       "      <th>Cout_chauffage_energie_num2</th>\n",
       "      <th>Cout_ECS_energie_num2</th>\n",
       "      <th>Emission_GES_5_usages_energie_num2</th>\n",
       "    </tr>\n",
       "  </thead>\n",
       "  <tbody>\n",
       "    <tr>\n",
       "      <th>count</th>\n",
       "      <td>10000.000000</td>\n",
       "      <td>1.000000e+04</td>\n",
       "      <td>10000.000000</td>\n",
       "      <td>1.000000e+04</td>\n",
       "      <td>1.000000e+04</td>\n",
       "      <td>1.000000e+04</td>\n",
       "      <td>10000.000000</td>\n",
       "      <td>10000.000000</td>\n",
       "      <td>10000.000000</td>\n",
       "      <td>10000.000000</td>\n",
       "      <td>...</td>\n",
       "      <td>10000.000000</td>\n",
       "      <td>10000.000000</td>\n",
       "      <td>10000.000000</td>\n",
       "      <td>10000.000000</td>\n",
       "      <td>10000.00000</td>\n",
       "      <td>10000.000000</td>\n",
       "      <td>10000.000000</td>\n",
       "      <td>10000.000000</td>\n",
       "      <td>10000.000000</td>\n",
       "      <td>10000.000000</td>\n",
       "    </tr>\n",
       "    <tr>\n",
       "      <th>mean</th>\n",
       "      <td>2.502770</td>\n",
       "      <td>5.371266e+03</td>\n",
       "      <td>52.734420</td>\n",
       "      <td>2.768912e+03</td>\n",
       "      <td>3.211937e+03</td>\n",
       "      <td>4.139889e+02</td>\n",
       "      <td>1854.552780</td>\n",
       "      <td>2614.054190</td>\n",
       "      <td>83.333430</td>\n",
       "      <td>97.515200</td>\n",
       "      <td>...</td>\n",
       "      <td>0.638885</td>\n",
       "      <td>34.530953</td>\n",
       "      <td>1.002600</td>\n",
       "      <td>1.067400</td>\n",
       "      <td>1750.83466</td>\n",
       "      <td>111.144440</td>\n",
       "      <td>0.649440</td>\n",
       "      <td>0.649440</td>\n",
       "      <td>74.168820</td>\n",
       "      <td>219.618360</td>\n",
       "    </tr>\n",
       "    <tr>\n",
       "      <th>std</th>\n",
       "      <td>0.084782</td>\n",
       "      <td>3.438525e+04</td>\n",
       "      <td>25.306916</td>\n",
       "      <td>1.844610e+04</td>\n",
       "      <td>2.139747e+04</td>\n",
       "      <td>1.212726e+04</td>\n",
       "      <td>7273.987456</td>\n",
       "      <td>10256.425708</td>\n",
       "      <td>3306.852926</td>\n",
       "      <td>3869.017801</td>\n",
       "      <td>...</td>\n",
       "      <td>6.183735</td>\n",
       "      <td>45.053609</td>\n",
       "      <td>0.085988</td>\n",
       "      <td>0.473371</td>\n",
       "      <td>1947.10717</td>\n",
       "      <td>1038.701731</td>\n",
       "      <td>0.151959</td>\n",
       "      <td>0.151959</td>\n",
       "      <td>240.952975</td>\n",
       "      <td>710.192104</td>\n",
       "    </tr>\n",
       "    <tr>\n",
       "      <th>min</th>\n",
       "      <td>2.400000</td>\n",
       "      <td>6.650000e+01</td>\n",
       "      <td>1.500000</td>\n",
       "      <td>0.000000e+00</td>\n",
       "      <td>0.000000e+00</td>\n",
       "      <td>3.500000e+00</td>\n",
       "      <td>0.000000</td>\n",
       "      <td>0.000000</td>\n",
       "      <td>0.000000</td>\n",
       "      <td>0.000000</td>\n",
       "      <td>...</td>\n",
       "      <td>0.160000</td>\n",
       "      <td>1.000000</td>\n",
       "      <td>1.000000</td>\n",
       "      <td>1.000000</td>\n",
       "      <td>39.60000</td>\n",
       "      <td>9.500000</td>\n",
       "      <td>0.160000</td>\n",
       "      <td>0.160000</td>\n",
       "      <td>0.000000</td>\n",
       "      <td>0.000000</td>\n",
       "    </tr>\n",
       "    <tr>\n",
       "      <th>25%</th>\n",
       "      <td>2.500000</td>\n",
       "      <td>2.142575e+03</td>\n",
       "      <td>30.800000</td>\n",
       "      <td>1.001575e+03</td>\n",
       "      <td>1.161800e+03</td>\n",
       "      <td>3.840000e+01</td>\n",
       "      <td>663.000000</td>\n",
       "      <td>933.800000</td>\n",
       "      <td>0.000000</td>\n",
       "      <td>0.000000</td>\n",
       "      <td>...</td>\n",
       "      <td>0.360000</td>\n",
       "      <td>6.000000</td>\n",
       "      <td>1.000000</td>\n",
       "      <td>1.000000</td>\n",
       "      <td>490.65000</td>\n",
       "      <td>46.500000</td>\n",
       "      <td>0.540000</td>\n",
       "      <td>0.540000</td>\n",
       "      <td>0.000000</td>\n",
       "      <td>3.400000</td>\n",
       "    </tr>\n",
       "    <tr>\n",
       "      <th>50%</th>\n",
       "      <td>2.500000</td>\n",
       "      <td>3.194150e+03</td>\n",
       "      <td>54.750000</td>\n",
       "      <td>1.610700e+03</td>\n",
       "      <td>1.868400e+03</td>\n",
       "      <td>9.295000e+01</td>\n",
       "      <td>1325.200000</td>\n",
       "      <td>1868.200000</td>\n",
       "      <td>0.000000</td>\n",
       "      <td>0.000000</td>\n",
       "      <td>...</td>\n",
       "      <td>0.540000</td>\n",
       "      <td>26.000000</td>\n",
       "      <td>1.000000</td>\n",
       "      <td>1.000000</td>\n",
       "      <td>1557.50000</td>\n",
       "      <td>66.000000</td>\n",
       "      <td>0.660000</td>\n",
       "      <td>0.660000</td>\n",
       "      <td>43.200000</td>\n",
       "      <td>19.200000</td>\n",
       "    </tr>\n",
       "    <tr>\n",
       "      <th>75%</th>\n",
       "      <td>2.500000</td>\n",
       "      <td>4.446875e+03</td>\n",
       "      <td>69.900000</td>\n",
       "      <td>2.503125e+03</td>\n",
       "      <td>2.903675e+03</td>\n",
       "      <td>1.736000e+02</td>\n",
       "      <td>1704.450000</td>\n",
       "      <td>2403.250000</td>\n",
       "      <td>0.000000</td>\n",
       "      <td>0.000000</td>\n",
       "      <td>...</td>\n",
       "      <td>0.660000</td>\n",
       "      <td>39.000000</td>\n",
       "      <td>1.000000</td>\n",
       "      <td>1.000000</td>\n",
       "      <td>2210.00000</td>\n",
       "      <td>90.200000</td>\n",
       "      <td>0.780000</td>\n",
       "      <td>0.780000</td>\n",
       "      <td>74.200000</td>\n",
       "      <td>219.600000</td>\n",
       "    </tr>\n",
       "    <tr>\n",
       "      <th>max</th>\n",
       "      <td>8.400000</td>\n",
       "      <td>2.071563e+06</td>\n",
       "      <td>435.000000</td>\n",
       "      <td>1.515023e+06</td>\n",
       "      <td>1.757427e+06</td>\n",
       "      <td>1.075785e+06</td>\n",
       "      <td>347568.000000</td>\n",
       "      <td>490070.900000</td>\n",
       "      <td>234047.000000</td>\n",
       "      <td>273835.000000</td>\n",
       "      <td>...</td>\n",
       "      <td>432.430000</td>\n",
       "      <td>333.000000</td>\n",
       "      <td>6.000000</td>\n",
       "      <td>9.000000</td>\n",
       "      <td>87682.00000</td>\n",
       "      <td>87682.000000</td>\n",
       "      <td>0.990000</td>\n",
       "      <td>0.990000</td>\n",
       "      <td>11547.000000</td>\n",
       "      <td>37322.600000</td>\n",
       "    </tr>\n",
       "  </tbody>\n",
       "</table>\n",
       "<p>8 rows × 53 columns</p>\n",
       "</div>"
      ],
      "text/plain": [
       "       Hauteur_sous_plafond  Conso_5_usages_finale  Conso_5_usages_m2_finale  \\\n",
       "count          10000.000000           1.000000e+04              10000.000000   \n",
       "mean               2.502770           5.371266e+03                 52.734420   \n",
       "std                0.084782           3.438525e+04                 25.306916   \n",
       "min                2.400000           6.650000e+01                  1.500000   \n",
       "25%                2.500000           2.142575e+03                 30.800000   \n",
       "50%                2.500000           3.194150e+03                 54.750000   \n",
       "75%                2.500000           4.446875e+03                 69.900000   \n",
       "max                8.400000           2.071563e+06                435.000000   \n",
       "\n",
       "       Conso_chauffage_finale  Conso_chauffage_depensier_finale  \\\n",
       "count            1.000000e+04                      1.000000e+04   \n",
       "mean             2.768912e+03                      3.211937e+03   \n",
       "std              1.844610e+04                      2.139747e+04   \n",
       "min              0.000000e+00                      0.000000e+00   \n",
       "25%              1.001575e+03                      1.161800e+03   \n",
       "50%              1.610700e+03                      1.868400e+03   \n",
       "75%              2.503125e+03                      2.903675e+03   \n",
       "max              1.515023e+06                      1.757427e+06   \n",
       "\n",
       "       Conso_eclairage_finale  Conso_ECS_finale  Conso_ECS_depensier_finale  \\\n",
       "count            1.000000e+04      10000.000000                10000.000000   \n",
       "mean             4.139889e+02       1854.552780                 2614.054190   \n",
       "std              1.212726e+04       7273.987456                10256.425708   \n",
       "min              3.500000e+00          0.000000                    0.000000   \n",
       "25%              3.840000e+01        663.000000                  933.800000   \n",
       "50%              9.295000e+01       1325.200000                 1868.200000   \n",
       "75%              1.736000e+02       1704.450000                 2403.250000   \n",
       "max              1.075785e+06     347568.000000               490070.900000   \n",
       "\n",
       "       Conso_refroidissement_finale  Conso_refroidissement_depensier_finale  \\\n",
       "count                  10000.000000                            10000.000000   \n",
       "mean                      83.333430                               97.515200   \n",
       "std                     3306.852926                             3869.017801   \n",
       "min                        0.000000                                0.000000   \n",
       "25%                        0.000000                                0.000000   \n",
       "50%                        0.000000                                0.000000   \n",
       "75%                        0.000000                                0.000000   \n",
       "max                   234047.000000                           273835.000000   \n",
       "\n",
       "       ...   Ubat_W_m2_K  Nombre_appartement  Nombre_niveau_immeuble  \\\n",
       "count  ...  10000.000000        10000.000000            10000.000000   \n",
       "mean   ...      0.638885           34.530953                1.002600   \n",
       "std    ...      6.183735           45.053609                0.085988   \n",
       "min    ...      0.160000            1.000000                1.000000   \n",
       "25%    ...      0.360000            6.000000                1.000000   \n",
       "50%    ...      0.540000           26.000000                1.000000   \n",
       "75%    ...      0.660000           39.000000                1.000000   \n",
       "max    ...    432.430000          333.000000                6.000000   \n",
       "\n",
       "       Nombre_niveau_logement  Surface_habitable_immeuble  \\\n",
       "count            10000.000000                 10000.00000   \n",
       "mean                 1.067400                  1750.83466   \n",
       "std                  0.473371                  1947.10717   \n",
       "min                  1.000000                    39.60000   \n",
       "25%                  1.000000                   490.65000   \n",
       "50%                  1.000000                  1557.50000   \n",
       "75%                  1.000000                  2210.00000   \n",
       "max                  9.000000                 87682.00000   \n",
       "\n",
       "       Surface_habitable_logement     Score_BAN  Cout_chauffage_energie_num2  \\\n",
       "count                10000.000000  10000.000000                 10000.000000   \n",
       "mean                   111.144440      0.649440                     0.649440   \n",
       "std                   1038.701731      0.151959                     0.151959   \n",
       "min                      9.500000      0.160000                     0.160000   \n",
       "25%                     46.500000      0.540000                     0.540000   \n",
       "50%                     66.000000      0.660000                     0.660000   \n",
       "75%                     90.200000      0.780000                     0.780000   \n",
       "max                  87682.000000      0.990000                     0.990000   \n",
       "\n",
       "       Cout_ECS_energie_num2  Emission_GES_5_usages_energie_num2  \n",
       "count           10000.000000                        10000.000000  \n",
       "mean               74.168820                          219.618360  \n",
       "std               240.952975                          710.192104  \n",
       "min                 0.000000                            0.000000  \n",
       "25%                 0.000000                            3.400000  \n",
       "50%                43.200000                           19.200000  \n",
       "75%                74.200000                          219.600000  \n",
       "max             11547.000000                        37322.600000  \n",
       "\n",
       "[8 rows x 53 columns]"
      ]
     },
     "execution_count": 334,
     "metadata": {},
     "output_type": "execute_result"
    }
   ],
   "source": [
    "df.describe()\n",
    "\n"
   ]
  },
  {
   "cell_type": "code",
   "execution_count": 335,
   "id": "8e79ea0d-a39b-470b-81ab-49a8b59c088b",
   "metadata": {},
   "outputs": [
    {
     "data": {
      "text/plain": [
       "(10000, 66)"
      ]
     },
     "execution_count": 335,
     "metadata": {},
     "output_type": "execute_result"
    }
   ],
   "source": [
    "df.shape\n",
    "\n"
   ]
  },
  {
   "cell_type": "code",
   "execution_count": 336,
   "id": "8f27ebd9-93e7-4069-abc1-334ffcd42bf8",
   "metadata": {},
   "outputs": [
    {
     "name": "stdout",
     "output_type": "stream",
     "text": [
      "<class 'pandas.core.frame.DataFrame'>\n",
      "RangeIndex: 10000 entries, 0 to 9999\n",
      "Data columns (total 66 columns):\n",
      " #   Column                                    Non-Null Count  Dtype  \n",
      "---  ------                                    --------------  -----  \n",
      " 0   Modele_DPE                                10000 non-null  object \n",
      " 1   Version_DPE                               10000 non-null  object \n",
      " 2   Methode_application_DPE                   10000 non-null  object \n",
      " 3   Etiquette_DPE                             10000 non-null  object \n",
      " 4   Etiquette_GES                             10000 non-null  object \n",
      " 5   Type_batiment                             10000 non-null  object \n",
      " 6   Hauteur_sous_plafond                      10000 non-null  float64\n",
      " 7   Conso_5_usages_finale                     10000 non-null  float64\n",
      " 8   Conso_5_usages_m2_finale                  10000 non-null  float64\n",
      " 9   Conso_chauffage_finale                    10000 non-null  float64\n",
      " 10  Conso_chauffage_depensier_finale          10000 non-null  float64\n",
      " 11  Conso_eclairage_finale                    10000 non-null  float64\n",
      " 12  Conso_ECS_finale                          10000 non-null  float64\n",
      " 13  Conso_ECS_depensier_finale                10000 non-null  float64\n",
      " 14  Conso_refroidissement_finale              10000 non-null  float64\n",
      " 15  Conso_refroidissement_depensier_finale    10000 non-null  float64\n",
      " 16  Conso_auxiliaires_finale                  10000 non-null  float64\n",
      " 17  Conso_5_usages_primaire                   10000 non-null  float64\n",
      " 18  Conso_5_usages_par_m2_primaire            10000 non-null  float64\n",
      " 19  Conso_chauffage_primaire                  10000 non-null  float64\n",
      " 20  Conso_chauffage_depensier_primaire        10000 non-null  float64\n",
      " 21  Conso_eclairage_primaire                  10000 non-null  float64\n",
      " 22  Conso_ECS_primaire                        10000 non-null  float64\n",
      " 23  Conso_ECS_depensier_primaire              10000 non-null  float64\n",
      " 24  Conso_refroidissement_primaire            10000 non-null  float64\n",
      " 25  Conso_refroidissement_depensier_primaire  10000 non-null  float64\n",
      " 26  Conso_auxiliaires_primaire                10000 non-null  float64\n",
      " 27  Emission_GES_5_usages                     10000 non-null  float64\n",
      " 28  Emission_GES_5_usages_par_m2              10000 non-null  float64\n",
      " 29  Emission_GES_chauffage                    10000 non-null  float64\n",
      " 30  Emission_GES_chauffage_depensier          10000 non-null  float64\n",
      " 31  Emission_GES_eclairage                    10000 non-null  float64\n",
      " 32  Emission_GES_ECS                          10000 non-null  float64\n",
      " 33  Emission_GES_ECS_depensier                10000 non-null  float64\n",
      " 34  Emission_GES_refroidissement              10000 non-null  float64\n",
      " 35  Emission_GES_refroidissement_depensier    10000 non-null  float64\n",
      " 36  Emission_GES_auxiliaires                  10000 non-null  float64\n",
      " 37  Cout_chauffage_energie_num1               10000 non-null  float64\n",
      " 38  Cout_ECS_energie_num1                     10000 non-null  float64\n",
      " 39  Emission_GES_5_usages_energie_num1        10000 non-null  float64\n",
      " 40  Type_energie_num1                         10000 non-null  object \n",
      " 41  Cout_total_5_usages                       10000 non-null  float64\n",
      " 42  Cout_chauffage                            10000 non-null  float64\n",
      " 43  Cout_chauffage_depensier                  10000 non-null  float64\n",
      " 44  Cout_eclairage                            10000 non-null  float64\n",
      " 45  Cout_ECS_depensier                        10000 non-null  float64\n",
      " 46  Cout_ECS                                  10000 non-null  float64\n",
      " 47  Cout_refroidissement                      10000 non-null  float64\n",
      " 48  Cout_refroidissement_depensier            10000 non-null  float64\n",
      " 49  Cout_auxiliaires                          10000 non-null  float64\n",
      " 50  Qualite_isolation_enveloppe               10000 non-null  object \n",
      " 51  Qualite_isolation_menuiseries             10000 non-null  object \n",
      " 52  Qualite_isolation_murs                    10000 non-null  object \n",
      " 53  Ubat_W_m2_K                               10000 non-null  float64\n",
      " 54  Appartement_non_visite_0_1                10000 non-null  object \n",
      " 55  Nombre_appartement                        10000 non-null  float64\n",
      " 56  Nombre_niveau_immeuble                    10000 non-null  float64\n",
      " 57  Nombre_niveau_logement                    10000 non-null  float64\n",
      " 58  Surface_habitable_immeuble                10000 non-null  float64\n",
      " 59  Surface_habitable_logement                10000 non-null  float64\n",
      " 60  Score_BAN                                 10000 non-null  float64\n",
      " 61  Cout_chauffage_energie_num2               10000 non-null  float64\n",
      " 62  Cout_ECS_energie_num2                     10000 non-null  float64\n",
      " 63  Type_energie_num2                         10000 non-null  object \n",
      " 64  Emission_GES_5_usages_energie_num2        10000 non-null  float64\n",
      " 65  Qualite_isolation_plancher_bas            10000 non-null  object \n",
      "dtypes: float64(53), object(13)\n",
      "memory usage: 5.0+ MB\n"
     ]
    }
   ],
   "source": [
    "df.info()\n",
    "\n"
   ]
  },
  {
   "cell_type": "code",
   "execution_count": 337,
   "id": "0411feb1-0ca3-4426-90ec-9264ff1da00f",
   "metadata": {},
   "outputs": [
    {
     "data": {
      "text/plain": [
       "Modele_DPE                            0\n",
       "Version_DPE                           0\n",
       "Methode_application_DPE               0\n",
       "Etiquette_DPE                         0\n",
       "Etiquette_GES                         0\n",
       "                                     ..\n",
       "Cout_chauffage_energie_num2           0\n",
       "Cout_ECS_energie_num2                 0\n",
       "Type_energie_num2                     0\n",
       "Emission_GES_5_usages_energie_num2    0\n",
       "Qualite_isolation_plancher_bas        0\n",
       "Length: 66, dtype: int64"
      ]
     },
     "execution_count": 337,
     "metadata": {},
     "output_type": "execute_result"
    }
   ],
   "source": [
    "df.isna().sum()\n",
    "\n"
   ]
  },
  {
   "cell_type": "code",
   "execution_count": 338,
   "id": "b9c7129f-3e75-4ea3-ac51-9b3243c173fa",
   "metadata": {},
   "outputs": [
    {
     "data": {
      "text/plain": [
       "283"
      ]
     },
     "execution_count": 338,
     "metadata": {},
     "output_type": "execute_result"
    }
   ],
   "source": [
    "df.duplicated().sum()\n",
    "\n"
   ]
  },
  {
   "cell_type": "code",
   "execution_count": 339,
   "id": "dfa5fdd3-bd7b-4d6a-a9f0-94b9b104c588",
   "metadata": {},
   "outputs": [],
   "source": [
    "df_test = df.copy()\n",
    "\n"
   ]
  },
  {
   "cell_type": "code",
   "execution_count": 340,
   "id": "16ad3657-e28c-4c7b-b6bb-d181b804900c",
   "metadata": {},
   "outputs": [
    {
     "name": "stdout",
     "output_type": "stream",
     "text": [
      "<class 'pandas.core.frame.DataFrame'>\n",
      "RangeIndex: 10000 entries, 0 to 9999\n",
      "Data columns (total 66 columns):\n",
      " #   Column                                    Non-Null Count  Dtype  \n",
      "---  ------                                    --------------  -----  \n",
      " 0   Modele_DPE                                10000 non-null  object \n",
      " 1   Version_DPE                               10000 non-null  object \n",
      " 2   Methode_application_DPE                   10000 non-null  object \n",
      " 3   Etiquette_DPE                             10000 non-null  object \n",
      " 4   Etiquette_GES                             10000 non-null  object \n",
      " 5   Type_batiment                             10000 non-null  object \n",
      " 6   Hauteur_sous_plafond                      10000 non-null  float64\n",
      " 7   Conso_5_usages_finale                     10000 non-null  float64\n",
      " 8   Conso_5_usages_m2_finale                  10000 non-null  float64\n",
      " 9   Conso_chauffage_finale                    10000 non-null  float64\n",
      " 10  Conso_chauffage_depensier_finale          10000 non-null  float64\n",
      " 11  Conso_eclairage_finale                    10000 non-null  float64\n",
      " 12  Conso_ECS_finale                          10000 non-null  float64\n",
      " 13  Conso_ECS_depensier_finale                10000 non-null  float64\n",
      " 14  Conso_refroidissement_finale              10000 non-null  float64\n",
      " 15  Conso_refroidissement_depensier_finale    10000 non-null  float64\n",
      " 16  Conso_auxiliaires_finale                  10000 non-null  float64\n",
      " 17  Conso_5_usages_primaire                   10000 non-null  float64\n",
      " 18  Conso_5_usages_par_m2_primaire            10000 non-null  float64\n",
      " 19  Conso_chauffage_primaire                  10000 non-null  float64\n",
      " 20  Conso_chauffage_depensier_primaire        10000 non-null  float64\n",
      " 21  Conso_eclairage_primaire                  10000 non-null  float64\n",
      " 22  Conso_ECS_primaire                        10000 non-null  float64\n",
      " 23  Conso_ECS_depensier_primaire              10000 non-null  float64\n",
      " 24  Conso_refroidissement_primaire            10000 non-null  float64\n",
      " 25  Conso_refroidissement_depensier_primaire  10000 non-null  float64\n",
      " 26  Conso_auxiliaires_primaire                10000 non-null  float64\n",
      " 27  Emission_GES_5_usages                     10000 non-null  float64\n",
      " 28  Emission_GES_5_usages_par_m2              10000 non-null  float64\n",
      " 29  Emission_GES_chauffage                    10000 non-null  float64\n",
      " 30  Emission_GES_chauffage_depensier          10000 non-null  float64\n",
      " 31  Emission_GES_eclairage                    10000 non-null  float64\n",
      " 32  Emission_GES_ECS                          10000 non-null  float64\n",
      " 33  Emission_GES_ECS_depensier                10000 non-null  float64\n",
      " 34  Emission_GES_refroidissement              10000 non-null  float64\n",
      " 35  Emission_GES_refroidissement_depensier    10000 non-null  float64\n",
      " 36  Emission_GES_auxiliaires                  10000 non-null  float64\n",
      " 37  Cout_chauffage_energie_num1               10000 non-null  float64\n",
      " 38  Cout_ECS_energie_num1                     10000 non-null  float64\n",
      " 39  Emission_GES_5_usages_energie_num1        10000 non-null  float64\n",
      " 40  Type_energie_num1                         10000 non-null  object \n",
      " 41  Cout_total_5_usages                       10000 non-null  float64\n",
      " 42  Cout_chauffage                            10000 non-null  float64\n",
      " 43  Cout_chauffage_depensier                  10000 non-null  float64\n",
      " 44  Cout_eclairage                            10000 non-null  float64\n",
      " 45  Cout_ECS_depensier                        10000 non-null  float64\n",
      " 46  Cout_ECS                                  10000 non-null  float64\n",
      " 47  Cout_refroidissement                      10000 non-null  float64\n",
      " 48  Cout_refroidissement_depensier            10000 non-null  float64\n",
      " 49  Cout_auxiliaires                          10000 non-null  float64\n",
      " 50  Qualite_isolation_enveloppe               10000 non-null  object \n",
      " 51  Qualite_isolation_menuiseries             10000 non-null  object \n",
      " 52  Qualite_isolation_murs                    10000 non-null  object \n",
      " 53  Ubat_W_m2_K                               10000 non-null  float64\n",
      " 54  Appartement_non_visite_0_1                10000 non-null  object \n",
      " 55  Nombre_appartement                        10000 non-null  float64\n",
      " 56  Nombre_niveau_immeuble                    10000 non-null  float64\n",
      " 57  Nombre_niveau_logement                    10000 non-null  float64\n",
      " 58  Surface_habitable_immeuble                10000 non-null  float64\n",
      " 59  Surface_habitable_logement                10000 non-null  float64\n",
      " 60  Score_BAN                                 10000 non-null  float64\n",
      " 61  Cout_chauffage_energie_num2               10000 non-null  float64\n",
      " 62  Cout_ECS_energie_num2                     10000 non-null  float64\n",
      " 63  Type_energie_num2                         10000 non-null  object \n",
      " 64  Emission_GES_5_usages_energie_num2        10000 non-null  float64\n",
      " 65  Qualite_isolation_plancher_bas            10000 non-null  object \n",
      "dtypes: float64(53), object(13)\n",
      "memory usage: 5.0+ MB\n"
     ]
    }
   ],
   "source": [
    "df_test.info()\n",
    "\n"
   ]
  },
  {
   "cell_type": "code",
   "execution_count": 341,
   "id": "9f87eb1a-1fd2-4145-8622-45dd0428f2f3",
   "metadata": {},
   "outputs": [
    {
     "name": "stdout",
     "output_type": "stream",
     "text": [
      "66\n"
     ]
    }
   ],
   "source": [
    "list_columns = list(df_test.columns.values.tolist())\n",
    "\n",
    "print(len(list_columns))\n",
    "\n"
   ]
  },
  {
   "cell_type": "code",
   "execution_count": 342,
   "id": "cf07cba2-fc00-4836-aa18-bc2597c03080",
   "metadata": {},
   "outputs": [],
   "source": [
    "#updatepath = os.path.join('..','data','dpe.csv')\n",
    "\n",
    "#df_test.to_csv(updatepath, index = False)\n",
    "\n"
   ]
  },
  {
   "cell_type": "code",
   "execution_count": 343,
   "id": "494f7a19-2f28-4d5c-9fb5-a9cec3ac00b6",
   "metadata": {},
   "outputs": [],
   "source": [
    "# df_sample = df_test.sample(n = 4, random_state=0)\n",
    "\n",
    "# updatepath = os.path.join('..','data','df_preprocessed.csv')\n",
    "\n",
    "# df_sample.to_csv(updatepath, index = False)\n",
    "\n"
   ]
  },
  {
   "cell_type": "code",
   "execution_count": 344,
   "id": "d82d6f11-5a28-40df-8f72-9b1f4031521a",
   "metadata": {},
   "outputs": [],
   "source": [
    "# df_sample = df_test.sample(100, random_state=0)\n",
    "\n",
    "# updatepath = os.path.join('..','data','df_preprocessed.csv')\n",
    "\n",
    "# df_sample.to_csv(updatepath, index = False)\n",
    "\n",
    "# df_test.drop(df_sample.index, inplace = True)\n",
    "\n"
   ]
  },
  {
   "cell_type": "code",
   "execution_count": 345,
   "id": "0b60e3f0-f2f7-410c-8d8d-a46d8ea92690",
   "metadata": {},
   "outputs": [
    {
     "data": {
      "text/plain": [
       "(10000, 66)"
      ]
     },
     "execution_count": 345,
     "metadata": {},
     "output_type": "execute_result"
    }
   ],
   "source": [
    "df_test.shape\n",
    "\n"
   ]
  },
  {
   "cell_type": "markdown",
   "id": "de076eee-4218-4451-83d1-9cf9b9b3399f",
   "metadata": {},
   "source": [
    "**Columns na values**\n",
    "\n"
   ]
  },
  {
   "cell_type": "code",
   "execution_count": 346,
   "id": "5ff10c1a-26b9-4c91-a027-e7fc3fa9ee31",
   "metadata": {},
   "outputs": [],
   "source": [
    "# na_values_columns = ['Appartement_non_visité_(0/1)', 'Nombre_appartement', 'Nombre_niveau_immeuble', 'Nombre_niveau_logement',\n",
    "#                      'Surface_habitable_immeuble', 'Surface_habitable_logement', 'Score_BAN', 'Coût_chauffage_énergie_n°2', \n",
    "#                      'Coût_ECS_énergie_n°2', 'Type_énergie_n°2', 'Emission_GES_5_usages_énergie_n°2', 'Qualité_isolation_plancher_bas']\n",
    "\n",
    "# df_na_values = df_test[na_values_columns]\n",
    "\n"
   ]
  },
  {
   "cell_type": "code",
   "execution_count": 347,
   "id": "c66c2451-f8aa-40ca-a603-debe2bde380a",
   "metadata": {},
   "outputs": [],
   "source": [
    "# df_na_values['Appartement_non_visité_(0/1)'] = df_na_values['Appartement_non_visité_(0/1)'].fillna('FAUX')\n",
    "# df_na_values['Nombre_appartement'] = df_na_values['Nombre_appartement'].fillna(df_na_values['Nombre_appartement'].mean())\n",
    "# df_na_values['Nombre_niveau_immeuble'] = df_na_values['Nombre_niveau_immeuble'].fillna(1.0)\n",
    "# df_na_values['Nombre_niveau_immeuble'] = df_na_values['Nombre_niveau_immeuble'].fillna(1.0)\n",
    "# df_na_values['Surface_habitable_immeuble'] = df_na_values['Surface_habitable_immeuble'].str.replace(',','.').astype(float)\n",
    "# df_na_values['Surface_habitable_immeuble'] = df_na_values['Surface_habitable_immeuble'].fillna(df_na_values['Surface_habitable_immeuble'].mean().round(1))\n",
    "# df_na_values['Score_BAN'] = df_na_values['Score_BAN'].str.replace(',','.').astype(float)\n",
    "# df_na_values['Score_BAN'] = df_na_values['Score_BAN'].fillna(df_na_values['Score_BAN'].mean().round(1))\n",
    "# df_na_values['Coût_chauffage_énergie_n°2'] = df_na_values['Coût_chauffage_énergie_n°2'].str.replace(',','.').astype(float)\n",
    "# df_na_values['Coût_chauffage_énergie_n°2'] = df_na_values['Score_BAN'].fillna(df_na_values['Coût_chauffage_énergie_n°2'].mean().round(1))\n",
    "# df_na_values['Coût_ECS_énergie_n°2'] = df_na_values['Coût_ECS_énergie_n°2'].str.replace(',','.').astype(float)\n",
    "# df_na_values['Coût_ECS_énergie_n°2'] = df_na_values['Coût_ECS_énergie_n°2'].fillna(df_na_values['Coût_ECS_énergie_n°2'].mean().round(1))\n",
    "# df_na_values['Type_énergie_n°2'] = df_na_values['Type_énergie_n°2'].fillna('Électricité')\n",
    "# df_na_values['Emission_GES_5_usages_énergie_n°2'] = df_na_values['Emission_GES_5_usages_énergie_n°2'].str.replace(',','.').astype(float)\n",
    "# df_na_values['Emission_GES_5_usages_énergie_n°2'] = df_na_values['Emission_GES_5_usages_énergie_n°2'].fillna(df_na_values['Emission_GES_5_usages_énergie_n°2'].mean().round(1))\n",
    "# df_na_values['Qualité_isolation_plancher_bas'] = df_na_values['Qualité_isolation_plancher_bas'].fillna('très bonne')\n",
    "# df_na_values['Nombre_niveau_logement'] = df_na_values['Nombre_niveau_logement'].fillna(1.0)\n",
    "# df_na_values['Surface_habitable_logement'] = df_na_values['Surface_habitable_logement'].str.replace(',','.').astype(float)\n",
    "# df_na_values['Surface_habitable_logement'] = df_na_values['Surface_habitable_logement'].fillna(df_na_values['Surface_habitable_logement'].mean().round(1))\n",
    "\n"
   ]
  },
  {
   "cell_type": "code",
   "execution_count": 348,
   "id": "fd05e762-e121-4b84-b4a3-ceda96843b4c",
   "metadata": {},
   "outputs": [],
   "source": [
    "# na_values_columns = ['Appartement_non_visité_(0/1)', 'Nombre_appartement', 'Nombre_niveau_immeuble', 'Nombre_niveau_logement',\n",
    "#                      'Surface_habitable_immeuble', 'Surface_habitable_logement', 'Score_BAN', 'Coût_chauffage_énergie_n°2', \n",
    "#                      'Coût_ECS_énergie_n°2', 'Type_énergie_n°2', 'Emission_GES_5_usages_énergie_n°2', 'Qualité_isolation_plancher_bas']\n",
    "\n",
    "# df_test.drop(labels = na_values_columns, axis = 1, inplace = True)\n",
    "\n",
    "# df_data = pd.concat([df_test, df_na_values], axis = 1)\n",
    "\n",
    "# print(\"df_data \", df_data.shape)\n",
    "\n"
   ]
  },
  {
   "cell_type": "code",
   "execution_count": 349,
   "id": "8d6f3695-3955-4bf9-b521-4d400c5497b9",
   "metadata": {},
   "outputs": [],
   "source": [
    "# df_data.info()\n",
    "\n"
   ]
  },
  {
   "cell_type": "code",
   "execution_count": 350,
   "id": "231062a6-3c2d-49d8-914b-5ea84d626ded",
   "metadata": {},
   "outputs": [],
   "source": [
    "# df_data['Version_DPE'] = df_data['Version_DPE'].str.replace(',','_')\n",
    "# df_data['Hauteur_sous-plafond'] = df_data['Hauteur_sous-plafond'].str.replace(',','.').astype(float)\n",
    "# df_data['Conso_5_usages_é_finale'] = df_data['Conso_5_usages_é_finale'].str.replace(',','.').astype(float)\n",
    "# df_data['Conso_5_usages/m²_é_finale'] = df_data['Conso_5_usages/m²_é_finale'].str.replace(',','.').astype(float)\n",
    "# df_data['Conso_chauffage_é_finale'] = df_data['Conso_chauffage_é_finale'].str.replace(',','.').astype(float)\n",
    "# df_data['Conso_chauffage_dépensier_é_finale'] = df_data['Conso_chauffage_dépensier_é_finale'].str.replace(',','.').astype(float)\n",
    "# df_data['Conso_éclairage_é_finale'] = df_data['Conso_éclairage_é_finale'].str.replace(',','.').astype(float)\n",
    "# df_data['Conso_ECS_é_finale'] = df_data['Conso_ECS_é_finale'].str.replace(',','.').astype(float)\n",
    "# df_data['Conso_ECS_dépensier_é_finale'] = df_data['Conso_ECS_dépensier_é_finale'].str.replace(',','.').astype(float)\n",
    "# df_data['Conso_refroidissement_é_finale'] = df_data['Conso_refroidissement_é_finale'].str.replace(',','.').astype(float)\n",
    "# df_data['Conso_refroidissement_dépensier_é_finale'] = df_data['Conso_refroidissement_dépensier_é_finale'].str.replace(',','.').astype(float)\n",
    "# df_data['Conso_auxiliaires_é_finale'] = df_data['Conso_auxiliaires_é_finale'].str.replace(',','.').astype(float)\n",
    "# df_data['Conso_5_usages_é_primaire'] = df_data['Conso_5_usages_é_primaire'].str.replace(',','.').astype(float)\n",
    "# df_data['Conso_5_usages_par_m²_é_primaire'] = df_data['Conso_5_usages_par_m²_é_primaire'].str.replace(',','.').astype(float)\n",
    "# df_data['Conso_chauffage_é_primaire'] = df_data['Conso_chauffage_é_primaire'].str.replace(',','.').astype(float)\n",
    "# df_data['Conso_chauffage_dépensier_é_primaire'] = df_data['Conso_chauffage_dépensier_é_primaire'].str.replace(',','.').astype(float)\n",
    "# df_data['Conso_éclairage_é_primaire'] = df_data['Conso_éclairage_é_primaire'].str.replace(',','.').astype(float)\n",
    "# df_data['Conso_ECS_é_primaire'] = df_data['Conso_ECS_é_primaire'].str.replace(',','.').astype(float)\n",
    "# df_data['Conso_ECS_dépensier_é_primaire'] = df_data['Conso_ECS_dépensier_é_primaire'].str.replace(',','.').astype(float)\n",
    "# df_data['Conso_refroidissement_é_primaire'] = df_data['Conso_refroidissement_é_primaire'].str.replace(',','.').astype(float)\n",
    "# df_data['Conso_refroidissement_dépensier_é_primaire'] = df_data['Conso_refroidissement_dépensier_é_primaire'].str.replace(',','.').astype(float)\n",
    "# df_data['Conso_auxiliaires_é_primaire'] = df_data['Conso_auxiliaires_é_primaire'].str.replace(',','.').astype(float)\n",
    "# df_data['Emission_GES_5_usages'] = df_data['Emission_GES_5_usages'].str.replace(',','.').astype(float)\n",
    "# df_data['Emission_GES_5_usages_par_m²'] = df_data['Emission_GES_5_usages_par_m²'].str.replace(',','.').astype(float)\n",
    "# df_data['Emission_GES_chauffage'] = df_data['Emission_GES_chauffage'].str.replace(',','.').astype(float)\n",
    "# df_data['Emission_GES_chauffage_dépensier'] = df_data['Emission_GES_chauffage_dépensier'].str.replace(',','.').astype(float)\n",
    "# df_data['Emission_GES_éclairage'] = df_data['Emission_GES_éclairage'].str.replace(',','.').astype(float)\n",
    "# df_data['Emission_GES_ECS'] = df_data['Emission_GES_ECS'].str.replace(',','.').astype(float)\n",
    "# df_data['Emission_GES_ECS_dépensier'] = df_data['Emission_GES_ECS_dépensier'].str.replace(',','.').astype(float)\n",
    "# df_data['Emission_GES_refroidissement'] = df_data['Emission_GES_refroidissement'].str.replace(',','.').astype(float)\n",
    "# df_data['Emission_GES_refroidissement_dépensier'] = df_data['Emission_GES_refroidissement_dépensier'].str.replace(',','.').astype(float)\n",
    "# df_data['Emission_GES_auxiliaires'] = df_data['Emission_GES_auxiliaires'].str.replace(',','.').astype(float)\n",
    "# df_data['Coût_chauffage_énergie_n°1'] = df_data['Coût_chauffage_énergie_n°1'].str.replace(',','.').astype(float)\n",
    "# df_data['Coût_ECS_énergie_n°1'] = df_data['Coût_ECS_énergie_n°1'].str.replace(',','.').astype(float)\n",
    "# df_data['Emission_GES_5_usages_énergie_n°1'] = df_data['Emission_GES_5_usages_énergie_n°1'].str.replace(',','.').astype(float)\n",
    "# df_data['Coût_total_5_usages'] = df_data['Coût_total_5_usages'].str.replace(',','.').astype(float)\n",
    "# df_data['Coût_chauffage'] = df_data['Coût_chauffage'].str.replace(',','.').astype(float)\n",
    "# df_data['Coût_chauffage_dépensier'] = df_data['Coût_chauffage_dépensier'].str.replace(',','.').astype(float)\n",
    "# df_data['Coût_éclairage'] = df_data['Coût_éclairage'].str.replace(',','.').astype(float)\n",
    "# df_data['Coût_ECS_dépensier'] = df_data['Coût_ECS_dépensier'].str.replace(',','.').astype(float)\n",
    "# df_data['Coût_ECS'] = df_data['Coût_ECS'].str.replace(',','.').astype(float)\n",
    "# df_data['Coût_refroidissement'] = df_data['Coût_refroidissement'].str.replace(',','.').astype(float)\n",
    "# df_data['Coût_refroidissement_dépensier'] = df_data['Coût_refroidissement_dépensier'].str.replace(',','.').astype(float)\n",
    "# df_data['Coût_auxiliaires'] = df_data['Coût_auxiliaires'].str.replace(',','.').astype(float)\n",
    "# df_data['Ubat_W/m²_K'] = df_data['Ubat_W/m²_K'].str.replace(',','.').astype(float)\n",
    "\n"
   ]
  },
  {
   "cell_type": "code",
   "execution_count": 351,
   "id": "cae85ddb-fe74-432c-9173-01db6e53cc06",
   "metadata": {},
   "outputs": [],
   "source": [
    "#updatepath = os.path.join('..','data','dpe-update.csv')\n",
    "\n",
    "#df_data.to_csv(updatepath, index = False)\n",
    "\n"
   ]
  },
  {
   "cell_type": "code",
   "execution_count": 352,
   "id": "de40ca97-80ab-4b8d-b061-1b9aad1ec161",
   "metadata": {},
   "outputs": [],
   "source": [
    "# df_data.info()\n",
    "\n"
   ]
  },
  {
   "cell_type": "code",
   "execution_count": 353,
   "id": "5dae576b-0c84-472e-a652-03b72f2dccf1",
   "metadata": {},
   "outputs": [],
   "source": [
    "# dict_columns={'Modèle_DPE':'Modele_DPE',\n",
    "#         'Méthode_application_DPE':'Methode_application_DPE',\n",
    "#          'Type_bâtiment':'Type_batiment',\n",
    "#          'Hauteur_sous-plafond':'Hauteur_sous_plafond',\n",
    "#          'Conso_5_usages_é_finale':'Conso_5_usages_finale',\n",
    "#          'Conso_5_usages/m²_é_finale':'Conso_5_usages_m2_finale',\n",
    "#          'Conso_chauffage_é_finale':'Conso_chauffage_finale',\n",
    "#          'Conso_chauffage_dépensier_é_finale':'Conso_chauffage_depensier_finale',\n",
    "#          'Conso_éclairage_é_finale':'Conso_eclairage_finale',\n",
    "#          'Conso_ECS_é_finale':'Conso_ECS_finale',\n",
    "#          'Conso_ECS_dépensier_é_finale':'Conso_ECS_depensier_finale',\n",
    "#          'Conso_refroidissement_é_finale':'Conso_refroidissement_finale',\n",
    "#          'Conso_refroidissement_dépensier_é_finale':'Conso_refroidissement_depensier_finale',\n",
    "#          'Conso_auxiliaires_é_finale':'Conso_auxiliaires_finale',\n",
    "#          'Conso_5_usages_é_primaire':'Conso_5_usages_primaire',\n",
    "#          'Conso_5_usages_par_m²_é_primaire':'Conso_5_usages_par_m2_primaire',\n",
    "#          'Conso_chauffage_é_primaire':'Conso_chauffage_primaire',\n",
    "#          'Conso_chauffage_dépensier_é_primaire':'Conso_chauffage_depensier_primaire',\n",
    "#          'Conso_éclairage_é_primaire':'Conso_eclairage_primaire',\n",
    "#          'Conso_ECS_é_primaire':'Conso_ECS_primaire',\n",
    "#          'Conso_ECS_dépensier_é_primaire':'Conso_ECS_depensier_primaire',\n",
    "#          'Conso_refroidissement_é_primaire':'Conso_refroidissement_primaire',\n",
    "#          'Conso_refroidissement_dépensier_é_primaire':'Conso_refroidissement_depensier_primaire',\n",
    "#          'Conso_auxiliaires_é_primaire':'Conso_auxiliaires_primaire',\n",
    "#          'Emission_GES_5_usages_par_m²':'Emission_GES_5_usages_par_m2',\n",
    "#          'Emission_GES_chauffage_dépensier':'Emission_GES_chauffage_depensier',\n",
    "#          'Emission_GES_éclairage':'Emission_GES_eclairage',\n",
    "#          'Emission_GES_ECS_dépensier':'Emission_GES_ECS_depensier',\n",
    "#          'Emission_GES_refroidissement_dépensier':'Emission_GES_refroidissement_depensier',\n",
    "#          'Coût_chauffage_énergie_n°1':'Cout_chauffage_energie_num1',\n",
    "#          'Coût_ECS_énergie_n°1':'Cout_ECS_energie_num1',\n",
    "#          'Emission_GES_5_usages_énergie_n°1':'Emission_GES_5_usages_energie_num1',\n",
    "#          'Type_énergie_n°1':'Type_energie_num1',\n",
    "#          'Coût_total_5_usages':'Cout_total_5_usages',\n",
    "#          'Coût_chauffage':'Cout_chauffage',\n",
    "#          'Coût_chauffage_dépensier':'Cout_chauffage_depensier',\n",
    "#          'Coût_éclairage':'Cout_eclairage',\n",
    "#          'Coût_ECS_dépensier':'Cout_ECS_depensier',\n",
    "#          'Coût_ECS':'Cout_ECS',\n",
    "#          'Coût_refroidissement':'Cout_refroidissement',\n",
    "#          'Coût_refroidissement_dépensier':'Cout_refroidissement_depensier',\n",
    "#          'Coût_auxiliaires':'Cout_auxiliaires',\n",
    "#          'Qualité_isolation_enveloppe':'Qualite_isolation_enveloppe',\n",
    "#          'Qualité_isolation_menuiseries':'Qualite_isolation_menuiseries',\n",
    "#          'Qualité_isolation_murs':'Qualite_isolation_murs',\n",
    "#          'Ubat_W/m²_K':'Ubat_W_m2_K',\n",
    "#          'Appartement_non_visité_(0/1)':'Appartement_non_visite_0_1',\n",
    "#          'Coût_chauffage_énergie_n°2':'Cout_chauffage_energie_num2',\n",
    "#          'Coût_ECS_énergie_n°2':'Cout_ECS_energie_num2',\n",
    "#          'Type_énergie_n°2':'Type_energie_num2',\n",
    "#          'Emission_GES_5_usages_énergie_n°2':'Emission_GES_5_usages_energie_num2',\n",
    "#          'Qualité_isolation_plancher_bas':'Qualite_isolation_plancher_bas'}         \n",
    "\n",
    "# df_data.rename(columns=dict_columns, inplace=True)\n",
    "\n"
   ]
  },
  {
   "cell_type": "code",
   "execution_count": 354,
   "id": "83153d38-2fcf-48d1-860b-4c30ae6baad5",
   "metadata": {},
   "outputs": [],
   "source": [
    "# df_data.columns\n",
    "\n"
   ]
  },
  {
   "cell_type": "code",
   "execution_count": 355,
   "id": "6bc89b08-35a4-43e2-b9e4-62f9f1eea4fa",
   "metadata": {},
   "outputs": [],
   "source": [
    "#updatepath = os.path.join('..','data','dpe-update.csv')\n",
    "\n",
    "#df_data.to_csv(updatepath, index = False)\n",
    "\n"
   ]
  },
  {
   "cell_type": "code",
   "execution_count": 356,
   "id": "2a1d20bb-ecd6-49ea-9b1a-c2ef395cc138",
   "metadata": {},
   "outputs": [],
   "source": [
    "df_data = df_test.copy()\n",
    "\n"
   ]
  },
  {
   "cell_type": "code",
   "execution_count": 357,
   "id": "2e31e1ca-3ccf-4e24-adc2-ae47737264fd",
   "metadata": {},
   "outputs": [
    {
     "name": "stdout",
     "output_type": "stream",
     "text": [
      "<class 'pandas.core.frame.DataFrame'>\n",
      "RangeIndex: 10000 entries, 0 to 9999\n",
      "Data columns (total 66 columns):\n",
      " #   Column                                    Non-Null Count  Dtype  \n",
      "---  ------                                    --------------  -----  \n",
      " 0   Modele_DPE                                10000 non-null  object \n",
      " 1   Version_DPE                               10000 non-null  object \n",
      " 2   Methode_application_DPE                   10000 non-null  object \n",
      " 3   Etiquette_DPE                             10000 non-null  object \n",
      " 4   Etiquette_GES                             10000 non-null  object \n",
      " 5   Type_batiment                             10000 non-null  object \n",
      " 6   Hauteur_sous_plafond                      10000 non-null  float64\n",
      " 7   Conso_5_usages_finale                     10000 non-null  float64\n",
      " 8   Conso_5_usages_m2_finale                  10000 non-null  float64\n",
      " 9   Conso_chauffage_finale                    10000 non-null  float64\n",
      " 10  Conso_chauffage_depensier_finale          10000 non-null  float64\n",
      " 11  Conso_eclairage_finale                    10000 non-null  float64\n",
      " 12  Conso_ECS_finale                          10000 non-null  float64\n",
      " 13  Conso_ECS_depensier_finale                10000 non-null  float64\n",
      " 14  Conso_refroidissement_finale              10000 non-null  float64\n",
      " 15  Conso_refroidissement_depensier_finale    10000 non-null  float64\n",
      " 16  Conso_auxiliaires_finale                  10000 non-null  float64\n",
      " 17  Conso_5_usages_primaire                   10000 non-null  float64\n",
      " 18  Conso_5_usages_par_m2_primaire            10000 non-null  float64\n",
      " 19  Conso_chauffage_primaire                  10000 non-null  float64\n",
      " 20  Conso_chauffage_depensier_primaire        10000 non-null  float64\n",
      " 21  Conso_eclairage_primaire                  10000 non-null  float64\n",
      " 22  Conso_ECS_primaire                        10000 non-null  float64\n",
      " 23  Conso_ECS_depensier_primaire              10000 non-null  float64\n",
      " 24  Conso_refroidissement_primaire            10000 non-null  float64\n",
      " 25  Conso_refroidissement_depensier_primaire  10000 non-null  float64\n",
      " 26  Conso_auxiliaires_primaire                10000 non-null  float64\n",
      " 27  Emission_GES_5_usages                     10000 non-null  float64\n",
      " 28  Emission_GES_5_usages_par_m2              10000 non-null  float64\n",
      " 29  Emission_GES_chauffage                    10000 non-null  float64\n",
      " 30  Emission_GES_chauffage_depensier          10000 non-null  float64\n",
      " 31  Emission_GES_eclairage                    10000 non-null  float64\n",
      " 32  Emission_GES_ECS                          10000 non-null  float64\n",
      " 33  Emission_GES_ECS_depensier                10000 non-null  float64\n",
      " 34  Emission_GES_refroidissement              10000 non-null  float64\n",
      " 35  Emission_GES_refroidissement_depensier    10000 non-null  float64\n",
      " 36  Emission_GES_auxiliaires                  10000 non-null  float64\n",
      " 37  Cout_chauffage_energie_num1               10000 non-null  float64\n",
      " 38  Cout_ECS_energie_num1                     10000 non-null  float64\n",
      " 39  Emission_GES_5_usages_energie_num1        10000 non-null  float64\n",
      " 40  Type_energie_num1                         10000 non-null  object \n",
      " 41  Cout_total_5_usages                       10000 non-null  float64\n",
      " 42  Cout_chauffage                            10000 non-null  float64\n",
      " 43  Cout_chauffage_depensier                  10000 non-null  float64\n",
      " 44  Cout_eclairage                            10000 non-null  float64\n",
      " 45  Cout_ECS_depensier                        10000 non-null  float64\n",
      " 46  Cout_ECS                                  10000 non-null  float64\n",
      " 47  Cout_refroidissement                      10000 non-null  float64\n",
      " 48  Cout_refroidissement_depensier            10000 non-null  float64\n",
      " 49  Cout_auxiliaires                          10000 non-null  float64\n",
      " 50  Qualite_isolation_enveloppe               10000 non-null  object \n",
      " 51  Qualite_isolation_menuiseries             10000 non-null  object \n",
      " 52  Qualite_isolation_murs                    10000 non-null  object \n",
      " 53  Ubat_W_m2_K                               10000 non-null  float64\n",
      " 54  Appartement_non_visite_0_1                10000 non-null  object \n",
      " 55  Nombre_appartement                        10000 non-null  float64\n",
      " 56  Nombre_niveau_immeuble                    10000 non-null  float64\n",
      " 57  Nombre_niveau_logement                    10000 non-null  float64\n",
      " 58  Surface_habitable_immeuble                10000 non-null  float64\n",
      " 59  Surface_habitable_logement                10000 non-null  float64\n",
      " 60  Score_BAN                                 10000 non-null  float64\n",
      " 61  Cout_chauffage_energie_num2               10000 non-null  float64\n",
      " 62  Cout_ECS_energie_num2                     10000 non-null  float64\n",
      " 63  Type_energie_num2                         10000 non-null  object \n",
      " 64  Emission_GES_5_usages_energie_num2        10000 non-null  float64\n",
      " 65  Qualite_isolation_plancher_bas            10000 non-null  object \n",
      "dtypes: float64(53), object(13)\n",
      "memory usage: 5.0+ MB\n"
     ]
    }
   ],
   "source": [
    "df_data.info()\n",
    "\n"
   ]
  },
  {
   "cell_type": "code",
   "execution_count": 358,
   "id": "a6b8a4fb-d20c-4e52-a136-6a829b0e147d",
   "metadata": {},
   "outputs": [],
   "source": [
    "numerical_columns = ['Hauteur_sous_plafond',\n",
    "       'Conso_5_usages_finale', 'Conso_5_usages_m2_finale',\n",
    "       'Conso_chauffage_finale', 'Conso_chauffage_depensier_finale',\n",
    "       'Conso_eclairage_finale', 'Conso_ECS_finale',\n",
    "       'Conso_ECS_depensier_finale', 'Conso_refroidissement_finale',\n",
    "       'Conso_refroidissement_depensier_finale', 'Conso_auxiliaires_finale',\n",
    "       'Conso_5_usages_primaire', 'Conso_5_usages_par_m2_primaire',\n",
    "       'Conso_chauffage_primaire', 'Conso_chauffage_depensier_primaire',\n",
    "       'Conso_eclairage_primaire', 'Conso_ECS_primaire',\n",
    "       'Conso_ECS_depensier_primaire', 'Conso_refroidissement_primaire',\n",
    "       'Conso_refroidissement_depensier_primaire',\n",
    "       'Conso_auxiliaires_primaire', 'Emission_GES_5_usages',\n",
    "       'Emission_GES_5_usages_par_m2', 'Emission_GES_chauffage',\n",
    "       'Emission_GES_chauffage_depensier', 'Emission_GES_eclairage',\n",
    "       'Emission_GES_ECS', 'Emission_GES_ECS_depensier',\n",
    "       'Emission_GES_refroidissement',\n",
    "       'Emission_GES_refroidissement_depensier', 'Emission_GES_auxiliaires',\n",
    "       'Cout_chauffage_energie_num1', 'Cout_ECS_energie_num1',\n",
    "       'Emission_GES_5_usages_energie_num1',\n",
    "       'Cout_total_5_usages', 'Cout_chauffage', 'Cout_chauffage_depensier',\n",
    "       'Cout_eclairage', 'Cout_ECS_depensier', 'Cout_ECS',\n",
    "       'Cout_refroidissement', 'Cout_refroidissement_depensier',\n",
    "       'Cout_auxiliaires',\n",
    "       'Ubat_W_m2_K', 'Nombre_appartement',\n",
    "       'Nombre_niveau_immeuble', 'Nombre_niveau_logement',\n",
    "       'Surface_habitable_immeuble', 'Surface_habitable_logement', 'Score_BAN',\n",
    "       'Cout_chauffage_energie_num2', 'Cout_ECS_energie_num2', 'Emission_GES_5_usages_energie_num2']\n",
    "\n"
   ]
  },
  {
   "cell_type": "code",
   "execution_count": 359,
   "id": "0e3bda21-58ed-4693-87c8-cefcdb18ee16",
   "metadata": {},
   "outputs": [],
   "source": [
    "# categorical_columns = ['Modele_DPE', 'Version_DPE', 'Methode_application_DPE', 'Etiquette_DPE', \n",
    "#                       'Etiquette_GES', 'Type_batiment', 'Type_energie_num1', 'Qualite_isolation_enveloppe',\n",
    "#                       'Qualite_isolation_menuiseries', 'Qualite_isolation_murs', 'Appartement_non_visite_0_1',\n",
    "#                       'Type_energie_num2', 'Qualite_isolation_plancher_bas']\n",
    "\n"
   ]
  },
  {
   "cell_type": "code",
   "execution_count": 360,
   "id": "92adadb2-4e46-4101-b2ee-f55f9b289616",
   "metadata": {},
   "outputs": [],
   "source": [
    "# print(df_data[numerical_columns].shape)\n",
    "\n",
    "# print(df_data[categorical_columns].shape)\n",
    "\n"
   ]
  },
  {
   "cell_type": "code",
   "execution_count": 361,
   "id": "6f482655-18cc-4a8d-acdd-f63bec3300f4",
   "metadata": {},
   "outputs": [],
   "source": [
    "# df_data['Modele_DPE'] = df_data['Modele_DPE'].str.replace('DPE NEUF logement : RT2012','RT2012')\n",
    "\n",
    "# df_data['Modele_DPE'] = df_data['Modele_DPE'].str.replace('DPE NEUF logement : RE2020','RE2020')\n",
    "\n"
   ]
  },
  {
   "cell_type": "code",
   "execution_count": 362,
   "id": "0c4c9f6e-9061-46ae-a072-c408cec0e261",
   "metadata": {},
   "outputs": [],
   "source": [
    "# df_data['Methode_application_DPE'] = df_data['Methode_application_DPE'].str.replace(\"dpe issu d'une étude thermique réglementaire RT2012 bâtiment : appartement\",\"dpe_etude_thermique_RT2012_batiment_appartement\")\n",
    "# df_data['Methode_application_DPE'] = df_data['Methode_application_DPE'].str.replace(\"dpe issu d'une étude thermique réglementaire RT2012 bâtiment : maison individuelle\",\"dpe_etude_thermique_reglementaire_RT2012_batiment_maison_individuelle\")\n",
    "# df_data['Methode_application_DPE'] = df_data['Methode_application_DPE'].str.replace(\"dpe appartement généré à partir des données DPE immeuble\",\"dpe_appartement_genere_donnees_DPE_immeuble\")\n",
    "# df_data['Methode_application_DPE'] = df_data['Methode_application_DPE'].str.replace(\"dpe maison individuelle\",\"dpe_maison_individuelle\")\n",
    "# df_data['Methode_application_DPE'] = df_data['Methode_application_DPE'].str.replace(\"dpe issu d'une étude thermique réglementaire RT2012 bâtiment : immeuble\",\"dpe_etude_thermique_RT2012_batiment_immeuble\")\n",
    "# df_data['Methode_application_DPE'] = df_data['Methode_application_DPE'].str.replace(\"dpe immeuble collectif\",\"dpe_immeuble_collectif\")\n",
    "# df_data['Methode_application_DPE'] = df_data['Methode_application_DPE'].str.replace(\"dpe appartement individuel\",\"dpe_appartement_individuel\")\n",
    "# df_data['Methode_application_DPE'] = df_data['Methode_application_DPE'].str.replace(\"dpe issu d'une étude energie environement réglementaire RE2020 bâtiment : appartement\",\"dpe_etude_energie_environement_RE2020_batiment_appartement\")\n",
    "# df_data['Methode_application_DPE'] = df_data['Methode_application_DPE'].str.replace(\"dpe issu d'une étude energie environement réglementaire RE2020 bâtiment : maison individuelle\",\"dpe_etude_energie_environement_RE2020_batiment_maison_individuelle\")\n",
    "\n"
   ]
  },
  {
   "cell_type": "code",
   "execution_count": 363,
   "id": "8baed089-33b0-4b05-9375-a2edbdd411d1",
   "metadata": {},
   "outputs": [],
   "source": [
    "# df_data['Type_energie_num1'] = df_data['Type_energie_num1'].str.replace(\"Gaz naturel\",\"Gaz_naturel\")\n",
    "# df_data['Type_energie_num1'] = df_data['Type_energie_num1'].str.replace(\"Électricité\",\"Electricite\")\n",
    "# df_data['Type_energie_num1'] = df_data['Type_energie_num1'].str.replace(\"Réseau de Chauffage urbain\",\"Reseau_Chauffage_urbain\")\n",
    "# df_data['Type_energie_num1'] = df_data['Type_energie_num1'].str.replace(\"Bois – Granulés (pellets) ou briquettes\",\"Bois_Granules_pellets_briquettes\")\n",
    "# df_data['Type_energie_num1'] = df_data['Type_energie_num1'].str.replace(\"Bois – Bûches\",\"Bois_Buches\")\n",
    "# df_data['Type_energie_num1'] = df_data['Type_energie_num1'].str.replace(\"Fioul domestique\",\"Fioul_domestique\")\n",
    "# df_data['Type_energie_num1'] = df_data['Type_energie_num1'].str.replace(\"Bois – Plaquettes forestières\",\"Bois_Plaquettes_forestieres\")\n",
    "\n"
   ]
  },
  {
   "cell_type": "code",
   "execution_count": 364,
   "id": "96dbf533-e678-4444-8ace-b63a7313a7d7",
   "metadata": {},
   "outputs": [],
   "source": [
    "# df_data['Type_energie_num2'] = df_data['Type_energie_num2'].str.replace(\"Gaz naturel\",\"Gaz_naturel\")\n",
    "# df_data['Type_energie_num2'] = df_data['Type_energie_num2'].str.replace(\"Électricité\",\"Electricite\")\n",
    "# df_data['Type_energie_num2'] = df_data['Type_energie_num2'].str.replace(\"Réseau de Chauffage urbain\",\"Reseau_Chauffage_urbain\")\n",
    "# df_data['Type_energie_num2'] = df_data['Type_energie_num2'].str.replace(\"Bois – Granulés (pellets) ou briquettes\",\"Bois_Granules_pellets_briquettes\")\n",
    "# df_data['Type_energie_num2'] = df_data['Type_energie_num2'].str.replace(\"Bois – Bûches\",\"Bois_Buches\")\n",
    "# df_data['Type_energie_num2'] = df_data['Type_energie_num2'].str.replace(\"Fioul domestique\",\"Fioul_domestique\")\n",
    "# df_data['Type_energie_num2'] = df_data['Type_energie_num2'].str.replace(\"Bois – Plaquettes forestières\",\"Bois_Plaquettes_forestieres\")\n",
    "\n"
   ]
  },
  {
   "cell_type": "code",
   "execution_count": 365,
   "id": "52a8a026-d1c6-4bb1-b6c8-148eafd2201e",
   "metadata": {},
   "outputs": [],
   "source": [
    "# df_data['Qualite_isolation_enveloppe'] = df_data['Qualite_isolation_enveloppe'].str.replace(\"très bonne\",\"tres_bonne\")\n",
    "# df_data['Qualite_isolation_menuiseries'] = df_data['Qualite_isolation_menuiseries'].str.replace(\"très bonne\",\"tres_bonne\")\n",
    "# df_data['Qualite_isolation_murs'] = df_data['Qualite_isolation_murs'].str.replace(\"très bonne\",\"tres_bonne\")\n",
    "# df_data['Qualite_isolation_plancher_bas'] = df_data['Qualite_isolation_plancher_bas'].str.replace(\"très bonne\",\"tres_bonne\")\n",
    "\n"
   ]
  },
  {
   "cell_type": "code",
   "execution_count": 366,
   "id": "11094f7d-acfa-4c8b-8835-1927db16a392",
   "metadata": {},
   "outputs": [],
   "source": [
    "#df_data.drop_duplicates(inplace=True, ignore_index=True)\n",
    "\n"
   ]
  },
  {
   "cell_type": "code",
   "execution_count": 367,
   "id": "cba1015b-e1e5-4955-a9a4-ec47aa16ec29",
   "metadata": {},
   "outputs": [],
   "source": [
    "#updatepath = os.path.join('..','data','dpe-update.csv')\n",
    "\n",
    "#df_data.to_csv(updatepath, index = False)\n",
    "\n"
   ]
  },
  {
   "cell_type": "markdown",
   "id": "66dc24fb-51c5-4f4c-9304-78d216c9462a",
   "metadata": {},
   "source": [
    "**Undersampling**\n",
    "\n"
   ]
  },
  {
   "cell_type": "code",
   "execution_count": 368,
   "id": "5e56f4aa-1af7-4047-a326-94c61c68ea3f",
   "metadata": {},
   "outputs": [],
   "source": [
    "# mask = (df_data['Etiquette_DPE'] == 'C')\n",
    "# idx, = np.where(mask)\n",
    "# df_data.drop(df_data.index[idx[:len(idx)//2]], inplace=True)\n",
    "\n"
   ]
  },
  {
   "cell_type": "code",
   "execution_count": 369,
   "id": "9ecd03dc-7f26-4fe6-becf-11163697911f",
   "metadata": {},
   "outputs": [],
   "source": [
    "# mask = (df_data['Etiquette_DPE'] == 'A')\n",
    "# idx, = np.where(mask)\n",
    "# df_data.drop(df_data.index[idx[:len(idx)//2]], inplace=True)\n",
    "\n"
   ]
  },
  {
   "cell_type": "code",
   "execution_count": 370,
   "id": "19921c81-aa5c-4d3d-bcb2-18adb14d672f",
   "metadata": {},
   "outputs": [],
   "source": [
    "# mask = (df_data['Etiquette_DPE'] == 'B')\n",
    "# idx, = np.where(mask)\n",
    "# df_data.drop(df_data.index[idx[:len(idx)//2]], inplace=True)\n",
    "\n"
   ]
  },
  {
   "cell_type": "code",
   "execution_count": 371,
   "id": "500ade56-1544-4d94-800f-258a60d80c8e",
   "metadata": {},
   "outputs": [],
   "source": [
    "#df_data.reset_index(inplace=True)\n",
    "\n"
   ]
  },
  {
   "cell_type": "code",
   "execution_count": 372,
   "id": "1c36b315-bbff-40c1-b9a7-63247c07a7ef",
   "metadata": {},
   "outputs": [],
   "source": [
    "#updatepath = os.path.join('..','data','dpe-update-undersampling.csv')\n",
    "\n",
    "#df_data.to_csv(updatepath, index = False)\n",
    "\n"
   ]
  },
  {
   "cell_type": "code",
   "execution_count": 373,
   "id": "61681686-ee0e-4ae6-a949-ef49f153478e",
   "metadata": {},
   "outputs": [],
   "source": [
    "# updatepath = os.path.join('..','data','dpe.csv')\n",
    "\n",
    "# df_data.to_csv(updatepath, index = False)\n",
    "\n"
   ]
  },
  {
   "cell_type": "code",
   "execution_count": 374,
   "id": "29748147-b3dd-4f09-9b96-d7b1a26163f0",
   "metadata": {},
   "outputs": [],
   "source": [
    "# updatepath = os.path.join('..','data','df_preprocessed.csv')\n",
    "\n",
    "# df_prep = pd.read_csv(\"df_preprocessed.csv\")\n",
    "\n"
   ]
  },
  {
   "cell_type": "code",
   "execution_count": 375,
   "id": "e15ced03-01bf-4ad3-99ee-5de535519209",
   "metadata": {},
   "outputs": [
    {
     "data": {
      "text/html": [
       "<div>\n",
       "<style scoped>\n",
       "    .dataframe tbody tr th:only-of-type {\n",
       "        vertical-align: middle;\n",
       "    }\n",
       "\n",
       "    .dataframe tbody tr th {\n",
       "        vertical-align: top;\n",
       "    }\n",
       "\n",
       "    .dataframe thead th {\n",
       "        text-align: right;\n",
       "    }\n",
       "</style>\n",
       "<table border=\"1\" class=\"dataframe\">\n",
       "  <thead>\n",
       "    <tr style=\"text-align: right;\">\n",
       "      <th></th>\n",
       "      <th>Modele_DPE</th>\n",
       "      <th>Version_DPE</th>\n",
       "      <th>Methode_application_DPE</th>\n",
       "      <th>Etiquette_DPE</th>\n",
       "      <th>Etiquette_GES</th>\n",
       "      <th>Type_batiment</th>\n",
       "      <th>Hauteur_sous_plafond</th>\n",
       "      <th>Conso_5_usages_finale</th>\n",
       "      <th>Conso_5_usages_m2_finale</th>\n",
       "      <th>Conso_chauffage_finale</th>\n",
       "      <th>...</th>\n",
       "      <th>Nombre_niveau_immeuble</th>\n",
       "      <th>Nombre_niveau_logement</th>\n",
       "      <th>Surface_habitable_immeuble</th>\n",
       "      <th>Surface_habitable_logement</th>\n",
       "      <th>Score_BAN</th>\n",
       "      <th>Cout_chauffage_energie_num2</th>\n",
       "      <th>Cout_ECS_energie_num2</th>\n",
       "      <th>Type_energie_num2</th>\n",
       "      <th>Emission_GES_5_usages_energie_num2</th>\n",
       "      <th>Qualite_isolation_plancher_bas</th>\n",
       "    </tr>\n",
       "  </thead>\n",
       "  <tbody>\n",
       "    <tr>\n",
       "      <th>0</th>\n",
       "      <td>RT2012</td>\n",
       "      <td>1</td>\n",
       "      <td>dpe_etude_thermique_reglementaire_RT2012_batim...</td>\n",
       "      <td>C</td>\n",
       "      <td>C</td>\n",
       "      <td>maison</td>\n",
       "      <td>2.5</td>\n",
       "      <td>2780.9</td>\n",
       "      <td>64.4</td>\n",
       "      <td>1713.9</td>\n",
       "      <td>...</td>\n",
       "      <td>1.0</td>\n",
       "      <td>1.0</td>\n",
       "      <td>339.7</td>\n",
       "      <td>43.2</td>\n",
       "      <td>0.80</td>\n",
       "      <td>0.80</td>\n",
       "      <td>0.0</td>\n",
       "      <td>Electricite</td>\n",
       "      <td>2.4</td>\n",
       "      <td>bonne</td>\n",
       "    </tr>\n",
       "    <tr>\n",
       "      <th>1</th>\n",
       "      <td>RT2012</td>\n",
       "      <td>1</td>\n",
       "      <td>dpe_etude_thermique_reglementaire_RT2012_batim...</td>\n",
       "      <td>C</td>\n",
       "      <td>C</td>\n",
       "      <td>maison</td>\n",
       "      <td>2.5</td>\n",
       "      <td>4173.0</td>\n",
       "      <td>58.3</td>\n",
       "      <td>2613.0</td>\n",
       "      <td>...</td>\n",
       "      <td>1.0</td>\n",
       "      <td>1.0</td>\n",
       "      <td>71.6</td>\n",
       "      <td>71.6</td>\n",
       "      <td>0.21</td>\n",
       "      <td>0.21</td>\n",
       "      <td>3.0</td>\n",
       "      <td>Electricite</td>\n",
       "      <td>12.7</td>\n",
       "      <td>tres_bonne</td>\n",
       "    </tr>\n",
       "    <tr>\n",
       "      <th>2</th>\n",
       "      <td>RT2012</td>\n",
       "      <td>1_1</td>\n",
       "      <td>dpe_etude_thermique_RT2012_batiment_appartement</td>\n",
       "      <td>C</td>\n",
       "      <td>C</td>\n",
       "      <td>appartement</td>\n",
       "      <td>2.5</td>\n",
       "      <td>2401.9</td>\n",
       "      <td>54.1</td>\n",
       "      <td>1147.8</td>\n",
       "      <td>...</td>\n",
       "      <td>1.0</td>\n",
       "      <td>1.0</td>\n",
       "      <td>1128.2</td>\n",
       "      <td>44.4</td>\n",
       "      <td>0.72</td>\n",
       "      <td>0.72</td>\n",
       "      <td>0.0</td>\n",
       "      <td>Electricite</td>\n",
       "      <td>1.9</td>\n",
       "      <td>bonne</td>\n",
       "    </tr>\n",
       "    <tr>\n",
       "      <th>3</th>\n",
       "      <td>RT2012</td>\n",
       "      <td>2</td>\n",
       "      <td>dpe_etude_thermique_reglementaire_RT2012_batim...</td>\n",
       "      <td>C</td>\n",
       "      <td>C</td>\n",
       "      <td>maison</td>\n",
       "      <td>2.5</td>\n",
       "      <td>6651.3</td>\n",
       "      <td>63.7</td>\n",
       "      <td>5452.0</td>\n",
       "      <td>...</td>\n",
       "      <td>1.0</td>\n",
       "      <td>1.0</td>\n",
       "      <td>104.5</td>\n",
       "      <td>104.5</td>\n",
       "      <td>0.33</td>\n",
       "      <td>0.33</td>\n",
       "      <td>227.0</td>\n",
       "      <td>Electricite</td>\n",
       "      <td>22.5</td>\n",
       "      <td>tres_bonne</td>\n",
       "    </tr>\n",
       "    <tr>\n",
       "      <th>4</th>\n",
       "      <td>RT2012</td>\n",
       "      <td>1_1</td>\n",
       "      <td>dpe_etude_thermique_RT2012_batiment_appartement</td>\n",
       "      <td>C</td>\n",
       "      <td>C</td>\n",
       "      <td>appartement</td>\n",
       "      <td>2.5</td>\n",
       "      <td>4856.8</td>\n",
       "      <td>88.7</td>\n",
       "      <td>3301.6</td>\n",
       "      <td>...</td>\n",
       "      <td>1.0</td>\n",
       "      <td>1.0</td>\n",
       "      <td>1738.3</td>\n",
       "      <td>54.7</td>\n",
       "      <td>0.82</td>\n",
       "      <td>0.82</td>\n",
       "      <td>4.4</td>\n",
       "      <td>Electricite</td>\n",
       "      <td>2.8</td>\n",
       "      <td>bonne</td>\n",
       "    </tr>\n",
       "    <tr>\n",
       "      <th>...</th>\n",
       "      <td>...</td>\n",
       "      <td>...</td>\n",
       "      <td>...</td>\n",
       "      <td>...</td>\n",
       "      <td>...</td>\n",
       "      <td>...</td>\n",
       "      <td>...</td>\n",
       "      <td>...</td>\n",
       "      <td>...</td>\n",
       "      <td>...</td>\n",
       "      <td>...</td>\n",
       "      <td>...</td>\n",
       "      <td>...</td>\n",
       "      <td>...</td>\n",
       "      <td>...</td>\n",
       "      <td>...</td>\n",
       "      <td>...</td>\n",
       "      <td>...</td>\n",
       "      <td>...</td>\n",
       "      <td>...</td>\n",
       "      <td>...</td>\n",
       "    </tr>\n",
       "    <tr>\n",
       "      <th>9995</th>\n",
       "      <td>RT2012</td>\n",
       "      <td>1_1</td>\n",
       "      <td>dpe_etude_thermique_reglementaire_RT2012_batim...</td>\n",
       "      <td>C</td>\n",
       "      <td>C</td>\n",
       "      <td>maison</td>\n",
       "      <td>2.5</td>\n",
       "      <td>5573.1</td>\n",
       "      <td>90.0</td>\n",
       "      <td>4179.6</td>\n",
       "      <td>...</td>\n",
       "      <td>1.0</td>\n",
       "      <td>1.0</td>\n",
       "      <td>1750.8</td>\n",
       "      <td>61.9</td>\n",
       "      <td>0.96</td>\n",
       "      <td>0.96</td>\n",
       "      <td>268.2</td>\n",
       "      <td>Electricite</td>\n",
       "      <td>103.2</td>\n",
       "      <td>tres_bonne</td>\n",
       "    </tr>\n",
       "    <tr>\n",
       "      <th>9996</th>\n",
       "      <td>RT2012</td>\n",
       "      <td>1</td>\n",
       "      <td>dpe_etude_thermique_reglementaire_RT2012_batim...</td>\n",
       "      <td>C</td>\n",
       "      <td>C</td>\n",
       "      <td>maison</td>\n",
       "      <td>2.5</td>\n",
       "      <td>4866.3</td>\n",
       "      <td>51.7</td>\n",
       "      <td>3017.0</td>\n",
       "      <td>...</td>\n",
       "      <td>1.0</td>\n",
       "      <td>1.0</td>\n",
       "      <td>94.2</td>\n",
       "      <td>94.2</td>\n",
       "      <td>0.56</td>\n",
       "      <td>0.56</td>\n",
       "      <td>0.0</td>\n",
       "      <td>Electricite</td>\n",
       "      <td>16.7</td>\n",
       "      <td>tres_bonne</td>\n",
       "    </tr>\n",
       "    <tr>\n",
       "      <th>9997</th>\n",
       "      <td>RT2012</td>\n",
       "      <td>1_1</td>\n",
       "      <td>dpe_etude_thermique_RT2012_batiment_appartement</td>\n",
       "      <td>C</td>\n",
       "      <td>C</td>\n",
       "      <td>appartement</td>\n",
       "      <td>2.5</td>\n",
       "      <td>3491.2</td>\n",
       "      <td>56.8</td>\n",
       "      <td>1874.4</td>\n",
       "      <td>...</td>\n",
       "      <td>1.0</td>\n",
       "      <td>1.0</td>\n",
       "      <td>2873.7</td>\n",
       "      <td>61.5</td>\n",
       "      <td>0.75</td>\n",
       "      <td>0.75</td>\n",
       "      <td>0.0</td>\n",
       "      <td>Electricite</td>\n",
       "      <td>2.6</td>\n",
       "      <td>bonne</td>\n",
       "    </tr>\n",
       "    <tr>\n",
       "      <th>9998</th>\n",
       "      <td>RT2012</td>\n",
       "      <td>2</td>\n",
       "      <td>dpe_maison_individuelle</td>\n",
       "      <td>B</td>\n",
       "      <td>B</td>\n",
       "      <td>maison</td>\n",
       "      <td>2.5</td>\n",
       "      <td>3457.3</td>\n",
       "      <td>39.0</td>\n",
       "      <td>2657.6</td>\n",
       "      <td>...</td>\n",
       "      <td>1.0</td>\n",
       "      <td>1.0</td>\n",
       "      <td>1750.8</td>\n",
       "      <td>87.2</td>\n",
       "      <td>0.64</td>\n",
       "      <td>0.64</td>\n",
       "      <td>167.7</td>\n",
       "      <td>Electricite</td>\n",
       "      <td>652.7</td>\n",
       "      <td>tres_bonne</td>\n",
       "    </tr>\n",
       "    <tr>\n",
       "      <th>9999</th>\n",
       "      <td>RT2012</td>\n",
       "      <td>1_1</td>\n",
       "      <td>dpe_etude_thermique_RT2012_batiment_appartement</td>\n",
       "      <td>B</td>\n",
       "      <td>B</td>\n",
       "      <td>appartement</td>\n",
       "      <td>2.6</td>\n",
       "      <td>3471.2</td>\n",
       "      <td>39.0</td>\n",
       "      <td>1770.7</td>\n",
       "      <td>...</td>\n",
       "      <td>1.0</td>\n",
       "      <td>1.0</td>\n",
       "      <td>1750.8</td>\n",
       "      <td>89.0</td>\n",
       "      <td>0.88</td>\n",
       "      <td>0.88</td>\n",
       "      <td>52.3</td>\n",
       "      <td>Electricite</td>\n",
       "      <td>796.7</td>\n",
       "      <td>tres_bonne</td>\n",
       "    </tr>\n",
       "  </tbody>\n",
       "</table>\n",
       "<p>10000 rows × 66 columns</p>\n",
       "</div>"
      ],
      "text/plain": [
       "     Modele_DPE Version_DPE  \\\n",
       "0        RT2012           1   \n",
       "1        RT2012           1   \n",
       "2        RT2012         1_1   \n",
       "3        RT2012           2   \n",
       "4        RT2012         1_1   \n",
       "...         ...         ...   \n",
       "9995     RT2012         1_1   \n",
       "9996     RT2012           1   \n",
       "9997     RT2012         1_1   \n",
       "9998     RT2012           2   \n",
       "9999     RT2012         1_1   \n",
       "\n",
       "                                Methode_application_DPE Etiquette_DPE  \\\n",
       "0     dpe_etude_thermique_reglementaire_RT2012_batim...             C   \n",
       "1     dpe_etude_thermique_reglementaire_RT2012_batim...             C   \n",
       "2       dpe_etude_thermique_RT2012_batiment_appartement             C   \n",
       "3     dpe_etude_thermique_reglementaire_RT2012_batim...             C   \n",
       "4       dpe_etude_thermique_RT2012_batiment_appartement             C   \n",
       "...                                                 ...           ...   \n",
       "9995  dpe_etude_thermique_reglementaire_RT2012_batim...             C   \n",
       "9996  dpe_etude_thermique_reglementaire_RT2012_batim...             C   \n",
       "9997    dpe_etude_thermique_RT2012_batiment_appartement             C   \n",
       "9998                            dpe_maison_individuelle             B   \n",
       "9999    dpe_etude_thermique_RT2012_batiment_appartement             B   \n",
       "\n",
       "     Etiquette_GES Type_batiment  Hauteur_sous_plafond  Conso_5_usages_finale  \\\n",
       "0                C        maison                   2.5                 2780.9   \n",
       "1                C        maison                   2.5                 4173.0   \n",
       "2                C   appartement                   2.5                 2401.9   \n",
       "3                C        maison                   2.5                 6651.3   \n",
       "4                C   appartement                   2.5                 4856.8   \n",
       "...            ...           ...                   ...                    ...   \n",
       "9995             C        maison                   2.5                 5573.1   \n",
       "9996             C        maison                   2.5                 4866.3   \n",
       "9997             C   appartement                   2.5                 3491.2   \n",
       "9998             B        maison                   2.5                 3457.3   \n",
       "9999             B   appartement                   2.6                 3471.2   \n",
       "\n",
       "      Conso_5_usages_m2_finale  Conso_chauffage_finale  ...  \\\n",
       "0                         64.4                  1713.9  ...   \n",
       "1                         58.3                  2613.0  ...   \n",
       "2                         54.1                  1147.8  ...   \n",
       "3                         63.7                  5452.0  ...   \n",
       "4                         88.7                  3301.6  ...   \n",
       "...                        ...                     ...  ...   \n",
       "9995                      90.0                  4179.6  ...   \n",
       "9996                      51.7                  3017.0  ...   \n",
       "9997                      56.8                  1874.4  ...   \n",
       "9998                      39.0                  2657.6  ...   \n",
       "9999                      39.0                  1770.7  ...   \n",
       "\n",
       "      Nombre_niveau_immeuble  Nombre_niveau_logement  \\\n",
       "0                        1.0                     1.0   \n",
       "1                        1.0                     1.0   \n",
       "2                        1.0                     1.0   \n",
       "3                        1.0                     1.0   \n",
       "4                        1.0                     1.0   \n",
       "...                      ...                     ...   \n",
       "9995                     1.0                     1.0   \n",
       "9996                     1.0                     1.0   \n",
       "9997                     1.0                     1.0   \n",
       "9998                     1.0                     1.0   \n",
       "9999                     1.0                     1.0   \n",
       "\n",
       "      Surface_habitable_immeuble  Surface_habitable_logement  Score_BAN  \\\n",
       "0                          339.7                        43.2       0.80   \n",
       "1                           71.6                        71.6       0.21   \n",
       "2                         1128.2                        44.4       0.72   \n",
       "3                          104.5                       104.5       0.33   \n",
       "4                         1738.3                        54.7       0.82   \n",
       "...                          ...                         ...        ...   \n",
       "9995                      1750.8                        61.9       0.96   \n",
       "9996                        94.2                        94.2       0.56   \n",
       "9997                      2873.7                        61.5       0.75   \n",
       "9998                      1750.8                        87.2       0.64   \n",
       "9999                      1750.8                        89.0       0.88   \n",
       "\n",
       "      Cout_chauffage_energie_num2  Cout_ECS_energie_num2  Type_energie_num2  \\\n",
       "0                            0.80                    0.0        Electricite   \n",
       "1                            0.21                    3.0        Electricite   \n",
       "2                            0.72                    0.0        Electricite   \n",
       "3                            0.33                  227.0        Electricite   \n",
       "4                            0.82                    4.4        Electricite   \n",
       "...                           ...                    ...                ...   \n",
       "9995                         0.96                  268.2        Electricite   \n",
       "9996                         0.56                    0.0        Electricite   \n",
       "9997                         0.75                    0.0        Electricite   \n",
       "9998                         0.64                  167.7        Electricite   \n",
       "9999                         0.88                   52.3        Electricite   \n",
       "\n",
       "      Emission_GES_5_usages_energie_num2  Qualite_isolation_plancher_bas  \n",
       "0                                    2.4                           bonne  \n",
       "1                                   12.7                      tres_bonne  \n",
       "2                                    1.9                           bonne  \n",
       "3                                   22.5                      tres_bonne  \n",
       "4                                    2.8                           bonne  \n",
       "...                                  ...                             ...  \n",
       "9995                               103.2                      tres_bonne  \n",
       "9996                                16.7                      tres_bonne  \n",
       "9997                                 2.6                           bonne  \n",
       "9998                               652.7                      tres_bonne  \n",
       "9999                               796.7                      tres_bonne  \n",
       "\n",
       "[10000 rows x 66 columns]"
      ]
     },
     "execution_count": 375,
     "metadata": {},
     "output_type": "execute_result"
    }
   ],
   "source": [
    "df_data\n",
    "\n"
   ]
  },
  {
   "cell_type": "code",
   "execution_count": 376,
   "id": "0a1f4bd5-87cd-4cd1-8807-8661b2492b60",
   "metadata": {},
   "outputs": [
    {
     "name": "stdout",
     "output_type": "stream",
     "text": [
      "<class 'pandas.core.frame.DataFrame'>\n",
      "RangeIndex: 10000 entries, 0 to 9999\n",
      "Data columns (total 66 columns):\n",
      " #   Column                                    Non-Null Count  Dtype  \n",
      "---  ------                                    --------------  -----  \n",
      " 0   Modele_DPE                                10000 non-null  object \n",
      " 1   Version_DPE                               10000 non-null  object \n",
      " 2   Methode_application_DPE                   10000 non-null  object \n",
      " 3   Etiquette_DPE                             10000 non-null  object \n",
      " 4   Etiquette_GES                             10000 non-null  object \n",
      " 5   Type_batiment                             10000 non-null  object \n",
      " 6   Hauteur_sous_plafond                      10000 non-null  float64\n",
      " 7   Conso_5_usages_finale                     10000 non-null  float64\n",
      " 8   Conso_5_usages_m2_finale                  10000 non-null  float64\n",
      " 9   Conso_chauffage_finale                    10000 non-null  float64\n",
      " 10  Conso_chauffage_depensier_finale          10000 non-null  float64\n",
      " 11  Conso_eclairage_finale                    10000 non-null  float64\n",
      " 12  Conso_ECS_finale                          10000 non-null  float64\n",
      " 13  Conso_ECS_depensier_finale                10000 non-null  float64\n",
      " 14  Conso_refroidissement_finale              10000 non-null  float64\n",
      " 15  Conso_refroidissement_depensier_finale    10000 non-null  float64\n",
      " 16  Conso_auxiliaires_finale                  10000 non-null  float64\n",
      " 17  Conso_5_usages_primaire                   10000 non-null  float64\n",
      " 18  Conso_5_usages_par_m2_primaire            10000 non-null  float64\n",
      " 19  Conso_chauffage_primaire                  10000 non-null  float64\n",
      " 20  Conso_chauffage_depensier_primaire        10000 non-null  float64\n",
      " 21  Conso_eclairage_primaire                  10000 non-null  float64\n",
      " 22  Conso_ECS_primaire                        10000 non-null  float64\n",
      " 23  Conso_ECS_depensier_primaire              10000 non-null  float64\n",
      " 24  Conso_refroidissement_primaire            10000 non-null  float64\n",
      " 25  Conso_refroidissement_depensier_primaire  10000 non-null  float64\n",
      " 26  Conso_auxiliaires_primaire                10000 non-null  float64\n",
      " 27  Emission_GES_5_usages                     10000 non-null  float64\n",
      " 28  Emission_GES_5_usages_par_m2              10000 non-null  float64\n",
      " 29  Emission_GES_chauffage                    10000 non-null  float64\n",
      " 30  Emission_GES_chauffage_depensier          10000 non-null  float64\n",
      " 31  Emission_GES_eclairage                    10000 non-null  float64\n",
      " 32  Emission_GES_ECS                          10000 non-null  float64\n",
      " 33  Emission_GES_ECS_depensier                10000 non-null  float64\n",
      " 34  Emission_GES_refroidissement              10000 non-null  float64\n",
      " 35  Emission_GES_refroidissement_depensier    10000 non-null  float64\n",
      " 36  Emission_GES_auxiliaires                  10000 non-null  float64\n",
      " 37  Cout_chauffage_energie_num1               10000 non-null  float64\n",
      " 38  Cout_ECS_energie_num1                     10000 non-null  float64\n",
      " 39  Emission_GES_5_usages_energie_num1        10000 non-null  float64\n",
      " 40  Type_energie_num1                         10000 non-null  object \n",
      " 41  Cout_total_5_usages                       10000 non-null  float64\n",
      " 42  Cout_chauffage                            10000 non-null  float64\n",
      " 43  Cout_chauffage_depensier                  10000 non-null  float64\n",
      " 44  Cout_eclairage                            10000 non-null  float64\n",
      " 45  Cout_ECS_depensier                        10000 non-null  float64\n",
      " 46  Cout_ECS                                  10000 non-null  float64\n",
      " 47  Cout_refroidissement                      10000 non-null  float64\n",
      " 48  Cout_refroidissement_depensier            10000 non-null  float64\n",
      " 49  Cout_auxiliaires                          10000 non-null  float64\n",
      " 50  Qualite_isolation_enveloppe               10000 non-null  object \n",
      " 51  Qualite_isolation_menuiseries             10000 non-null  object \n",
      " 52  Qualite_isolation_murs                    10000 non-null  object \n",
      " 53  Ubat_W_m2_K                               10000 non-null  float64\n",
      " 54  Appartement_non_visite_0_1                10000 non-null  object \n",
      " 55  Nombre_appartement                        10000 non-null  float64\n",
      " 56  Nombre_niveau_immeuble                    10000 non-null  float64\n",
      " 57  Nombre_niveau_logement                    10000 non-null  float64\n",
      " 58  Surface_habitable_immeuble                10000 non-null  float64\n",
      " 59  Surface_habitable_logement                10000 non-null  float64\n",
      " 60  Score_BAN                                 10000 non-null  float64\n",
      " 61  Cout_chauffage_energie_num2               10000 non-null  float64\n",
      " 62  Cout_ECS_energie_num2                     10000 non-null  float64\n",
      " 63  Type_energie_num2                         10000 non-null  object \n",
      " 64  Emission_GES_5_usages_energie_num2        10000 non-null  float64\n",
      " 65  Qualite_isolation_plancher_bas            10000 non-null  object \n",
      "dtypes: float64(53), object(13)\n",
      "memory usage: 5.0+ MB\n"
     ]
    }
   ],
   "source": [
    "df_data.info()\n",
    "\n"
   ]
  },
  {
   "cell_type": "markdown",
   "id": "c2a9c297-bf44-4676-96f7-42073f36dacf",
   "metadata": {},
   "source": [
    "**Data vizualisation**\n",
    "\n"
   ]
  },
  {
   "cell_type": "code",
   "execution_count": 377,
   "id": "2ea27167-5b34-4239-95f3-c7a54d3abe42",
   "metadata": {},
   "outputs": [],
   "source": [
    "test = df_data['Etiquette_DPE'].value_counts() / len(df_data) * 100\n",
    "values = np.array(df_data['Etiquette_DPE'].value_counts() / len(df_data) * 100)\n",
    "labels = np.array(test.index)\n",
    "\n"
   ]
  },
  {
   "cell_type": "code",
   "execution_count": 378,
   "id": "fbfa3197-eea3-4ebc-a801-8aa767b4a733",
   "metadata": {},
   "outputs": [
    {
     "data": {
      "image/png": "[encoded data removed]",
      "text/plain": [
       "<Figure size 640x480 with 1 Axes>"
      ]
     },
     "metadata": {},
     "output_type": "display_data"
    }
   ],
   "source": [
    "plt.figure()\n",
    "plt.pie(values, labels=labels, autopct='%1.1f%%')\n",
    "plt.title(\"Répartition des DPE de 2021 en %\")\n",
    "plt.show()\n",
    "\n"
   ]
  },
  {
   "cell_type": "code",
   "execution_count": 379,
   "id": "edb1ba72-6152-495e-a93c-a87a4d7cfff4",
   "metadata": {},
   "outputs": [
    {
     "data": {
      "image/png": "[encoded data removed]",
      "text/plain": [
       "<Figure size 640x480 with 1 Axes>"
      ]
     },
     "metadata": {},
     "output_type": "display_data"
    }
   ],
   "source": [
    "plt.figure()\n",
    "sns.countplot(data = df_data, x = 'Etiquette_DPE', order = df_data['Etiquette_DPE'].value_counts().index)\n",
    "plt.title(\"Répartition des DPE\")\n",
    "plt.show()\n",
    "\n"
   ]
  },
  {
   "cell_type": "code",
   "execution_count": 380,
   "id": "8c0b2782-dc38-43f4-b3b1-ca4e952bfb92",
   "metadata": {},
   "outputs": [
    {
     "data": {
      "image/png": "[encoded data removed]",
      "text/plain": [
       "<Figure size 640x480 with 1 Axes>"
      ]
     },
     "metadata": {},
     "output_type": "display_data"
    }
   ],
   "source": [
    "plt.figure()\n",
    "sns.countplot(data = df_data, x = 'Type_batiment', order = df_data['Type_batiment'].value_counts().index, hue = 'Etiquette_DPE')\n",
    "plt.title(\"Répartition des DPE par type de bâtiment\")\n",
    "plt.show()\n",
    "\n"
   ]
  },
  {
   "cell_type": "code",
   "execution_count": 381,
   "id": "b98b4dd0-89b9-4bed-bb77-eda4ccf69ff2",
   "metadata": {},
   "outputs": [
    {
     "data": {
      "image/png": "[encoded data removed]",
      "text/plain": [
       "<Figure size 640x480 with 1 Axes>"
      ]
     },
     "metadata": {},
     "output_type": "display_data"
    }
   ],
   "source": [
    "plt.figure()\n",
    "sns.countplot(data = df_data, x = 'Qualite_isolation_enveloppe', order = df_data['Qualite_isolation_enveloppe'].value_counts().index, hue = 'Etiquette_DPE')\n",
    "plt.xticks(rotation=90)\n",
    "plt.title(\"Répartition des DPE par Qualite_isolation_enveloppe\")\n",
    "plt.show()\n",
    "\n"
   ]
  },
  {
   "cell_type": "code",
   "execution_count": 382,
   "id": "46b164f6-33d8-423f-98a2-00f9d4fb5d3a",
   "metadata": {},
   "outputs": [
    {
     "data": {
      "image/png": "[encoded data removed]",
      "text/plain": [
       "<Figure size 640x480 with 1 Axes>"
      ]
     },
     "metadata": {},
     "output_type": "display_data"
    }
   ],
   "source": [
    "plt.figure()\n",
    "sns.countplot(data = df_data, x = 'Type_energie_num1', order = df_data['Type_energie_num1'].value_counts().index, hue = 'Etiquette_DPE')\n",
    "plt.xticks(rotation=90)\n",
    "plt.title(\"Répartition des DPE par Type_energie_num1\")\n",
    "plt.show()\n",
    "\n"
   ]
  },
  {
   "cell_type": "code",
   "execution_count": 383,
   "id": "17f048d4-eae6-4ebd-8b3f-3a1e23646891",
   "metadata": {},
   "outputs": [],
   "source": [
    "#plt.figure()\n",
    "#sns.boxplot(x=\"Etiquette_DPE\", y=\"Conso_5_usages_finale\", data=df_data)\n",
    "#plt.show()\n",
    "\n"
   ]
  },
  {
   "cell_type": "code",
   "execution_count": 384,
   "id": "b67a8772-f96f-4798-b78a-08c22b4ce497",
   "metadata": {},
   "outputs": [],
   "source": [
    "# def find_outliers(col):\n",
    "#     q1 = col.quantile(.25)\n",
    "#     q3 = col.quantile(.75)\n",
    "#     IQR = q3 - q1\n",
    "#     ll = q1 - (1.5*IQR)\n",
    "#     ul = q3 + (1.5*IQR)\n",
    "#     upper_outliers = col[col > ul].index.tolist()\n",
    "#     lower_outliers = col[col < ll].index.tolist()\n",
    "#     bad_indices = list(set(upper_outliers + lower_outliers))\n",
    "#     return(bad_indices)\n",
    "\n"
   ]
  },
  {
   "cell_type": "code",
   "execution_count": 385,
   "id": "ee092731-86ee-4107-852a-0e6af373612f",
   "metadata": {},
   "outputs": [],
   "source": [
    "# bad_indexes = []\n",
    "# for col in df_data.columns:\n",
    "#     if df_data[col].dtype in [\"int64\",\"float64\"]:\n",
    "#         bad_indexes.append(find_outliers(df_data[col]))\n",
    "\n",
    "# bad_indexes = set(list(np.concatenate(bad_indexes).flat))\n",
    "# print(len(bad_indexes))\n",
    "\n"
   ]
  },
  {
   "cell_type": "code",
   "execution_count": 386,
   "id": "da35efc9-e8b4-4b1f-8dce-d59e68cdfabf",
   "metadata": {},
   "outputs": [],
   "source": [
    "# plt.figure(figsize=(70, 70))\n",
    "# sns.heatmap(df_data.corr(), annot=True, cmap='coolwarm')\n",
    "# plt.show()\n",
    "\n"
   ]
  },
  {
   "cell_type": "code",
   "execution_count": 387,
   "id": "86ce212d-0541-49a1-8363-86f7f3a875bc",
   "metadata": {},
   "outputs": [],
   "source": [
    "#df_data['Version_DPE'].value_counts()\n",
    "\n"
   ]
  },
  {
   "cell_type": "code",
   "execution_count": 388,
   "id": "a3245a71-cb51-4d14-8647-c4a802b87da4",
   "metadata": {},
   "outputs": [],
   "source": [
    "# sns.pairplot(data=df_data[['Cout_total_5_usages', 'Conso_eclairage_finale', 'Cout_eclairage', 'Cout_ECS', 'Etiquette_DPE']], hue=\"Etiquette_DPE\")\n",
    "# plt.show()\n",
    "\n"
   ]
  },
  {
   "cell_type": "code",
   "execution_count": 465,
   "id": "d4686b39-653e-447a-9511-90e8a3493438",
   "metadata": {},
   "outputs": [
    {
     "data": {
      "image/png": "[encoded data removed]",
      "text/plain": [
       "<Figure size 1200x400 with 1 Axes>"
      ]
     },
     "metadata": {},
     "output_type": "display_data"
    }
   ],
   "source": [
    "plt.figure(figsize=(12, 8))\n",
    "sns.scatterplot(x=\"Cout_total_5_usages\", y=\"Cout_ECS_energie_num1\", data=df, hue=\"Etiquette_DPE\")\n",
    "plt.show()\n",
    "\n"
   ]
  },
  {
   "cell_type": "markdown",
   "id": "aa6fe1fe-11ba-429e-ada3-7bc93369f1d4",
   "metadata": {},
   "source": [
    "**Dummies**\n",
    "\n"
   ]
  },
  {
   "cell_type": "code",
   "execution_count": 390,
   "id": "b6547d11-3943-4a0b-a201-bb64af2293e4",
   "metadata": {},
   "outputs": [],
   "source": [
    "# categorical_columns = ['Modele_DPE', 'Version_DPE', 'Methode_application_DPE', \n",
    "#                       'Type_batiment', 'Type_energie_num1', 'Qualite_isolation_enveloppe',\n",
    "#                       'Qualite_isolation_menuiseries', 'Qualite_isolation_murs', 'Appartement_non_visite_0_1',\n",
    "#                       'Type_energie_num2', 'Qualite_isolation_plancher_bas']\n",
    "\n"
   ]
  },
  {
   "cell_type": "code",
   "execution_count": 391,
   "id": "9ca736f0-0a16-4242-8aff-b9d2722b129f",
   "metadata": {},
   "outputs": [],
   "source": [
    "# to_dummify = df_data[categorical_columns]\n",
    "\n"
   ]
  },
  {
   "cell_type": "code",
   "execution_count": 392,
   "id": "64c0299c-ea8e-4add-a2fb-32d2bcba8b4f",
   "metadata": {},
   "outputs": [],
   "source": [
    "# dummies = pd.get_dummies(to_dummify)\n",
    "\n",
    "# dummies.columns\n",
    "\n"
   ]
  },
  {
   "cell_type": "code",
   "execution_count": 393,
   "id": "0dc3e463-f803-4409-945c-38c8c9bddbcf",
   "metadata": {},
   "outputs": [],
   "source": [
    "# dummies = dummies.drop(['Appartement_non_visite_0_1_FAUX'], axis=1)\n",
    "\n",
    "# dummies.columns, dummies.shape\n",
    "\n"
   ]
  },
  {
   "cell_type": "markdown",
   "id": "09f0d01e-6c1e-4bb9-ad21-42ecd6936dc8",
   "metadata": {},
   "source": [
    "**Scaling**\n",
    "\n"
   ]
  },
  {
   "cell_type": "code",
   "execution_count": 394,
   "id": "3a7f9e44-cb2c-43fa-b671-5d62661d460e",
   "metadata": {},
   "outputs": [],
   "source": [
    "# to_scale = df_data[numerical_columns]\n",
    "\n",
    "# to_scale.info()\n",
    "\n"
   ]
  },
  {
   "cell_type": "code",
   "execution_count": 395,
   "id": "aa259d89-fd62-43cd-9baa-9ff3acba6bd0",
   "metadata": {},
   "outputs": [],
   "source": [
    "# to_scale = (to_scale - to_scale.mean(axis=0))/(to_scale.std(axis=0))\n",
    "\n",
    "# to_scale.describe()\n",
    "\n"
   ]
  },
  {
   "cell_type": "code",
   "execution_count": 396,
   "id": "520be410-3572-4c9c-a884-342eed71c9a7",
   "metadata": {},
   "outputs": [],
   "source": [
    "# X = pd.concat([to_scale, dummies], axis=1)\n",
    "\n",
    "# X.shape\n",
    "\n"
   ]
  },
  {
   "cell_type": "code",
   "execution_count": 397,
   "id": "123031b5-845b-4ff2-ad97-44828267995e",
   "metadata": {},
   "outputs": [],
   "source": [
    "# X.head()\n",
    "\n"
   ]
  },
  {
   "cell_type": "code",
   "execution_count": 398,
   "id": "9d43e358-1dca-4c93-a4b7-545cdb509e8e",
   "metadata": {},
   "outputs": [],
   "source": [
    "# X.info()\n",
    "\n"
   ]
  },
  {
   "cell_type": "code",
   "execution_count": 399,
   "id": "d7eb774f-4c57-4935-a48c-d4f1d9212177",
   "metadata": {},
   "outputs": [],
   "source": [
    "# y = df_data['Etiquette_DPE']\n",
    "\n",
    "# print(\"y shape \", y.shape)\n",
    "\n"
   ]
  },
  {
   "cell_type": "markdown",
   "id": "4f2ccacd-4783-48a6-a73e-1eedf21953b9",
   "metadata": {},
   "source": [
    "**PCA**\n",
    "\n"
   ]
  },
  {
   "cell_type": "code",
   "execution_count": 400,
   "id": "453bc526-68af-4ebd-b2ff-b094e6014b7d",
   "metadata": {},
   "outputs": [],
   "source": [
    "# pca = PCA(n_components=0.99)\n",
    "\n",
    "# pca.fit(X)\n",
    "\n",
    "# print('retained variance',np.sum(pca.explained_variance_ratio_))\n",
    "\n",
    "# X_pca = pca.transform(X)\n",
    "\n",
    "# print(\"X_pca shape \", X_pca.shape)\n",
    "\n"
   ]
  },
  {
   "cell_type": "markdown",
   "id": "110be621-7802-4734-b23f-9c321d936bf3",
   "metadata": {},
   "source": [
    "**Split**\n",
    "\n"
   ]
  },
  {
   "cell_type": "code",
   "execution_count": 401,
   "id": "b74ce027-79bc-47f2-b2be-a30c30b75a4d",
   "metadata": {},
   "outputs": [],
   "source": [
    "# X_train, X_test, y_train, y_test = train_test_split(X_pca, y, test_size=0.2, random_state=0, stratify=y)\n",
    "\n",
    "# X_train.shape, X_test.shape, y_train.shape, y_test.shape\n",
    "\n"
   ]
  },
  {
   "cell_type": "markdown",
   "id": "c877ce02-67fb-4b6e-9f78-70ee46b3986b",
   "metadata": {},
   "source": [
    "**Modelisation**\n",
    "\n"
   ]
  },
  {
   "cell_type": "markdown",
   "id": "2f6aecf2-5aac-4b33-8ca9-3a88940a21a0",
   "metadata": {},
   "source": [
    "**Logistic regression**\n",
    "\n"
   ]
  },
  {
   "cell_type": "code",
   "execution_count": 402,
   "id": "12cf7bdf-b91c-41d8-a8f0-bb5197103336",
   "metadata": {},
   "outputs": [],
   "source": [
    "# lr = LogisticRegression()\n",
    "\n",
    "# lr.fit(X_train, y_train)\n",
    "\n",
    "# y_train_pred = lr.predict(X_train)\n",
    "\n",
    "# y_test_pred = lr.predict(X_test)\n",
    "\n"
   ]
  },
  {
   "cell_type": "code",
   "execution_count": 403,
   "id": "f0728b65-b2f0-4583-8d13-31d48ca3c998",
   "metadata": {},
   "outputs": [],
   "source": [
    "# def print_metrics(y_train, y_test, y_train_pred, y_test_pred):\n",
    "#     print('Train dataset')\n",
    "#     print('-------------')\n",
    "#     print('accuracy', accuracy_score(y_train, y_train_pred))\n",
    "#     print('precision', precision_score(y_train, y_train_pred, average=None))\n",
    "#     print('recall', recall_score(y_train, y_train_pred, average=None))\n",
    "#     print('F-score', f1_score(y_train, y_train_pred, average=None))\n",
    "\n",
    "#     print('-------------')\n",
    "#     print('-------------')\n",
    "\n",
    "#     print('Test dataset')\n",
    "#     print('-------------')\n",
    "#     print('accuracy', accuracy_score(y_test, y_test_pred))\n",
    "#     print('precision', precision_score(y_test, y_test_pred, average=None))\n",
    "#     print('recall', recall_score(y_test, y_test_pred, average=None))\n",
    "#     print('F-score', f1_score(y_test, y_test_pred, average=None))\n",
    "\n"
   ]
  },
  {
   "cell_type": "code",
   "execution_count": 404,
   "id": "d25c4589-db1f-40db-89aa-d1398ca0f774",
   "metadata": {},
   "outputs": [],
   "source": [
    "# print_metrics(y_train, y_test, y_train_pred, y_test_pred)\n",
    "\n"
   ]
  },
  {
   "cell_type": "code",
   "execution_count": 405,
   "id": "a9905584-d9ca-4e2b-8779-e0d26e2669ce",
   "metadata": {},
   "outputs": [],
   "source": [
    "# print(classification_report(y_train, y_train_pred))\n",
    "\n"
   ]
  },
  {
   "cell_type": "code",
   "execution_count": 406,
   "id": "7928685b-520a-4034-aadf-8b0b8ea08091",
   "metadata": {},
   "outputs": [],
   "source": [
    "# print(classification_report(y_test, y_test_pred))\n",
    "\n"
   ]
  },
  {
   "cell_type": "markdown",
   "id": "43fa0725-e226-433e-9f9d-8921a97e847b",
   "metadata": {},
   "source": [
    "**SVM**\n",
    "\n"
   ]
  },
  {
   "cell_type": "code",
   "execution_count": 407,
   "id": "9a3b266a-b4ee-4f9b-a69f-80a84e3d5e6a",
   "metadata": {},
   "outputs": [],
   "source": [
    "# svm = SVC()\n",
    "\n",
    "# svm.fit(X_train, y_train)\n",
    "\n",
    "# y_train_pred = svm.predict(X_train)\n",
    "\n",
    "# y_test_pred = svm.predict(X_test)\n",
    "\n"
   ]
  },
  {
   "cell_type": "code",
   "execution_count": 408,
   "id": "9e227274-f599-40c4-b2b4-5cc92f2e9c58",
   "metadata": {},
   "outputs": [],
   "source": [
    "# print_metrics(y_train, y_test, y_train_pred, y_test_pred)\n",
    "\n"
   ]
  },
  {
   "cell_type": "code",
   "execution_count": 409,
   "id": "0e81c697-f9a5-489e-8f1e-a8be29fb3588",
   "metadata": {},
   "outputs": [],
   "source": [
    "# print(classification_report(y_train, y_train_pred))\n",
    "\n"
   ]
  },
  {
   "cell_type": "code",
   "execution_count": 410,
   "id": "eae06de6-57fd-41cc-927c-edc43526e065",
   "metadata": {},
   "outputs": [],
   "source": [
    "# print(classification_report(y_test, y_test_pred))\n",
    "\n"
   ]
  },
  {
   "cell_type": "markdown",
   "id": "c2c62152-6b56-4774-9db5-a04379801e2e",
   "metadata": {},
   "source": [
    "**Random forest**\n",
    "\n"
   ]
  },
  {
   "cell_type": "code",
   "execution_count": 411,
   "id": "aebf48a6-20b6-40af-a87f-40ed45498549",
   "metadata": {},
   "outputs": [],
   "source": [
    "# rf = RandomForestClassifier()\n",
    "\n",
    "# rf.fit(X_train, y_train)\n",
    "\n",
    "# y_train_pred = rf.predict(X_train)\n",
    "\n",
    "# y_test_pred = rf.predict(X_test)\n",
    "\n"
   ]
  },
  {
   "cell_type": "code",
   "execution_count": 412,
   "id": "cae003f9-271c-418d-959b-9aea8791032f",
   "metadata": {},
   "outputs": [],
   "source": [
    "# print_metrics(y_train, y_test, y_train_pred, y_test_pred)\n",
    "\n"
   ]
  },
  {
   "cell_type": "code",
   "execution_count": 413,
   "id": "1e00062a-1f4e-4eb3-938d-f1693205f136",
   "metadata": {},
   "outputs": [],
   "source": [
    "# print(classification_report(y_train, y_train_pred))\n",
    "\n"
   ]
  },
  {
   "cell_type": "code",
   "execution_count": 414,
   "id": "69307733-ee20-4515-9e85-0bdbfeecfc73",
   "metadata": {},
   "outputs": [],
   "source": [
    "# print(classification_report(y_test, y_test_pred))\n",
    "\n"
   ]
  },
  {
   "cell_type": "markdown",
   "id": "39635c0d-5ebd-469d-a626-4c3d4de8b460",
   "metadata": {},
   "source": [
    "**xGB**\n",
    "\n"
   ]
  },
  {
   "cell_type": "code",
   "execution_count": 415,
   "id": "7bd3cf46-4d67-4a48-b43e-e17d68d0b405",
   "metadata": {},
   "outputs": [],
   "source": [
    "# y_train_gb = np.zeros(len(y_train))\n",
    "# y_train_gb[y_train=='A']=0\n",
    "# y_train_gb[y_train=='B']=1\n",
    "# y_train_gb[y_train=='C']=2\n",
    "# y_train_gb[y_train=='D']=3\n",
    "# y_train_gb[y_train=='E']=4\n",
    "# y_train_gb[y_train=='F']=5\n",
    "# y_train_gb[y_train=='G']=6\n",
    "# y_train_gb\n",
    "\n"
   ]
  },
  {
   "cell_type": "code",
   "execution_count": 416,
   "id": "719b7b16-230c-4ba9-a547-6872a2254652",
   "metadata": {},
   "outputs": [],
   "source": [
    "# y_test_gb = np.zeros(len(y_test))\n",
    "# y_test_gb[y_test=='A']=0\n",
    "# y_test_gb[y_test=='B']=1\n",
    "# y_test_gb[y_test=='C']=2\n",
    "# y_test_gb[y_test=='D']=3\n",
    "# y_test_gb[y_test=='E']=4\n",
    "# y_test_gb[y_test=='F']=5\n",
    "# y_test_gb[y_test=='G']=6\n",
    "# y_test_gb\n",
    "\n"
   ]
  },
  {
   "cell_type": "code",
   "execution_count": 417,
   "id": "f661a4a3-22e8-4f71-a974-915a5897cddf",
   "metadata": {},
   "outputs": [],
   "source": [
    "# GBC = xgb.XGBClassifier()\n",
    "\n",
    "# GBC.fit(X_train, y_train_gb)\n",
    "\n",
    "# y_train_pred = GBC.predict(X_train)\n",
    "\n",
    "# y_test_pred = GBC.predict(X_test)\n",
    "\n"
   ]
  },
  {
   "cell_type": "code",
   "execution_count": 418,
   "id": "dbb0f57d-4fb8-4129-ad1c-8264ecb911fd",
   "metadata": {},
   "outputs": [],
   "source": [
    "# array_dict = {0.: 'A', 1.: 'B', 2.: 'C', 3.: 'D', 4.: 'E', 5.: 'F', 6.:'G'}\n",
    "\n",
    "# y_train_gb = [array_dict[i] for i in y_train_gb]\n",
    "\n",
    "# y_test_gb = [array_dict[i] for i in y_test_gb]\n",
    "\n",
    "# y_train_pred = [array_dict[i] for i in y_train_pred]\n",
    "\n",
    "# y_test_pred = [array_dict[i] for i in y_test_pred]\n",
    "\n"
   ]
  },
  {
   "cell_type": "code",
   "execution_count": 419,
   "id": "cadef107-f55f-4f6f-8b64-eabaf799b8a5",
   "metadata": {},
   "outputs": [],
   "source": [
    "# print_metrics(y_train_gb, y_test_gb, y_train_pred, y_test_pred)\n",
    "\n"
   ]
  },
  {
   "cell_type": "code",
   "execution_count": 420,
   "id": "8f38be50-7e16-4ef0-bb3a-64db93e577ea",
   "metadata": {},
   "outputs": [],
   "source": [
    "# print(classification_report(y_train_gb, y_train_pred))\n",
    "\n"
   ]
  },
  {
   "cell_type": "code",
   "execution_count": 421,
   "id": "1367f831-b43b-41c3-862e-ae253ddf8cfe",
   "metadata": {},
   "outputs": [],
   "source": [
    "# print(classification_report(y_test_gb, y_test_pred))\n",
    "\n"
   ]
  },
  {
   "cell_type": "markdown",
   "id": "86923e71-21f4-40a1-8e32-a7fc5e2fac35",
   "metadata": {},
   "source": [
    "**Hyperparameter optimization**\n",
    "\n"
   ]
  },
  {
   "cell_type": "markdown",
   "id": "2f92c72b-23e3-4df2-b8a3-b5c7ad071925",
   "metadata": {},
   "source": [
    "**Random forest**\n",
    "\n"
   ]
  },
  {
   "cell_type": "code",
   "execution_count": 422,
   "id": "cf1ab793-9524-4c3d-bcaa-34016b367421",
   "metadata": {},
   "outputs": [],
   "source": [
    "# tuned_parameters = [{'max_depth': [5, 10, 20, 30, None], 'n_estimators': [10, 30, 50], 'criterion':['gini', 'entropy'],\n",
    "#                      'class_weight': ['balanced', 'balanced_subsample', None]}]\n",
    "\n",
    "# clf = GridSearchCV(RandomForestClassifier(n_jobs=-1, random_state=0), tuned_parameters, cv=5, scoring='f1')\n",
    "# clf.fit(X_train, y_train)\n",
    "\n"
   ]
  },
  {
   "cell_type": "code",
   "execution_count": 423,
   "id": "88af3bf9-3436-413e-b2a0-d99b76af46fd",
   "metadata": {},
   "outputs": [],
   "source": [
    "# clf.best_estimator_\n",
    "#RandomForestClassifier(class_weight='balanced', max_depth=5, n_estimators=10, n_jobs=-1, random_state=0)\n",
    "\n",
    "# from joblib import dump, load\n",
    "# svc = svm.SVC() # Probably not what you are using, but just as an example\n",
    "# gcv = GridSearchCv(svc, parameters, refit=True) \n",
    "# gvc.fit(X, y)\n",
    "# estimator = gcv.best_estimator_\n",
    "# dump(estimator, \"your-model.joblib\")\n",
    "# # Somewhere else\n",
    "# estimator = load(\"your-model.joblib\")\n",
    "\n"
   ]
  },
  {
   "cell_type": "code",
   "execution_count": 424,
   "id": "b893aa0d-3826-43e2-98f4-2a8c3563868f",
   "metadata": {},
   "outputs": [],
   "source": [
    "# clf.best_params_\n",
    "# {'class_weight': 'balanced',\n",
    "#  'criterion': 'gini',\n",
    "#  'max_depth': 5,\n",
    "#  'n_estimators': 10}\n",
    "\n"
   ]
  },
  {
   "cell_type": "code",
   "execution_count": 425,
   "id": "16d9651e-db53-4a2b-b524-e812a09e73ef",
   "metadata": {},
   "outputs": [],
   "source": [
    "# rf = RandomForestClassifier(class_weight='balanced', max_depth=5, n_estimators=10, n_jobs=-1, random_state=0)\n",
    "\n",
    "# rf.fit(X_train, y_train)\n",
    "\n"
   ]
  },
  {
   "cell_type": "code",
   "execution_count": 426,
   "id": "841ef1b7-586f-4881-a253-765a5cf7f8c5",
   "metadata": {},
   "outputs": [],
   "source": [
    "# joblibpath = os.path.join('..','trained_models','rf_model.joblib')\n",
    "# joblib.dump(rf, joblibpath)\n",
    "\n"
   ]
  },
  {
   "cell_type": "code",
   "execution_count": 427,
   "id": "4fe6effd-2746-406b-abe2-03ccd64181c9",
   "metadata": {},
   "outputs": [],
   "source": [
    "# y_train_pred = rf.predict(X_train)\n",
    "\n",
    "# y_test_pred = rf.predict(X_test)\n",
    "\n"
   ]
  },
  {
   "cell_type": "code",
   "execution_count": 428,
   "id": "221d137f-4271-4571-85f7-0978b5009b68",
   "metadata": {},
   "outputs": [],
   "source": [
    "# print_metrics(y_train, y_test, y_train_pred, y_test_pred)\n",
    "\n"
   ]
  },
  {
   "cell_type": "code",
   "execution_count": 429,
   "id": "87f16d41-366b-48a6-b91f-db8caccf1cac",
   "metadata": {},
   "outputs": [],
   "source": [
    "# print(classification_report(y_train, y_train_pred))\n",
    "\n"
   ]
  },
  {
   "cell_type": "code",
   "execution_count": 430,
   "id": "d6acbd70-d77a-4ceb-86e2-f8b92d532430",
   "metadata": {},
   "outputs": [],
   "source": [
    "# print(classification_report(y_test, y_test_pred))\n",
    "\n"
   ]
  },
  {
   "cell_type": "markdown",
   "id": "d07a8cb5-0aef-416b-9a6d-c626be9558a1",
   "metadata": {},
   "source": [
    "**xGB**\n",
    "\n"
   ]
  },
  {
   "cell_type": "code",
   "execution_count": 431,
   "id": "c283ba70-e553-43e9-97f3-34d03128ec60",
   "metadata": {},
   "outputs": [],
   "source": [
    "# y_train_gb_grid = np.zeros(len(y_train))\n",
    "# y_train_gb_grid[y_train=='A']=0\n",
    "# y_train_gb_grid[y_train=='B']=1\n",
    "# y_train_gb_grid[y_train=='C']=2\n",
    "# y_train_gb_grid[y_train=='D']=3\n",
    "# y_train_gb_grid[y_train=='E']=4\n",
    "# y_train_gb_grid[y_train=='F']=5\n",
    "# y_train_gb_grid[y_train=='G']=6\n",
    "# y_train_gb_grid\n",
    "\n"
   ]
  },
  {
   "cell_type": "code",
   "execution_count": 432,
   "id": "2c64f128-aadc-4444-a83d-24252b12e6e8",
   "metadata": {},
   "outputs": [],
   "source": [
    "# y_train_gb = np.zeros(len(y_train))\n",
    "# y_train_gb[y_train=='A']=0\n",
    "# y_train_gb[y_train=='B']=1\n",
    "# y_train_gb[y_train=='C']=2\n",
    "# y_train_gb[y_train=='D']=3\n",
    "# y_train_gb[y_train=='E']=4\n",
    "# y_train_gb[y_train=='F']=5\n",
    "# y_train_gb[y_train=='G']=6\n",
    "#y_train_gb\n",
    "\n"
   ]
  },
  {
   "cell_type": "code",
   "execution_count": 433,
   "id": "e2e2b414-6f12-4c5a-a3be-8c9f82a549bb",
   "metadata": {},
   "outputs": [],
   "source": [
    "# y_test_gb = np.zeros(len(y_test))\n",
    "# y_test_gb[y_test=='A']=0\n",
    "# y_test_gb[y_test=='B']=1\n",
    "# y_test_gb[y_test=='C']=2\n",
    "# y_test_gb[y_test=='D']=3\n",
    "# y_test_gb[y_test=='E']=4\n",
    "# y_test_gb[y_test=='F']=5\n",
    "# y_test_gb[y_test=='G']=6\n",
    "#y_test_gb\n",
    "\n"
   ]
  },
  {
   "cell_type": "code",
   "execution_count": 434,
   "id": "8f8b7380-4cf5-46e1-98ac-2aa0fc1b7e42",
   "metadata": {},
   "outputs": [],
   "source": [
    "# tuned_parameters = [{'max_depth': [10, 100, 1000], 'n_estimators': [10, 30, 100], 'learning_rate': [0.01, 0.1],\n",
    "#                      'subsample':[1, 0.9, 0.8]}]\n",
    "\n",
    "# clf = GridSearchCV(xgb.XGBClassifier(), tuned_parameters, cv=5, scoring='f1')\n",
    "# clf.fit(X_train, y_train_gb_grid)\n",
    "\n"
   ]
  },
  {
   "cell_type": "code",
   "execution_count": 435,
   "id": "b97e9073-cf78-44fa-abe1-2c60ce39d7f5",
   "metadata": {},
   "outputs": [],
   "source": [
    "# clf.best_estimator_\n",
    "\n"
   ]
  },
  {
   "cell_type": "code",
   "execution_count": 436,
   "id": "8e0eed04-01bf-4cc9-8ce7-202d93e7705f",
   "metadata": {},
   "outputs": [],
   "source": [
    "# XGBClassifier(base_score=None, booster=None, callbacks=None,\n",
    "#               colsample_bylevel=None, colsample_bynode=None,\n",
    "#               colsample_bytree=None, device=None, early_stopping_rounds=None,\n",
    "#               enable_categorical=False, eval_metric=None, feature_types=None,\n",
    "#               gamma=None, grow_policy=None, importance_type=None,\n",
    "#               interaction_constraints=None, learning_rate=0.01, max_bin=None,\n",
    "#               max_cat_threshold=None, max_cat_to_onehot=None,\n",
    "#               max_delta_step=None, max_depth=10, max_leaves=None,\n",
    "#               min_child_weight=None, missing=nan, monotone_constraints=None,\n",
    "#               multi_strategy=None, n_estimators=10, n_jobs=None,\n",
    "#               num_parallel_tree=None, objective='multi:softprob', ...)\n",
    "\n"
   ]
  },
  {
   "cell_type": "code",
   "execution_count": 437,
   "id": "a1a04ef4-65f7-46fe-90cb-5983253cfe91",
   "metadata": {},
   "outputs": [],
   "source": [
    "# clf.best_params_\n",
    "#{'learning_rate': 0.01, 'max_depth': 10, 'n_estimators': 10, 'subsample': 1}\n",
    "\n"
   ]
  },
  {
   "cell_type": "code",
   "execution_count": 438,
   "id": "5258fc0c-aa59-4ba8-8de4-58a9ab9ef67d",
   "metadata": {},
   "outputs": [],
   "source": [
    "# GBC = xgb.XGBClassifier(learning_rate=0.01, max_depth=10, n_estimators=10, subsample=1)\n",
    "\n",
    "# GBC.fit(X_train, y_train_gb)\n",
    "\n"
   ]
  },
  {
   "cell_type": "code",
   "execution_count": 439,
   "id": "562a2df7-4c92-4d20-9ffc-d548e6eef287",
   "metadata": {},
   "outputs": [],
   "source": [
    "# joblibpath = os.path.join('..','trained_models','gbc_model.joblib')\n",
    "# joblib.dump(GBC, joblibpath)\n",
    "\n"
   ]
  },
  {
   "cell_type": "code",
   "execution_count": 440,
   "id": "dbf44144-2d9d-4131-8011-43f2f0168117",
   "metadata": {},
   "outputs": [],
   "source": [
    "# y_train_pred = GBC.predict(X_train)\n",
    "\n",
    "# y_test_pred = GBC.predict(X_test)\n",
    "\n"
   ]
  },
  {
   "cell_type": "code",
   "execution_count": 441,
   "id": "4e5b5d75-4467-482d-b4eb-1f5f95c5179b",
   "metadata": {},
   "outputs": [],
   "source": [
    "# array_dict = {0.: 'A', 1.: 'B', 2.: 'C', 3.: 'D', 4.: 'E', 5.: 'F', 6.:'G'}\n",
    "\n",
    "# y_train_gb = [array_dict[i] for i in y_train_gb]\n",
    "\n",
    "# y_test_gb = [array_dict[i] for i in y_test_gb]\n",
    "\n",
    "# y_train_pred = [array_dict[i] for i in y_train_pred]\n",
    "\n",
    "# y_test_pred = [array_dict[i] for i in y_test_pred]\n",
    "\n"
   ]
  },
  {
   "cell_type": "code",
   "execution_count": 442,
   "id": "f06926ca-d6b0-477c-a356-9184da5a75bd",
   "metadata": {},
   "outputs": [],
   "source": [
    "# print_metrics(y_train_gb, y_test_gb, y_train_pred, y_test_pred)\n",
    "\n"
   ]
  },
  {
   "cell_type": "code",
   "execution_count": 443,
   "id": "55e761b4-69c3-4348-9d40-22151586add1",
   "metadata": {},
   "outputs": [],
   "source": [
    "# print(classification_report(y_train_gb, y_train_pred))\n",
    "\n"
   ]
  },
  {
   "cell_type": "code",
   "execution_count": 444,
   "id": "bdd068a1-499f-44ac-90b4-315793b46fc0",
   "metadata": {},
   "outputs": [],
   "source": [
    "# print(classification_report(y_test_gb, y_test_pred))\n",
    "\n"
   ]
  },
  {
   "cell_type": "markdown",
   "id": "0f759cc1-b61d-4a2d-92a5-0acac9ae866b",
   "metadata": {},
   "source": [
    "**Logistic regression**\n",
    "\n"
   ]
  },
  {
   "cell_type": "code",
   "execution_count": 445,
   "id": "0d51c5f7-8cbb-49bb-80d4-3aa5f0000c8a",
   "metadata": {},
   "outputs": [],
   "source": [
    "# lr = LogisticRegression(multi_class='multinomial', solver ='lbfgs', max_iter=4000)\n",
    "\n",
    "# param_grid = {'C':[0.01, 0.1, 1, 10, 100, 1000], 'penalty':['l2']}\n",
    "\n",
    "# grid = GridSearchCV(lr, param_grid, cv=5, scoring='f1')\n",
    "\n",
    "# grid.fit(X_train, y_train)\n",
    "\n"
   ]
  },
  {
   "cell_type": "code",
   "execution_count": 446,
   "id": "a896b98b-f01a-4fb5-bba6-0acf899b5c7f",
   "metadata": {},
   "outputs": [],
   "source": [
    "# grid.best_estimator_\n",
    "#LogisticRegression(C=0.01, max_iter=4000, multi_class='multinomial')\n",
    "\n"
   ]
  },
  {
   "cell_type": "code",
   "execution_count": 447,
   "id": "fa437860-b225-4070-ad04-f635838e93c8",
   "metadata": {},
   "outputs": [],
   "source": [
    "# grid.best_params_\n",
    "#{'C': 0.01, 'penalty': 'l2'}\n",
    "\n"
   ]
  },
  {
   "cell_type": "code",
   "execution_count": 448,
   "id": "63bbe701-3ea8-48db-ac05-44b47e8290a7",
   "metadata": {},
   "outputs": [],
   "source": [
    "# lr = LogisticRegression(max_iter=4000, multi_class='multinomial', solver='lbfgs', penalty='l2')\n",
    "\n",
    "# lr.fit(X_train, y_train)\n",
    "\n"
   ]
  },
  {
   "cell_type": "code",
   "execution_count": 449,
   "id": "772667fc-9880-406e-bcc8-4d3cced92391",
   "metadata": {},
   "outputs": [],
   "source": [
    "# joblibpath = os.path.join('..','trained_models','lr_model.joblib')\n",
    "# joblib.dump(lr, joblibpath)\n",
    "\n"
   ]
  },
  {
   "cell_type": "code",
   "execution_count": 450,
   "id": "e792767e-eae3-46f5-9a4e-e12ba7533c97",
   "metadata": {},
   "outputs": [],
   "source": [
    "# y_train_pred = lr.predict(X_train)\n",
    "\n",
    "# y_test_pred = lr.predict(X_test)\n",
    "\n"
   ]
  },
  {
   "cell_type": "code",
   "execution_count": 451,
   "id": "a11c5b5c-2abe-4fbe-bf83-7ddf6d7c00ad",
   "metadata": {},
   "outputs": [],
   "source": [
    "# print_metrics(y_train, y_test, y_train_pred, y_test_pred)\n",
    "\n"
   ]
  },
  {
   "cell_type": "code",
   "execution_count": 452,
   "id": "d3983942-6f29-4c9b-b440-aef4a01921ba",
   "metadata": {},
   "outputs": [],
   "source": [
    "# print(classification_report(y_train, y_train_pred))\n",
    "\n"
   ]
  },
  {
   "cell_type": "code",
   "execution_count": 453,
   "id": "1786356d-66a4-4e78-b776-10a1c9ad9267",
   "metadata": {},
   "outputs": [],
   "source": [
    "# print(classification_report(y_test, y_test_pred))\n",
    "\n"
   ]
  },
  {
   "cell_type": "markdown",
   "id": "1d4b8d14-e8f2-4967-806e-b4b4d1702ddf",
   "metadata": {},
   "source": [
    "**SVM**\n",
    "\n"
   ]
  },
  {
   "cell_type": "code",
   "execution_count": 454,
   "id": "caee714b-c29a-4fb9-bbcb-ea4ddc82223f",
   "metadata": {},
   "outputs": [],
   "source": [
    "# param_grid = {'C': [0.1, 1.0, 10.0, 100.0], 'gamma': [0,1,0.1,0.01,0.001],'kernel': ['rbf', 'poly', 'sigmoid']}\n",
    "\n",
    "# grid = GridSearchCV(SVC(), param_grid, cv=5, scoring='f1')\n",
    "# grid.fit(X_train,y_train)\n",
    "\n"
   ]
  },
  {
   "cell_type": "code",
   "execution_count": 455,
   "id": "30e0e27d-5a80-45e1-b499-85cb32962a04",
   "metadata": {},
   "outputs": [],
   "source": [
    "# grid.best_estimator_\n",
    "#SVC(C=0.1, gamma=0)\n",
    "\n"
   ]
  },
  {
   "cell_type": "code",
   "execution_count": 456,
   "id": "6595690b-03a1-4f49-ab90-0ae51358ccb3",
   "metadata": {},
   "outputs": [],
   "source": [
    "# grid.best_params_\n",
    "#{'C': 0.1, 'gamma': 0, 'kernel': 'rbf'}\n",
    "\n"
   ]
  },
  {
   "cell_type": "code",
   "execution_count": 457,
   "id": "7d998830-65f8-449a-9733-eb3018d4eaa0",
   "metadata": {},
   "outputs": [],
   "source": [
    "# svm = SVC(C=1, kernel='rbf', max_iter=4000)\n",
    "\n",
    "# svm.fit(X_train, y_train)\n",
    "\n"
   ]
  },
  {
   "cell_type": "code",
   "execution_count": 458,
   "id": "67edd514-1027-4a56-ac7c-d48ddc1318a8",
   "metadata": {},
   "outputs": [],
   "source": [
    "# joblibpath = os.path.join('..','trained_models','svm_model.joblib')\n",
    "# joblib.dump(svm, joblibpath)\n",
    "\n"
   ]
  },
  {
   "cell_type": "code",
   "execution_count": 459,
   "id": "c95b2c68-763b-4426-82e8-94600d1c25b3",
   "metadata": {},
   "outputs": [],
   "source": [
    "# y_train_pred = svm.predict(X_train)\n",
    "\n",
    "# y_test_pred = svm.predict(X_test)\n",
    "\n"
   ]
  },
  {
   "cell_type": "code",
   "execution_count": 460,
   "id": "becf504c-e01a-4016-8f77-57f105426204",
   "metadata": {},
   "outputs": [],
   "source": [
    "# print_metrics(y_train, y_test, y_train_pred, y_test_pred)\n",
    "\n"
   ]
  },
  {
   "cell_type": "code",
   "execution_count": 461,
   "id": "062868cc-dc88-4f93-b46a-5958e58afd4d",
   "metadata": {},
   "outputs": [],
   "source": [
    "# print(classification_report(y_train, y_train_pred))\n",
    "\n"
   ]
  },
  {
   "cell_type": "code",
   "execution_count": 462,
   "id": "807a2195-d75c-461c-a8dc-e4cd445b6699",
   "metadata": {},
   "outputs": [],
   "source": [
    "# print(classification_report(y_test, y_test_pred))\n",
    "\n"
   ]
  },
  {
   "cell_type": "code",
   "execution_count": null,
   "id": "99f0f87e-a420-4eb1-8745-2554d049fcb5",
   "metadata": {},
   "outputs": [],
   "source": []
  },
  {
   "cell_type": "code",
   "execution_count": null,
   "id": "2fdd6cf1-10bd-4425-ad4a-362f3ec5cc9f",
   "metadata": {},
   "outputs": [],
   "source": []
  },
  {
   "cell_type": "code",
   "execution_count": null,
   "id": "e87485a0-a606-417a-91d1-2b4ebc9aeabc",
   "metadata": {},
   "outputs": [],
   "source": []
  },
  {
   "cell_type": "code",
   "execution_count": null,
   "id": "55f63570-68c4-448d-8e03-476b28dacff5",
   "metadata": {},
   "outputs": [],
   "source": []
  },
  {
   "cell_type": "code",
   "execution_count": null,
   "id": "04ad4d0c-f7ff-40b8-9674-850628c1abe0",
   "metadata": {},
   "outputs": [],
   "source": []
  },
  {
   "cell_type": "code",
   "execution_count": null,
   "id": "810f9553-22b4-448c-a690-979c79c9af80",
   "metadata": {},
   "outputs": [],
   "source": []
  },
  {
   "cell_type": "code",
   "execution_count": null,
   "id": "c1bd322f-f190-4750-82cc-e4174602019e",
   "metadata": {},
   "outputs": [],
   "source": []
  }
 ],
 "metadata": {
  "kernelspec": {
   "display_name": "Python 3 (ipykernel)",
   "language": "python",
   "name": "python3"
  },
  "language_info": {
   "codemirror_mode": {
    "name": "ipython",
    "version": 3
   },
   "file_extension": ".py",
   "mimetype": "text/x-python",
   "name": "python",
   "nbconvert_exporter": "python",
   "pygments_lexer": "ipython3",
   "version": "3.10.4"
  }
 },
 "nbformat": 4,
 "nbformat_minor": 5
}
