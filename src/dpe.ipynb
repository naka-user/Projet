{
 "cells": [
  {
   "cell_type": "code",
   "execution_count": null,
   "id": "82c2d743-bd39-451f-8d2e-9ef552ce7e4f",
   "metadata": {},
   "outputs": [],
   "source": []
  },
  {
   "cell_type": "code",
   "execution_count": 87,
   "id": "a3ed11a8-d04b-476b-be6d-38d556282f28",
   "metadata": {},
   "outputs": [],
   "source": [
    "import os\n",
    "import pandas as pd\n",
    "\n"
   ]
  },
  {
   "cell_type": "code",
   "execution_count": 88,
   "id": "cbe4009d-3884-4282-9118-ec8f9157f13d",
   "metadata": {},
   "outputs": [],
   "source": [
    "csvpath = os.path.join('..','data','dpe.csv')\n",
    "\n",
    "df = pd.read_csv(csvpath, sep=';', engine='python')\n",
    "\n"
   ]
  },
  {
   "cell_type": "code",
   "execution_count": 89,
   "id": "3b5f1bc4-d4a1-4ba4-83cd-8893c4788c11",
   "metadata": {},
   "outputs": [
    {
     "data": {
      "text/html": [
       "<div>\n",
       "<style scoped>\n",
       "    .dataframe tbody tr th:only-of-type {\n",
       "        vertical-align: middle;\n",
       "    }\n",
       "\n",
       "    .dataframe tbody tr th {\n",
       "        vertical-align: top;\n",
       "    }\n",
       "\n",
       "    .dataframe thead th {\n",
       "        text-align: right;\n",
       "    }\n",
       "</style>\n",
       "<table border=\"1\" class=\"dataframe\">\n",
       "  <thead>\n",
       "    <tr style=\"text-align: right;\">\n",
       "      <th></th>\n",
       "      <th>N°DPE</th>\n",
       "      <th>Date_réception_DPE</th>\n",
       "      <th>Date_établissement_DPE</th>\n",
       "      <th>Date_visite_diagnostiqueur</th>\n",
       "      <th>Modèle_DPE</th>\n",
       "      <th>N°_DPE_remplacé</th>\n",
       "      <th>Date_fin_validité_DPE</th>\n",
       "      <th>Version_DPE</th>\n",
       "      <th>Appartement_non_visité_(0/1)</th>\n",
       "      <th>Méthode_application_DPE</th>\n",
       "      <th>...</th>\n",
       "      <th>Coût_refroidissement</th>\n",
       "      <th>Coût_refroidissement_dépensier</th>\n",
       "      <th>Coût_auxiliaires</th>\n",
       "      <th>Qualité_isolation_enveloppe</th>\n",
       "      <th>Qualité_isolation_menuiseries</th>\n",
       "      <th>Qualité_isolation_murs</th>\n",
       "      <th>Qualité_isolation_plancher_bas</th>\n",
       "      <th>Ubat_W/m²_K</th>\n",
       "      <th>Qualité_isolation_plancher_haut_comble_aménagé</th>\n",
       "      <th>Catégorie_ENR</th>\n",
       "    </tr>\n",
       "  </thead>\n",
       "  <tbody>\n",
       "    <tr>\n",
       "      <th>0</th>\n",
       "      <td>2133N0419762I</td>\n",
       "      <td>30/09/2021</td>\n",
       "      <td>29/09/2021</td>\n",
       "      <td>29/09/2021</td>\n",
       "      <td>DPE NEUF logement : RT2012</td>\n",
       "      <td>NaN</td>\n",
       "      <td>28/09/2031</td>\n",
       "      <td>1</td>\n",
       "      <td>FAUX</td>\n",
       "      <td>dpe issu d'une étude thermique réglementaire R...</td>\n",
       "      <td>...</td>\n",
       "      <td>0</td>\n",
       "      <td>0</td>\n",
       "      <td>10,6</td>\n",
       "      <td>bonne</td>\n",
       "      <td>très bonne</td>\n",
       "      <td>très bonne</td>\n",
       "      <td>bonne</td>\n",
       "      <td>0,52</td>\n",
       "      <td>NaN</td>\n",
       "      <td>NaN</td>\n",
       "    </tr>\n",
       "    <tr>\n",
       "      <th>1</th>\n",
       "      <td>2131N0244530O</td>\n",
       "      <td>01/09/2021</td>\n",
       "      <td>01/09/2021</td>\n",
       "      <td>01/09/2021</td>\n",
       "      <td>DPE NEUF logement : RT2012</td>\n",
       "      <td>NaN</td>\n",
       "      <td>31/08/2031</td>\n",
       "      <td>1</td>\n",
       "      <td>FAUX</td>\n",
       "      <td>dpe issu d'une étude thermique réglementaire R...</td>\n",
       "      <td>...</td>\n",
       "      <td>0</td>\n",
       "      <td>0</td>\n",
       "      <td>0</td>\n",
       "      <td>très bonne</td>\n",
       "      <td>très bonne</td>\n",
       "      <td>très bonne</td>\n",
       "      <td>très bonne</td>\n",
       "      <td>0,37</td>\n",
       "      <td>NaN</td>\n",
       "      <td>NaN</td>\n",
       "    </tr>\n",
       "    <tr>\n",
       "      <th>2</th>\n",
       "      <td>2164N0719648P</td>\n",
       "      <td>18/11/2021</td>\n",
       "      <td>18/11/2021</td>\n",
       "      <td>09/11/2021</td>\n",
       "      <td>DPE NEUF logement : RT2012</td>\n",
       "      <td>NaN</td>\n",
       "      <td>17/11/2031</td>\n",
       "      <td>1,1</td>\n",
       "      <td>FAUX</td>\n",
       "      <td>dpe issu d'une étude thermique réglementaire R...</td>\n",
       "      <td>...</td>\n",
       "      <td>0</td>\n",
       "      <td>0</td>\n",
       "      <td>4,7</td>\n",
       "      <td>bonne</td>\n",
       "      <td>très bonne</td>\n",
       "      <td>bonne</td>\n",
       "      <td>bonne</td>\n",
       "      <td>0,47</td>\n",
       "      <td>NaN</td>\n",
       "      <td>NaN</td>\n",
       "    </tr>\n",
       "    <tr>\n",
       "      <th>3</th>\n",
       "      <td>2157N0987911D</td>\n",
       "      <td>24/12/2021</td>\n",
       "      <td>23/12/2021</td>\n",
       "      <td>21/12/2021</td>\n",
       "      <td>DPE NEUF logement : RT2012</td>\n",
       "      <td>NaN</td>\n",
       "      <td>22/12/2031</td>\n",
       "      <td>2</td>\n",
       "      <td>FAUX</td>\n",
       "      <td>dpe issu d'une étude thermique réglementaire R...</td>\n",
       "      <td>...</td>\n",
       "      <td>0</td>\n",
       "      <td>0</td>\n",
       "      <td>3</td>\n",
       "      <td>très bonne</td>\n",
       "      <td>très bonne</td>\n",
       "      <td>très bonne</td>\n",
       "      <td>très bonne</td>\n",
       "      <td>0,34</td>\n",
       "      <td>NaN</td>\n",
       "      <td>chauffe-eau thermodynamique</td>\n",
       "    </tr>\n",
       "    <tr>\n",
       "      <th>4</th>\n",
       "      <td>2163N0927480C</td>\n",
       "      <td>16/12/2021</td>\n",
       "      <td>09/12/2021</td>\n",
       "      <td>16/11/2021</td>\n",
       "      <td>DPE NEUF logement : RT2012</td>\n",
       "      <td>NaN</td>\n",
       "      <td>08/12/2031</td>\n",
       "      <td>1,1</td>\n",
       "      <td>FAUX</td>\n",
       "      <td>dpe issu d'une étude thermique réglementaire R...</td>\n",
       "      <td>...</td>\n",
       "      <td>0</td>\n",
       "      <td>0</td>\n",
       "      <td>14,1</td>\n",
       "      <td>bonne</td>\n",
       "      <td>très bonne</td>\n",
       "      <td>très bonne</td>\n",
       "      <td>bonne</td>\n",
       "      <td>0,63</td>\n",
       "      <td>NaN</td>\n",
       "      <td>NaN</td>\n",
       "    </tr>\n",
       "  </tbody>\n",
       "</table>\n",
       "<p>5 rows × 99 columns</p>\n",
       "</div>"
      ],
      "text/plain": [
       "           N°DPE Date_réception_DPE Date_établissement_DPE  \\\n",
       "0  2133N0419762I         30/09/2021             29/09/2021   \n",
       "1  2131N0244530O         01/09/2021             01/09/2021   \n",
       "2  2164N0719648P         18/11/2021             18/11/2021   \n",
       "3  2157N0987911D         24/12/2021             23/12/2021   \n",
       "4  2163N0927480C         16/12/2021             09/12/2021   \n",
       "\n",
       "  Date_visite_diagnostiqueur                  Modèle_DPE N°_DPE_remplacé  \\\n",
       "0                 29/09/2021  DPE NEUF logement : RT2012             NaN   \n",
       "1                 01/09/2021  DPE NEUF logement : RT2012             NaN   \n",
       "2                 09/11/2021  DPE NEUF logement : RT2012             NaN   \n",
       "3                 21/12/2021  DPE NEUF logement : RT2012             NaN   \n",
       "4                 16/11/2021  DPE NEUF logement : RT2012             NaN   \n",
       "\n",
       "  Date_fin_validité_DPE Version_DPE Appartement_non_visité_(0/1)  \\\n",
       "0            28/09/2031           1                         FAUX   \n",
       "1            31/08/2031           1                         FAUX   \n",
       "2            17/11/2031         1,1                         FAUX   \n",
       "3            22/12/2031           2                         FAUX   \n",
       "4            08/12/2031         1,1                         FAUX   \n",
       "\n",
       "                             Méthode_application_DPE  ...  \\\n",
       "0  dpe issu d'une étude thermique réglementaire R...  ...   \n",
       "1  dpe issu d'une étude thermique réglementaire R...  ...   \n",
       "2  dpe issu d'une étude thermique réglementaire R...  ...   \n",
       "3  dpe issu d'une étude thermique réglementaire R...  ...   \n",
       "4  dpe issu d'une étude thermique réglementaire R...  ...   \n",
       "\n",
       "  Coût_refroidissement Coût_refroidissement_dépensier Coût_auxiliaires  \\\n",
       "0                    0                              0             10,6   \n",
       "1                    0                              0                0   \n",
       "2                    0                              0              4,7   \n",
       "3                    0                              0                3   \n",
       "4                    0                              0             14,1   \n",
       "\n",
       "  Qualité_isolation_enveloppe Qualité_isolation_menuiseries  \\\n",
       "0                       bonne                    très bonne   \n",
       "1                  très bonne                    très bonne   \n",
       "2                       bonne                    très bonne   \n",
       "3                  très bonne                    très bonne   \n",
       "4                       bonne                    très bonne   \n",
       "\n",
       "  Qualité_isolation_murs Qualité_isolation_plancher_bas  Ubat_W/m²_K  \\\n",
       "0             très bonne                          bonne         0,52   \n",
       "1             très bonne                     très bonne         0,37   \n",
       "2                  bonne                          bonne         0,47   \n",
       "3             très bonne                     très bonne         0,34   \n",
       "4             très bonne                          bonne         0,63   \n",
       "\n",
       "   Qualité_isolation_plancher_haut_comble_aménagé                Catégorie_ENR  \n",
       "0                                             NaN                          NaN  \n",
       "1                                             NaN                          NaN  \n",
       "2                                             NaN                          NaN  \n",
       "3                                             NaN  chauffe-eau thermodynamique  \n",
       "4                                             NaN                          NaN  \n",
       "\n",
       "[5 rows x 99 columns]"
      ]
     },
     "execution_count": 89,
     "metadata": {},
     "output_type": "execute_result"
    }
   ],
   "source": [
    "df.head()\n",
    "\n"
   ]
  },
  {
   "cell_type": "code",
   "execution_count": 90,
   "id": "b8e4169e-cdb3-48a4-9c7d-acde5433dc51",
   "metadata": {},
   "outputs": [
    {
     "data": {
      "text/html": [
       "<div>\n",
       "<style scoped>\n",
       "    .dataframe tbody tr th:only-of-type {\n",
       "        vertical-align: middle;\n",
       "    }\n",
       "\n",
       "    .dataframe tbody tr th {\n",
       "        vertical-align: top;\n",
       "    }\n",
       "\n",
       "    .dataframe thead th {\n",
       "        text-align: right;\n",
       "    }\n",
       "</style>\n",
       "<table border=\"1\" class=\"dataframe\">\n",
       "  <thead>\n",
       "    <tr style=\"text-align: right;\">\n",
       "      <th></th>\n",
       "      <th>Nombre_appartement</th>\n",
       "      <th>Nombre_niveau_immeuble</th>\n",
       "      <th>Nombre_niveau_logement</th>\n",
       "      <th>Code_postal_(BAN)</th>\n",
       "      <th>Code_postal_(brut)</th>\n",
       "      <th>N°_étage_appartement</th>\n",
       "      <th>N°_région_(BAN)</th>\n",
       "    </tr>\n",
       "  </thead>\n",
       "  <tbody>\n",
       "    <tr>\n",
       "      <th>count</th>\n",
       "      <td>8933.000000</td>\n",
       "      <td>8812.000000</td>\n",
       "      <td>8499.000000</td>\n",
       "      <td>9947.000000</td>\n",
       "      <td>10000.000000</td>\n",
       "      <td>2372.000000</td>\n",
       "      <td>9942.000000</td>\n",
       "    </tr>\n",
       "    <tr>\n",
       "      <th>mean</th>\n",
       "      <td>34.530953</td>\n",
       "      <td>1.002951</td>\n",
       "      <td>1.079303</td>\n",
       "      <td>56998.606313</td>\n",
       "      <td>56935.612800</td>\n",
       "      <td>0.121417</td>\n",
       "      <td>50.201971</td>\n",
       "    </tr>\n",
       "    <tr>\n",
       "      <th>std</th>\n",
       "      <td>47.668722</td>\n",
       "      <td>0.091596</td>\n",
       "      <td>0.512557</td>\n",
       "      <td>27709.196039</td>\n",
       "      <td>27765.895414</td>\n",
       "      <td>0.624615</td>\n",
       "      <td>30.472674</td>\n",
       "    </tr>\n",
       "    <tr>\n",
       "      <th>min</th>\n",
       "      <td>1.000000</td>\n",
       "      <td>1.000000</td>\n",
       "      <td>1.000000</td>\n",
       "      <td>1000.000000</td>\n",
       "      <td>0.000000</td>\n",
       "      <td>0.000000</td>\n",
       "      <td>2.000000</td>\n",
       "    </tr>\n",
       "    <tr>\n",
       "      <th>25%</th>\n",
       "      <td>2.000000</td>\n",
       "      <td>1.000000</td>\n",
       "      <td>1.000000</td>\n",
       "      <td>33670.000000</td>\n",
       "      <td>33670.000000</td>\n",
       "      <td>0.000000</td>\n",
       "      <td>11.000000</td>\n",
       "    </tr>\n",
       "    <tr>\n",
       "      <th>50%</th>\n",
       "      <td>22.000000</td>\n",
       "      <td>1.000000</td>\n",
       "      <td>1.000000</td>\n",
       "      <td>59970.000000</td>\n",
       "      <td>59885.000000</td>\n",
       "      <td>0.000000</td>\n",
       "      <td>52.000000</td>\n",
       "    </tr>\n",
       "    <tr>\n",
       "      <th>75%</th>\n",
       "      <td>43.000000</td>\n",
       "      <td>1.000000</td>\n",
       "      <td>1.000000</td>\n",
       "      <td>80000.000000</td>\n",
       "      <td>80000.000000</td>\n",
       "      <td>0.000000</td>\n",
       "      <td>76.000000</td>\n",
       "    </tr>\n",
       "    <tr>\n",
       "      <th>max</th>\n",
       "      <td>333.000000</td>\n",
       "      <td>6.000000</td>\n",
       "      <td>9.000000</td>\n",
       "      <td>97436.000000</td>\n",
       "      <td>95870.000000</td>\n",
       "      <td>9.000000</td>\n",
       "      <td>94.000000</td>\n",
       "    </tr>\n",
       "  </tbody>\n",
       "</table>\n",
       "</div>"
      ],
      "text/plain": [
       "       Nombre_appartement  Nombre_niveau_immeuble  Nombre_niveau_logement  \\\n",
       "count         8933.000000             8812.000000             8499.000000   \n",
       "mean            34.530953                1.002951                1.079303   \n",
       "std             47.668722                0.091596                0.512557   \n",
       "min              1.000000                1.000000                1.000000   \n",
       "25%              2.000000                1.000000                1.000000   \n",
       "50%             22.000000                1.000000                1.000000   \n",
       "75%             43.000000                1.000000                1.000000   \n",
       "max            333.000000                6.000000                9.000000   \n",
       "\n",
       "       Code_postal_(BAN)  Code_postal_(brut)  N°_étage_appartement  \\\n",
       "count        9947.000000        10000.000000           2372.000000   \n",
       "mean        56998.606313        56935.612800              0.121417   \n",
       "std         27709.196039        27765.895414              0.624615   \n",
       "min          1000.000000            0.000000              0.000000   \n",
       "25%         33670.000000        33670.000000              0.000000   \n",
       "50%         59970.000000        59885.000000              0.000000   \n",
       "75%         80000.000000        80000.000000              0.000000   \n",
       "max         97436.000000        95870.000000              9.000000   \n",
       "\n",
       "       N°_région_(BAN)  \n",
       "count      9942.000000  \n",
       "mean         50.201971  \n",
       "std          30.472674  \n",
       "min           2.000000  \n",
       "25%          11.000000  \n",
       "50%          52.000000  \n",
       "75%          76.000000  \n",
       "max          94.000000  "
      ]
     },
     "execution_count": 90,
     "metadata": {},
     "output_type": "execute_result"
    }
   ],
   "source": [
    "df.describe()\n",
    "\n"
   ]
  },
  {
   "cell_type": "code",
   "execution_count": 91,
   "id": "8e79ea0d-a39b-470b-81ab-49a8b59c088b",
   "metadata": {},
   "outputs": [
    {
     "data": {
      "text/plain": [
       "(10000, 99)"
      ]
     },
     "execution_count": 91,
     "metadata": {},
     "output_type": "execute_result"
    }
   ],
   "source": [
    "df.shape\n",
    "\n"
   ]
  },
  {
   "cell_type": "code",
   "execution_count": 92,
   "id": "8f27ebd9-93e7-4069-abc1-334ffcd42bf8",
   "metadata": {},
   "outputs": [
    {
     "name": "stdout",
     "output_type": "stream",
     "text": [
      "<class 'pandas.core.frame.DataFrame'>\n",
      "RangeIndex: 10000 entries, 0 to 9999\n",
      "Data columns (total 99 columns):\n",
      " #   Column                                          Non-Null Count  Dtype  \n",
      "---  ------                                          --------------  -----  \n",
      " 0   N°DPE                                           10000 non-null  object \n",
      " 1   Date_réception_DPE                              10000 non-null  object \n",
      " 2   Date_établissement_DPE                          10000 non-null  object \n",
      " 3   Date_visite_diagnostiqueur                      10000 non-null  object \n",
      " 4   Modèle_DPE                                      10000 non-null  object \n",
      " 5   N°_DPE_remplacé                                 110 non-null    object \n",
      " 6   Date_fin_validité_DPE                           10000 non-null  object \n",
      " 7   Version_DPE                                     10000 non-null  object \n",
      " 8   Appartement_non_visité_(0/1)                    8988 non-null   object \n",
      " 9   Méthode_application_DPE                         10000 non-null  object \n",
      " 10  Invariant_fiscal_logement                       838 non-null    object \n",
      " 11  Etiquette_DPE                                   10000 non-null  object \n",
      " 12  Etiquette_GES                                   10000 non-null  object \n",
      " 13  Type_bâtiment                                   10000 non-null  object \n",
      " 14  Type_installation_chauffage                     6783 non-null   object \n",
      " 15  Type_installation_ECS_(général)                 6783 non-null   object \n",
      " 16  Hauteur_sous-plafond                            10000 non-null  object \n",
      " 17  Nombre_appartement                              8933 non-null   float64\n",
      " 18  Nombre_niveau_immeuble                          8812 non-null   float64\n",
      " 19  Nombre_niveau_logement                          8499 non-null   float64\n",
      " 20  Surface_habitable_immeuble                      8772 non-null   object \n",
      " 21  Surface_habitable_logement                      9955 non-null   object \n",
      " 22  Typologie_logement                              1495 non-null   object \n",
      " 23  Position_logement_dans_immeuble                 1495 non-null   object \n",
      " 24  Classe_altitude                                 2751 non-null   object \n",
      " 25  Zone_climatique_                                2751 non-null   object \n",
      " 26  Adresse_brute                                   9999 non-null   object \n",
      " 27  Nom__commune_(BAN)                              9947 non-null   object \n",
      " 28  Code_INSEE_(BAN)                                9947 non-null   object \n",
      " 29  N°_voie_(BAN)                                   4499 non-null   object \n",
      " 30  Identifiant__BAN                                9947 non-null   object \n",
      " 31  Adresse_(BAN)                                   9947 non-null   object \n",
      " 32  Code_postal_(BAN)                               9947 non-null   float64\n",
      " 33  Score_BAN                                       9947 non-null   object \n",
      " 34  Nom__rue_(BAN)                                  7950 non-null   object \n",
      " 35  Coordonnée_cartographique_X_(BAN)               9947 non-null   object \n",
      " 36  Coordonnée_cartographique_Y_(BAN)               9947 non-null   object \n",
      " 37  Code_postal_(brut)                              10000 non-null  int64  \n",
      " 38  N°_étage_appartement                            2372 non-null   float64\n",
      " 39  Nom_résidence                                   192 non-null    object \n",
      " 40  Complément_d'adresse_logement                   651 non-null    object \n",
      " 41  Statut_géocodage                                10000 non-null  object \n",
      " 42  Nom__commune_(Brut)                             9992 non-null   object \n",
      " 43  N°_département_(BAN)                            9942 non-null   object \n",
      " 44  N°_région_(BAN)                                 9942 non-null   float64\n",
      " 45  Conso_5_usages_é_finale                         10000 non-null  object \n",
      " 46  Conso_5_usages/m²_é_finale                      10000 non-null  object \n",
      " 47  Conso_chauffage_é_finale                        10000 non-null  object \n",
      " 48  Conso_chauffage_dépensier_é_finale              10000 non-null  object \n",
      " 49  Conso_éclairage_é_finale                        10000 non-null  object \n",
      " 50  Conso_ECS_é_finale                              10000 non-null  object \n",
      " 51  Conso_ECS_dépensier_é_finale                    10000 non-null  object \n",
      " 52  Conso_refroidissement_é_finale                  10000 non-null  object \n",
      " 53  Conso_refroidissement_dépensier_é_finale        10000 non-null  object \n",
      " 54  Conso_auxiliaires_é_finale                      10000 non-null  object \n",
      " 55  Conso_5_usages_é_primaire                       10000 non-null  object \n",
      " 56  Conso_5_usages_par_m²_é_primaire                10000 non-null  object \n",
      " 57  Conso_chauffage_é_primaire                      10000 non-null  object \n",
      " 58  Conso_chauffage_dépensier_é_primaire            10000 non-null  object \n",
      " 59  Conso_éclairage_é_primaire                      10000 non-null  object \n",
      " 60  Conso_ECS_é_primaire                            10000 non-null  object \n",
      " 61  Conso_ECS_dépensier_é_primaire                  10000 non-null  object \n",
      " 62  Conso_refroidissement_é_primaire                10000 non-null  object \n",
      " 63  Conso_refroidissement_dépensier_é_primaire      10000 non-null  object \n",
      " 64  Conso_auxiliaires_é_primaire                    10000 non-null  object \n",
      " 65  Emission_GES_5_usages                           10000 non-null  object \n",
      " 66  Emission_GES_5_usages_par_m²                    10000 non-null  object \n",
      " 67  Emission_GES_chauffage                          10000 non-null  object \n",
      " 68  Emission_GES_chauffage_dépensier                10000 non-null  object \n",
      " 69  Emission_GES_éclairage                          10000 non-null  object \n",
      " 70  Emission_GES_ECS                                10000 non-null  object \n",
      " 71  Emission_GES_ECS_dépensier                      10000 non-null  object \n",
      " 72  Emission_GES_refroidissement                    10000 non-null  object \n",
      " 73  Emission_GES_refroidissement_dépensier          10000 non-null  object \n",
      " 74  Emission_GES_auxiliaires                        10000 non-null  object \n",
      " 75  Coût_chauffage_énergie_n°1                      10000 non-null  object \n",
      " 76  Coût_ECS_énergie_n°1                            10000 non-null  object \n",
      " 77  Emission_GES_5_usages_énergie_n°1               10000 non-null  object \n",
      " 78  Type_énergie_n°1                                10000 non-null  object \n",
      " 79  Coût_chauffage_énergie_n°2                      7303 non-null   object \n",
      " 80  Coût_ECS_énergie_n°2                            7303 non-null   object \n",
      " 81  Emission_GES_5_usages_énergie_n°2               7303 non-null   object \n",
      " 82  Type_énergie_n°2                                7303 non-null   object \n",
      " 83  Coût_total_5_usages                             10000 non-null  object \n",
      " 84  Coût_chauffage                                  10000 non-null  object \n",
      " 85  Coût_chauffage_dépensier                        10000 non-null  object \n",
      " 86  Coût_éclairage                                  10000 non-null  object \n",
      " 87  Coût_ECS_dépensier                              10000 non-null  object \n",
      " 88  Coût_ECS                                        10000 non-null  object \n",
      " 89  Coût_refroidissement                            10000 non-null  object \n",
      " 90  Coût_refroidissement_dépensier                  10000 non-null  object \n",
      " 91  Coût_auxiliaires                                10000 non-null  object \n",
      " 92  Qualité_isolation_enveloppe                     10000 non-null  object \n",
      " 93  Qualité_isolation_menuiseries                   10000 non-null  object \n",
      " 94  Qualité_isolation_murs                          10000 non-null  object \n",
      " 95  Qualité_isolation_plancher_bas                  9982 non-null   object \n",
      " 96  Ubat_W/m²_K                                     10000 non-null  object \n",
      " 97  Qualité_isolation_plancher_haut_comble_aménagé  610 non-null    object \n",
      " 98  Catégorie_ENR                                   1221 non-null   object \n",
      "dtypes: float64(6), int64(1), object(92)\n",
      "memory usage: 7.6+ MB\n"
     ]
    }
   ],
   "source": [
    "df.info()\n",
    "\n"
   ]
  },
  {
   "cell_type": "code",
   "execution_count": 93,
   "id": "0411feb1-0ca3-4426-90ec-9264ff1da00f",
   "metadata": {},
   "outputs": [
    {
     "data": {
      "text/plain": [
       "N°DPE                                                0\n",
       "Date_réception_DPE                                   0\n",
       "Date_établissement_DPE                               0\n",
       "Date_visite_diagnostiqueur                           0\n",
       "Modèle_DPE                                           0\n",
       "                                                  ... \n",
       "Qualité_isolation_murs                               0\n",
       "Qualité_isolation_plancher_bas                      18\n",
       "Ubat_W/m²_K                                          0\n",
       "Qualité_isolation_plancher_haut_comble_aménagé    9390\n",
       "Catégorie_ENR                                     8779\n",
       "Length: 99, dtype: int64"
      ]
     },
     "execution_count": 93,
     "metadata": {},
     "output_type": "execute_result"
    }
   ],
   "source": [
    "df.isna().sum()\n",
    "\n"
   ]
  },
  {
   "cell_type": "markdown",
   "id": "10ee35a7-5a8f-4356-9b39-085869a409f6",
   "metadata": {},
   "source": [
    "**Remove columns with Nan values**\n",
    "\n"
   ]
  },
  {
   "cell_type": "code",
   "execution_count": 94,
   "id": "fc9212c2-6c20-465a-92c9-3e82a80c0553",
   "metadata": {},
   "outputs": [
    {
     "name": "stdout",
     "output_type": "stream",
     "text": [
      "0\n"
     ]
    }
   ],
   "source": [
    "columns_values = df.isna().sum().values\n",
    "\n",
    "drop_columns_index = [i for i, val in enumerate(columns_values) if val > 9900]\n",
    "\n",
    "print(len(drop_columns_index))\n",
    "\n"
   ]
  },
  {
   "cell_type": "code",
   "execution_count": 95,
   "id": "75a0344d-5d0f-4a25-879a-9572fa6bc4e3",
   "metadata": {},
   "outputs": [],
   "source": [
    "# def removeNuffs(dataframe, axis = 1, percent = 0.3):\n",
    "#     df = dataframe.copy()\n",
    "#     ishape = 0\n",
    "#     if axis == 0:\n",
    "#         rownames = df.transpose().isnull().sum()\n",
    "#         rownames = list(rownames[rownames.values > percent*len(df)].index)\n",
    "#         df.drop(df.index[rownames], inplace=True)\n",
    "#         print(\"Number of rows dropped : \", len(rownames))\n",
    "#     else:\n",
    "#         colnames = (df.isnull().sum()/len(df))\n",
    "#         colnames = list(colnames[colnames.values>=percent].index)\n",
    "#         df.drop(labels = colnames, axis = 1, inplace = True)\n",
    "#         print(\"Number of columns dropped : \", len(colnames))\n",
    "#     print(\"Old dataset rows, columns \", ishape, \" New dataset rows, columns \", df.shape)\n",
    "\n"
   ]
  },
  {
   "cell_type": "code",
   "execution_count": 96,
   "id": "58e8995a-8795-47a0-bbe4-539f81c2e2da",
   "metadata": {},
   "outputs": [],
   "source": [
    "df_test = df.copy()\n",
    "ishape = 0\n",
    "percent = 0.3\n",
    "\n",
    "colnames = (df_test.isnull().sum()/len(df_test))\n",
    "colnames = list(colnames[colnames.values>=percent].index)\n",
    "\n"
   ]
  },
  {
   "cell_type": "code",
   "execution_count": 97,
   "id": "6896f38a-f1de-430d-bb15-67bda4dec2a7",
   "metadata": {},
   "outputs": [],
   "source": [
    "df_test.drop(labels = colnames, axis = 1, inplace = True)\n",
    "\n"
   ]
  },
  {
   "cell_type": "code",
   "execution_count": 98,
   "id": "16ad3657-e28c-4c7b-b6bb-d181b804900c",
   "metadata": {},
   "outputs": [
    {
     "name": "stdout",
     "output_type": "stream",
     "text": [
      "<class 'pandas.core.frame.DataFrame'>\n",
      "RangeIndex: 10000 entries, 0 to 9999\n",
      "Data columns (total 85 columns):\n",
      " #   Column                                      Non-Null Count  Dtype  \n",
      "---  ------                                      --------------  -----  \n",
      " 0   N°DPE                                       10000 non-null  object \n",
      " 1   Date_réception_DPE                          10000 non-null  object \n",
      " 2   Date_établissement_DPE                      10000 non-null  object \n",
      " 3   Date_visite_diagnostiqueur                  10000 non-null  object \n",
      " 4   Modèle_DPE                                  10000 non-null  object \n",
      " 5   Date_fin_validité_DPE                       10000 non-null  object \n",
      " 6   Version_DPE                                 10000 non-null  object \n",
      " 7   Appartement_non_visité_(0/1)                8988 non-null   object \n",
      " 8   Méthode_application_DPE                     10000 non-null  object \n",
      " 9   Etiquette_DPE                               10000 non-null  object \n",
      " 10  Etiquette_GES                               10000 non-null  object \n",
      " 11  Type_bâtiment                               10000 non-null  object \n",
      " 12  Hauteur_sous-plafond                        10000 non-null  object \n",
      " 13  Nombre_appartement                          8933 non-null   float64\n",
      " 14  Nombre_niveau_immeuble                      8812 non-null   float64\n",
      " 15  Nombre_niveau_logement                      8499 non-null   float64\n",
      " 16  Surface_habitable_immeuble                  8772 non-null   object \n",
      " 17  Surface_habitable_logement                  9955 non-null   object \n",
      " 18  Adresse_brute                               9999 non-null   object \n",
      " 19  Nom__commune_(BAN)                          9947 non-null   object \n",
      " 20  Code_INSEE_(BAN)                            9947 non-null   object \n",
      " 21  Identifiant__BAN                            9947 non-null   object \n",
      " 22  Adresse_(BAN)                               9947 non-null   object \n",
      " 23  Code_postal_(BAN)                           9947 non-null   float64\n",
      " 24  Score_BAN                                   9947 non-null   object \n",
      " 25  Nom__rue_(BAN)                              7950 non-null   object \n",
      " 26  Coordonnée_cartographique_X_(BAN)           9947 non-null   object \n",
      " 27  Coordonnée_cartographique_Y_(BAN)           9947 non-null   object \n",
      " 28  Code_postal_(brut)                          10000 non-null  int64  \n",
      " 29  Statut_géocodage                            10000 non-null  object \n",
      " 30  Nom__commune_(Brut)                         9992 non-null   object \n",
      " 31  N°_département_(BAN)                        9942 non-null   object \n",
      " 32  N°_région_(BAN)                             9942 non-null   float64\n",
      " 33  Conso_5_usages_é_finale                     10000 non-null  object \n",
      " 34  Conso_5_usages/m²_é_finale                  10000 non-null  object \n",
      " 35  Conso_chauffage_é_finale                    10000 non-null  object \n",
      " 36  Conso_chauffage_dépensier_é_finale          10000 non-null  object \n",
      " 37  Conso_éclairage_é_finale                    10000 non-null  object \n",
      " 38  Conso_ECS_é_finale                          10000 non-null  object \n",
      " 39  Conso_ECS_dépensier_é_finale                10000 non-null  object \n",
      " 40  Conso_refroidissement_é_finale              10000 non-null  object \n",
      " 41  Conso_refroidissement_dépensier_é_finale    10000 non-null  object \n",
      " 42  Conso_auxiliaires_é_finale                  10000 non-null  object \n",
      " 43  Conso_5_usages_é_primaire                   10000 non-null  object \n",
      " 44  Conso_5_usages_par_m²_é_primaire            10000 non-null  object \n",
      " 45  Conso_chauffage_é_primaire                  10000 non-null  object \n",
      " 46  Conso_chauffage_dépensier_é_primaire        10000 non-null  object \n",
      " 47  Conso_éclairage_é_primaire                  10000 non-null  object \n",
      " 48  Conso_ECS_é_primaire                        10000 non-null  object \n",
      " 49  Conso_ECS_dépensier_é_primaire              10000 non-null  object \n",
      " 50  Conso_refroidissement_é_primaire            10000 non-null  object \n",
      " 51  Conso_refroidissement_dépensier_é_primaire  10000 non-null  object \n",
      " 52  Conso_auxiliaires_é_primaire                10000 non-null  object \n",
      " 53  Emission_GES_5_usages                       10000 non-null  object \n",
      " 54  Emission_GES_5_usages_par_m²                10000 non-null  object \n",
      " 55  Emission_GES_chauffage                      10000 non-null  object \n",
      " 56  Emission_GES_chauffage_dépensier            10000 non-null  object \n",
      " 57  Emission_GES_éclairage                      10000 non-null  object \n",
      " 58  Emission_GES_ECS                            10000 non-null  object \n",
      " 59  Emission_GES_ECS_dépensier                  10000 non-null  object \n",
      " 60  Emission_GES_refroidissement                10000 non-null  object \n",
      " 61  Emission_GES_refroidissement_dépensier      10000 non-null  object \n",
      " 62  Emission_GES_auxiliaires                    10000 non-null  object \n",
      " 63  Coût_chauffage_énergie_n°1                  10000 non-null  object \n",
      " 64  Coût_ECS_énergie_n°1                        10000 non-null  object \n",
      " 65  Emission_GES_5_usages_énergie_n°1           10000 non-null  object \n",
      " 66  Type_énergie_n°1                            10000 non-null  object \n",
      " 67  Coût_chauffage_énergie_n°2                  7303 non-null   object \n",
      " 68  Coût_ECS_énergie_n°2                        7303 non-null   object \n",
      " 69  Emission_GES_5_usages_énergie_n°2           7303 non-null   object \n",
      " 70  Type_énergie_n°2                            7303 non-null   object \n",
      " 71  Coût_total_5_usages                         10000 non-null  object \n",
      " 72  Coût_chauffage                              10000 non-null  object \n",
      " 73  Coût_chauffage_dépensier                    10000 non-null  object \n",
      " 74  Coût_éclairage                              10000 non-null  object \n",
      " 75  Coût_ECS_dépensier                          10000 non-null  object \n",
      " 76  Coût_ECS                                    10000 non-null  object \n",
      " 77  Coût_refroidissement                        10000 non-null  object \n",
      " 78  Coût_refroidissement_dépensier              10000 non-null  object \n",
      " 79  Coût_auxiliaires                            10000 non-null  object \n",
      " 80  Qualité_isolation_enveloppe                 10000 non-null  object \n",
      " 81  Qualité_isolation_menuiseries               10000 non-null  object \n",
      " 82  Qualité_isolation_murs                      10000 non-null  object \n",
      " 83  Qualité_isolation_plancher_bas              9982 non-null   object \n",
      " 84  Ubat_W/m²_K                                 10000 non-null  object \n",
      "dtypes: float64(5), int64(1), object(79)\n",
      "memory usage: 6.5+ MB\n"
     ]
    }
   ],
   "source": [
    "df_test.info()\n",
    "\n"
   ]
  },
  {
   "cell_type": "code",
   "execution_count": 99,
   "id": "9f87eb1a-1fd2-4145-8622-45dd0428f2f3",
   "metadata": {},
   "outputs": [
    {
     "name": "stdout",
     "output_type": "stream",
     "text": [
      "85\n"
     ]
    }
   ],
   "source": [
    "list_columns = list(df_test.columns.values.tolist())\n",
    "\n",
    "print(len(list_columns))\n",
    "\n"
   ]
  },
  {
   "cell_type": "code",
   "execution_count": 100,
   "id": "7607db1b-1511-409e-a49e-ceafe09b2943",
   "metadata": {},
   "outputs": [
    {
     "name": "stdout",
     "output_type": "stream",
     "text": [
      "<class 'pandas.core.frame.DataFrame'>\n",
      "RangeIndex: 10000 entries, 0 to 9999\n",
      "Data columns (total 85 columns):\n",
      " #   Column                                      Non-Null Count  Dtype  \n",
      "---  ------                                      --------------  -----  \n",
      " 0   N°DPE                                       10000 non-null  object \n",
      " 1   Date_réception_DPE                          10000 non-null  object \n",
      " 2   Date_établissement_DPE                      10000 non-null  object \n",
      " 3   Date_visite_diagnostiqueur                  10000 non-null  object \n",
      " 4   Modèle_DPE                                  10000 non-null  object \n",
      " 5   Date_fin_validité_DPE                       10000 non-null  object \n",
      " 6   Version_DPE                                 10000 non-null  object \n",
      " 7   Appartement_non_visité_(0/1)                8988 non-null   object \n",
      " 8   Méthode_application_DPE                     10000 non-null  object \n",
      " 9   Etiquette_DPE                               10000 non-null  object \n",
      " 10  Etiquette_GES                               10000 non-null  object \n",
      " 11  Type_bâtiment                               10000 non-null  object \n",
      " 12  Hauteur_sous-plafond                        10000 non-null  object \n",
      " 13  Nombre_appartement                          8933 non-null   float64\n",
      " 14  Nombre_niveau_immeuble                      8812 non-null   float64\n",
      " 15  Nombre_niveau_logement                      8499 non-null   float64\n",
      " 16  Surface_habitable_immeuble                  8772 non-null   object \n",
      " 17  Surface_habitable_logement                  9955 non-null   object \n",
      " 18  Adresse_brute                               9999 non-null   object \n",
      " 19  Nom__commune_(BAN)                          9947 non-null   object \n",
      " 20  Code_INSEE_(BAN)                            9947 non-null   object \n",
      " 21  Identifiant__BAN                            9947 non-null   object \n",
      " 22  Adresse_(BAN)                               9947 non-null   object \n",
      " 23  Code_postal_(BAN)                           9947 non-null   float64\n",
      " 24  Score_BAN                                   9947 non-null   object \n",
      " 25  Nom__rue_(BAN)                              7950 non-null   object \n",
      " 26  Coordonnée_cartographique_X_(BAN)           9947 non-null   object \n",
      " 27  Coordonnée_cartographique_Y_(BAN)           9947 non-null   object \n",
      " 28  Code_postal_(brut)                          10000 non-null  int64  \n",
      " 29  Statut_géocodage                            10000 non-null  object \n",
      " 30  Nom__commune_(Brut)                         9992 non-null   object \n",
      " 31  N°_département_(BAN)                        9942 non-null   object \n",
      " 32  N°_région_(BAN)                             9942 non-null   float64\n",
      " 33  Conso_5_usages_é_finale                     10000 non-null  object \n",
      " 34  Conso_5_usages/m²_é_finale                  10000 non-null  object \n",
      " 35  Conso_chauffage_é_finale                    10000 non-null  object \n",
      " 36  Conso_chauffage_dépensier_é_finale          10000 non-null  object \n",
      " 37  Conso_éclairage_é_finale                    10000 non-null  object \n",
      " 38  Conso_ECS_é_finale                          10000 non-null  object \n",
      " 39  Conso_ECS_dépensier_é_finale                10000 non-null  object \n",
      " 40  Conso_refroidissement_é_finale              10000 non-null  object \n",
      " 41  Conso_refroidissement_dépensier_é_finale    10000 non-null  object \n",
      " 42  Conso_auxiliaires_é_finale                  10000 non-null  object \n",
      " 43  Conso_5_usages_é_primaire                   10000 non-null  object \n",
      " 44  Conso_5_usages_par_m²_é_primaire            10000 non-null  object \n",
      " 45  Conso_chauffage_é_primaire                  10000 non-null  object \n",
      " 46  Conso_chauffage_dépensier_é_primaire        10000 non-null  object \n",
      " 47  Conso_éclairage_é_primaire                  10000 non-null  object \n",
      " 48  Conso_ECS_é_primaire                        10000 non-null  object \n",
      " 49  Conso_ECS_dépensier_é_primaire              10000 non-null  object \n",
      " 50  Conso_refroidissement_é_primaire            10000 non-null  object \n",
      " 51  Conso_refroidissement_dépensier_é_primaire  10000 non-null  object \n",
      " 52  Conso_auxiliaires_é_primaire                10000 non-null  object \n",
      " 53  Emission_GES_5_usages                       10000 non-null  object \n",
      " 54  Emission_GES_5_usages_par_m²                10000 non-null  object \n",
      " 55  Emission_GES_chauffage                      10000 non-null  object \n",
      " 56  Emission_GES_chauffage_dépensier            10000 non-null  object \n",
      " 57  Emission_GES_éclairage                      10000 non-null  object \n",
      " 58  Emission_GES_ECS                            10000 non-null  object \n",
      " 59  Emission_GES_ECS_dépensier                  10000 non-null  object \n",
      " 60  Emission_GES_refroidissement                10000 non-null  object \n",
      " 61  Emission_GES_refroidissement_dépensier      10000 non-null  object \n",
      " 62  Emission_GES_auxiliaires                    10000 non-null  object \n",
      " 63  Coût_chauffage_énergie_n°1                  10000 non-null  object \n",
      " 64  Coût_ECS_énergie_n°1                        10000 non-null  object \n",
      " 65  Emission_GES_5_usages_énergie_n°1           10000 non-null  object \n",
      " 66  Type_énergie_n°1                            10000 non-null  object \n",
      " 67  Coût_chauffage_énergie_n°2                  7303 non-null   object \n",
      " 68  Coût_ECS_énergie_n°2                        7303 non-null   object \n",
      " 69  Emission_GES_5_usages_énergie_n°2           7303 non-null   object \n",
      " 70  Type_énergie_n°2                            7303 non-null   object \n",
      " 71  Coût_total_5_usages                         10000 non-null  object \n",
      " 72  Coût_chauffage                              10000 non-null  object \n",
      " 73  Coût_chauffage_dépensier                    10000 non-null  object \n",
      " 74  Coût_éclairage                              10000 non-null  object \n",
      " 75  Coût_ECS_dépensier                          10000 non-null  object \n",
      " 76  Coût_ECS                                    10000 non-null  object \n",
      " 77  Coût_refroidissement                        10000 non-null  object \n",
      " 78  Coût_refroidissement_dépensier              10000 non-null  object \n",
      " 79  Coût_auxiliaires                            10000 non-null  object \n",
      " 80  Qualité_isolation_enveloppe                 10000 non-null  object \n",
      " 81  Qualité_isolation_menuiseries               10000 non-null  object \n",
      " 82  Qualité_isolation_murs                      10000 non-null  object \n",
      " 83  Qualité_isolation_plancher_bas              9982 non-null   object \n",
      " 84  Ubat_W/m²_K                                 10000 non-null  object \n",
      "dtypes: float64(5), int64(1), object(79)\n",
      "memory usage: 6.5+ MB\n"
     ]
    }
   ],
   "source": [
    "df_test.info()\n",
    "\n"
   ]
  },
  {
   "cell_type": "code",
   "execution_count": 101,
   "id": "6ea62df9-6ee6-4ee8-b5b9-af4f114f2d19",
   "metadata": {},
   "outputs": [],
   "source": [
    "delete_columns = ['N°DPE', 'Date_réception_DPE', 'Date_établissement_DPE', 'Date_visite_diagnostiqueur',\n",
    "               'Date_fin_validité_DPE', 'Adresse_brute', 'Nom__commune_(BAN)', 'Code_INSEE_(BAN)', 'N°_région_(BAN)',\n",
    "                'Identifiant__BAN', 'Adresse_(BAN)', 'Code_postal_(BAN)', 'Nom__rue_(BAN)', 'Coordonnée_cartographique_X_(BAN)',\n",
    "                'Coordonnée_cartographique_Y_(BAN)', 'Code_postal_(brut)', 'N°_département_(BAN)', 'Statut_géocodage',\n",
    "                'Nom__commune_(Brut)', 'N°_département_(BAN)', 'N°_région_(BAN)']\n",
    "\n"
   ]
  },
  {
   "cell_type": "code",
   "execution_count": 102,
   "id": "22bf20a9-4a90-4c20-9c31-bf313d981691",
   "metadata": {},
   "outputs": [
    {
     "name": "stdout",
     "output_type": "stream",
     "text": [
      "<class 'pandas.core.frame.DataFrame'>\n",
      "RangeIndex: 10000 entries, 0 to 9999\n",
      "Data columns (total 66 columns):\n",
      " #   Column                                      Non-Null Count  Dtype  \n",
      "---  ------                                      --------------  -----  \n",
      " 0   Modèle_DPE                                  10000 non-null  object \n",
      " 1   Version_DPE                                 10000 non-null  object \n",
      " 2   Appartement_non_visité_(0/1)                8988 non-null   object \n",
      " 3   Méthode_application_DPE                     10000 non-null  object \n",
      " 4   Etiquette_DPE                               10000 non-null  object \n",
      " 5   Etiquette_GES                               10000 non-null  object \n",
      " 6   Type_bâtiment                               10000 non-null  object \n",
      " 7   Hauteur_sous-plafond                        10000 non-null  object \n",
      " 8   Nombre_appartement                          8933 non-null   float64\n",
      " 9   Nombre_niveau_immeuble                      8812 non-null   float64\n",
      " 10  Nombre_niveau_logement                      8499 non-null   float64\n",
      " 11  Surface_habitable_immeuble                  8772 non-null   object \n",
      " 12  Surface_habitable_logement                  9955 non-null   object \n",
      " 13  Score_BAN                                   9947 non-null   object \n",
      " 14  Conso_5_usages_é_finale                     10000 non-null  object \n",
      " 15  Conso_5_usages/m²_é_finale                  10000 non-null  object \n",
      " 16  Conso_chauffage_é_finale                    10000 non-null  object \n",
      " 17  Conso_chauffage_dépensier_é_finale          10000 non-null  object \n",
      " 18  Conso_éclairage_é_finale                    10000 non-null  object \n",
      " 19  Conso_ECS_é_finale                          10000 non-null  object \n",
      " 20  Conso_ECS_dépensier_é_finale                10000 non-null  object \n",
      " 21  Conso_refroidissement_é_finale              10000 non-null  object \n",
      " 22  Conso_refroidissement_dépensier_é_finale    10000 non-null  object \n",
      " 23  Conso_auxiliaires_é_finale                  10000 non-null  object \n",
      " 24  Conso_5_usages_é_primaire                   10000 non-null  object \n",
      " 25  Conso_5_usages_par_m²_é_primaire            10000 non-null  object \n",
      " 26  Conso_chauffage_é_primaire                  10000 non-null  object \n",
      " 27  Conso_chauffage_dépensier_é_primaire        10000 non-null  object \n",
      " 28  Conso_éclairage_é_primaire                  10000 non-null  object \n",
      " 29  Conso_ECS_é_primaire                        10000 non-null  object \n",
      " 30  Conso_ECS_dépensier_é_primaire              10000 non-null  object \n",
      " 31  Conso_refroidissement_é_primaire            10000 non-null  object \n",
      " 32  Conso_refroidissement_dépensier_é_primaire  10000 non-null  object \n",
      " 33  Conso_auxiliaires_é_primaire                10000 non-null  object \n",
      " 34  Emission_GES_5_usages                       10000 non-null  object \n",
      " 35  Emission_GES_5_usages_par_m²                10000 non-null  object \n",
      " 36  Emission_GES_chauffage                      10000 non-null  object \n",
      " 37  Emission_GES_chauffage_dépensier            10000 non-null  object \n",
      " 38  Emission_GES_éclairage                      10000 non-null  object \n",
      " 39  Emission_GES_ECS                            10000 non-null  object \n",
      " 40  Emission_GES_ECS_dépensier                  10000 non-null  object \n",
      " 41  Emission_GES_refroidissement                10000 non-null  object \n",
      " 42  Emission_GES_refroidissement_dépensier      10000 non-null  object \n",
      " 43  Emission_GES_auxiliaires                    10000 non-null  object \n",
      " 44  Coût_chauffage_énergie_n°1                  10000 non-null  object \n",
      " 45  Coût_ECS_énergie_n°1                        10000 non-null  object \n",
      " 46  Emission_GES_5_usages_énergie_n°1           10000 non-null  object \n",
      " 47  Type_énergie_n°1                            10000 non-null  object \n",
      " 48  Coût_chauffage_énergie_n°2                  7303 non-null   object \n",
      " 49  Coût_ECS_énergie_n°2                        7303 non-null   object \n",
      " 50  Emission_GES_5_usages_énergie_n°2           7303 non-null   object \n",
      " 51  Type_énergie_n°2                            7303 non-null   object \n",
      " 52  Coût_total_5_usages                         10000 non-null  object \n",
      " 53  Coût_chauffage                              10000 non-null  object \n",
      " 54  Coût_chauffage_dépensier                    10000 non-null  object \n",
      " 55  Coût_éclairage                              10000 non-null  object \n",
      " 56  Coût_ECS_dépensier                          10000 non-null  object \n",
      " 57  Coût_ECS                                    10000 non-null  object \n",
      " 58  Coût_refroidissement                        10000 non-null  object \n",
      " 59  Coût_refroidissement_dépensier              10000 non-null  object \n",
      " 60  Coût_auxiliaires                            10000 non-null  object \n",
      " 61  Qualité_isolation_enveloppe                 10000 non-null  object \n",
      " 62  Qualité_isolation_menuiseries               10000 non-null  object \n",
      " 63  Qualité_isolation_murs                      10000 non-null  object \n",
      " 64  Qualité_isolation_plancher_bas              9982 non-null   object \n",
      " 65  Ubat_W/m²_K                                 10000 non-null  object \n",
      "dtypes: float64(3), object(63)\n",
      "memory usage: 5.0+ MB\n"
     ]
    }
   ],
   "source": [
    "df_test.drop(labels = delete_columns, axis = 1, inplace = True)\n",
    "\n",
    "df_test.info()\n",
    "\n"
   ]
  },
  {
   "cell_type": "markdown",
   "id": "de076eee-4218-4451-83d1-9cf9b9b3399f",
   "metadata": {},
   "source": [
    "**Columns missing values**\n",
    "\n"
   ]
  },
  {
   "cell_type": "code",
   "execution_count": 103,
   "id": "5ff10c1a-26b9-4c91-a027-e7fc3fa9ee31",
   "metadata": {},
   "outputs": [],
   "source": [
    "na_values_columns = ['Appartement_non_visité_(0/1)', 'Nombre_appartement', 'Nombre_niveau_immeuble', 'Nombre_niveau_logement',\n",
    "                     'Surface_habitable_immeuble', 'Surface_habitable_logement', 'Score_BAN', 'Coût_chauffage_énergie_n°2', \n",
    "                     'Coût_ECS_énergie_n°2', 'Type_énergie_n°2', 'Emission_GES_5_usages_énergie_n°2', 'Qualité_isolation_plancher_bas']\n",
    "\n",
    "df_na_values = df_test[na_values_columns]\n",
    "\n"
   ]
  },
  {
   "cell_type": "code",
   "execution_count": 104,
   "id": "c66c2451-f8aa-40ca-a603-debe2bde380a",
   "metadata": {},
   "outputs": [
    {
     "name": "stdout",
     "output_type": "stream",
     "text": [
      "1012\n",
      "Appartement_non_visité_(0/1)\n",
      "FAUX    8007\n",
      "VRAI     981\n",
      "Name: count, dtype: int64\n"
     ]
    },
    {
     "name": "stderr",
     "output_type": "stream",
     "text": [
      "/tmp/ipykernel_6862/830894156.py:5: SettingWithCopyWarning: \n",
      "A value is trying to be set on a copy of a slice from a DataFrame.\n",
      "Try using .loc[row_indexer,col_indexer] = value instead\n",
      "\n",
      "See the caveats in the documentation: https://pandas.pydata.org/pandas-docs/stable/user_guide/indexing.html#returning-a-view-versus-a-copy\n",
      "  df_na_values['Appartement_non_visité_(0/1)'] = df_na_values['Appartement_non_visité_(0/1)'].fillna('FAUX')\n"
     ]
    }
   ],
   "source": [
    "print(df_na_values['Appartement_non_visité_(0/1)'].isna().sum())\n",
    "\n",
    "print(df_na_values['Appartement_non_visité_(0/1)'].value_counts())\n",
    "\n",
    "df_na_values['Appartement_non_visité_(0/1)'] = df_na_values['Appartement_non_visité_(0/1)'].fillna('FAUX')\n",
    "\n"
   ]
  },
  {
   "cell_type": "code",
   "execution_count": 105,
   "id": "4bd6d148-2437-4111-bc1e-c7113131d20c",
   "metadata": {},
   "outputs": [
    {
     "name": "stdout",
     "output_type": "stream",
     "text": [
      "0\n"
     ]
    }
   ],
   "source": [
    "print(df_na_values['Appartement_non_visité_(0/1)'].isna().sum())\n",
    "\n"
   ]
  },
  {
   "cell_type": "code",
   "execution_count": 106,
   "id": "fd6039ef-3d70-40f0-b753-ee14be6f955d",
   "metadata": {},
   "outputs": [
    {
     "name": "stdout",
     "output_type": "stream",
     "text": [
      "<class 'pandas.core.frame.DataFrame'>\n",
      "RangeIndex: 10000 entries, 0 to 9999\n",
      "Data columns (total 12 columns):\n",
      " #   Column                             Non-Null Count  Dtype  \n",
      "---  ------                             --------------  -----  \n",
      " 0   Appartement_non_visité_(0/1)       10000 non-null  object \n",
      " 1   Nombre_appartement                 8933 non-null   float64\n",
      " 2   Nombre_niveau_immeuble             8812 non-null   float64\n",
      " 3   Nombre_niveau_logement             8499 non-null   float64\n",
      " 4   Surface_habitable_immeuble         8772 non-null   object \n",
      " 5   Surface_habitable_logement         9955 non-null   object \n",
      " 6   Score_BAN                          9947 non-null   object \n",
      " 7   Coût_chauffage_énergie_n°2         7303 non-null   object \n",
      " 8   Coût_ECS_énergie_n°2               7303 non-null   object \n",
      " 9   Type_énergie_n°2                   7303 non-null   object \n",
      " 10  Emission_GES_5_usages_énergie_n°2  7303 non-null   object \n",
      " 11  Qualité_isolation_plancher_bas     9982 non-null   object \n",
      "dtypes: float64(3), object(9)\n",
      "memory usage: 937.6+ KB\n"
     ]
    }
   ],
   "source": [
    "df_na_values.info()\n",
    "\n"
   ]
  },
  {
   "cell_type": "code",
   "execution_count": 107,
   "id": "57eb854d-a8f0-455f-85d2-7cd309103e26",
   "metadata": {},
   "outputs": [
    {
     "name": "stderr",
     "output_type": "stream",
     "text": [
      "/tmp/ipykernel_6862/2047869160.py:1: SettingWithCopyWarning: \n",
      "A value is trying to be set on a copy of a slice from a DataFrame.\n",
      "Try using .loc[row_indexer,col_indexer] = value instead\n",
      "\n",
      "See the caveats in the documentation: https://pandas.pydata.org/pandas-docs/stable/user_guide/indexing.html#returning-a-view-versus-a-copy\n",
      "  df_na_values['Nombre_appartement'] = df_na_values['Nombre_appartement'].fillna(df_na_values['Nombre_appartement'].mean())\n"
     ]
    }
   ],
   "source": [
    "df_na_values['Nombre_appartement'] = df_na_values['Nombre_appartement'].fillna(df_na_values['Nombre_appartement'].mean())\n",
    "\n"
   ]
  },
  {
   "cell_type": "code",
   "execution_count": 108,
   "id": "b387b78a-8418-4223-9bc0-fc2c44213dba",
   "metadata": {},
   "outputs": [
    {
     "name": "stdout",
     "output_type": "stream",
     "text": [
      "1188\n",
      "Nombre_niveau_immeuble\n",
      "1.0    8800\n",
      "3.0       5\n",
      "2.0       4\n",
      "4.0       1\n",
      "5.0       1\n",
      "6.0       1\n",
      "Name: count, dtype: int64\n"
     ]
    },
    {
     "name": "stderr",
     "output_type": "stream",
     "text": [
      "/tmp/ipykernel_6862/3688349026.py:5: SettingWithCopyWarning: \n",
      "A value is trying to be set on a copy of a slice from a DataFrame.\n",
      "Try using .loc[row_indexer,col_indexer] = value instead\n",
      "\n",
      "See the caveats in the documentation: https://pandas.pydata.org/pandas-docs/stable/user_guide/indexing.html#returning-a-view-versus-a-copy\n",
      "  df_na_values['Nombre_niveau_immeuble'] = df_na_values['Nombre_niveau_immeuble'].fillna(1.0)\n"
     ]
    }
   ],
   "source": [
    "print(df_na_values['Nombre_niveau_immeuble'].isna().sum())\n",
    "\n",
    "print(df_na_values['Nombre_niveau_immeuble'].value_counts())\n",
    "\n",
    "df_na_values['Nombre_niveau_immeuble'] = df_na_values['Nombre_niveau_immeuble'].fillna(1.0)\n",
    "\n"
   ]
  },
  {
   "cell_type": "code",
   "execution_count": 109,
   "id": "477a6559-8851-40d2-b120-b67255523639",
   "metadata": {},
   "outputs": [
    {
     "name": "stdout",
     "output_type": "stream",
     "text": [
      "1501\n",
      "Nombre_niveau_logement\n",
      "1.0    8232\n",
      "2.0      91\n",
      "4.0      83\n",
      "3.0      40\n",
      "5.0      27\n",
      "6.0      20\n",
      "9.0       5\n",
      "7.0       1\n",
      "Name: count, dtype: int64\n"
     ]
    },
    {
     "name": "stderr",
     "output_type": "stream",
     "text": [
      "/tmp/ipykernel_6862/3052973000.py:5: SettingWithCopyWarning: \n",
      "A value is trying to be set on a copy of a slice from a DataFrame.\n",
      "Try using .loc[row_indexer,col_indexer] = value instead\n",
      "\n",
      "See the caveats in the documentation: https://pandas.pydata.org/pandas-docs/stable/user_guide/indexing.html#returning-a-view-versus-a-copy\n",
      "  df_na_values['Nombre_niveau_immeuble'] = df_na_values['Nombre_niveau_immeuble'].fillna(1.0)\n"
     ]
    }
   ],
   "source": [
    "print(df_na_values['Nombre_niveau_logement'].isna().sum())\n",
    "\n",
    "print(df_na_values['Nombre_niveau_logement'].value_counts())\n",
    "\n",
    "df_na_values['Nombre_niveau_immeuble'] = df_na_values['Nombre_niveau_immeuble'].fillna(1.0)\n",
    "\n"
   ]
  },
  {
   "cell_type": "code",
   "execution_count": 110,
   "id": "2ae2ec22-54f3-4ac3-9de6-812c97a8ddca",
   "metadata": {},
   "outputs": [
    {
     "name": "stdout",
     "output_type": "stream",
     "text": [
      "1228\n",
      "Surface_habitable_immeuble\n",
      "6450,6    38\n",
      "7188,5    34\n",
      "6249,7    27\n",
      "4441,7    25\n",
      "5318,4    24\n",
      "          ..\n",
      "626,5      1\n",
      "799,1      1\n",
      "1076,3     1\n",
      "195,8      1\n",
      "672,4      1\n",
      "Name: count, Length: 3075, dtype: int64\n"
     ]
    },
    {
     "data": {
      "text/plain": [
       "count       8772\n",
       "unique      3075\n",
       "top       6450,6\n",
       "freq          38\n",
       "Name: Surface_habitable_immeuble, dtype: object"
      ]
     },
     "execution_count": 110,
     "metadata": {},
     "output_type": "execute_result"
    }
   ],
   "source": [
    "print(df_na_values['Surface_habitable_immeuble'].isna().sum())\n",
    "\n",
    "print(df_na_values['Surface_habitable_immeuble'].value_counts())\n",
    "\n",
    "df_na_values['Surface_habitable_immeuble'].describe()\n",
    "\n"
   ]
  },
  {
   "cell_type": "code",
   "execution_count": 111,
   "id": "727be800-a63f-4d12-a2e8-b9fe284c60ff",
   "metadata": {},
   "outputs": [
    {
     "name": "stdout",
     "output_type": "stream",
     "text": [
      "Surface_habitable_immeuble\n",
      "6450.6    38\n",
      "7188.5    34\n",
      "6249.7    27\n",
      "4441.7    25\n",
      "5318.4    24\n",
      "          ..\n",
      "626.5      1\n",
      "799.1      1\n",
      "1076.3     1\n",
      "195.8      1\n",
      "672.4      1\n",
      "Name: count, Length: 3075, dtype: int64\n"
     ]
    },
    {
     "name": "stderr",
     "output_type": "stream",
     "text": [
      "/tmp/ipykernel_6862/3546267116.py:1: SettingWithCopyWarning: \n",
      "A value is trying to be set on a copy of a slice from a DataFrame.\n",
      "Try using .loc[row_indexer,col_indexer] = value instead\n",
      "\n",
      "See the caveats in the documentation: https://pandas.pydata.org/pandas-docs/stable/user_guide/indexing.html#returning-a-view-versus-a-copy\n",
      "  df_na_values['Surface_habitable_immeuble'] = df_na_values['Surface_habitable_immeuble'].str.replace(',','.').astype(float)\n"
     ]
    },
    {
     "data": {
      "text/plain": [
       "count     8772.000000\n",
       "mean      1750.839512\n",
       "std       2078.947799\n",
       "min         39.600000\n",
       "25%        336.125000\n",
       "50%       1292.500000\n",
       "75%       2430.000000\n",
       "max      87682.000000\n",
       "Name: Surface_habitable_immeuble, dtype: float64"
      ]
     },
     "execution_count": 111,
     "metadata": {},
     "output_type": "execute_result"
    }
   ],
   "source": [
    "df_na_values['Surface_habitable_immeuble'] = df_na_values['Surface_habitable_immeuble'].str.replace(',','.').astype(float)\n",
    "\n",
    "print(df_na_values['Surface_habitable_immeuble'].value_counts())\n",
    "\n",
    "df_na_values['Surface_habitable_immeuble'].describe()\n",
    "\n"
   ]
  },
  {
   "cell_type": "code",
   "execution_count": 112,
   "id": "0f19dba1-a53a-488d-b186-ae1f17363124",
   "metadata": {},
   "outputs": [
    {
     "name": "stdout",
     "output_type": "stream",
     "text": [
      "0        339.7\n",
      "1         71.6\n",
      "2       1128.2\n",
      "3        104.5\n",
      "4       1738.3\n",
      "         ...  \n",
      "9995       NaN\n",
      "9996      94.2\n",
      "9997    2873.7\n",
      "9998       NaN\n",
      "9999       NaN\n",
      "Name: Surface_habitable_immeuble, Length: 10000, dtype: float64\n",
      "0\n"
     ]
    },
    {
     "name": "stderr",
     "output_type": "stream",
     "text": [
      "/tmp/ipykernel_6862/1985869825.py:5: SettingWithCopyWarning: \n",
      "A value is trying to be set on a copy of a slice from a DataFrame.\n",
      "Try using .loc[row_indexer,col_indexer] = value instead\n",
      "\n",
      "See the caveats in the documentation: https://pandas.pydata.org/pandas-docs/stable/user_guide/indexing.html#returning-a-view-versus-a-copy\n",
      "  df_na_values['Surface_habitable_immeuble'] = df_na_values['Surface_habitable_immeuble'].fillna(df_na_values['Surface_habitable_immeuble'].mean().round(1))\n"
     ]
    }
   ],
   "source": [
    "print(df_na_values['Surface_habitable_immeuble'])\n",
    "\n",
    "df_na_values['Surface_habitable_immeuble'].describe()\n",
    "\n",
    "df_na_values['Surface_habitable_immeuble'] = df_na_values['Surface_habitable_immeuble'].fillna(df_na_values['Surface_habitable_immeuble'].mean().round(1))\n",
    "\n",
    "print(df_na_values['Surface_habitable_immeuble'].isna().sum())\n",
    "\n"
   ]
  },
  {
   "cell_type": "code",
   "execution_count": 113,
   "id": "e74d03e4-7bac-46a2-a419-f9c8bcf86346",
   "metadata": {},
   "outputs": [
    {
     "name": "stdout",
     "output_type": "stream",
     "text": [
      "0\n",
      "0       0.80\n",
      "1       0.21\n",
      "2       0.72\n",
      "3       0.33\n",
      "4       0.82\n",
      "        ... \n",
      "9995    0.96\n",
      "9996    0.56\n",
      "9997    0.75\n",
      "9998    0.64\n",
      "9999    0.88\n",
      "Name: Score_BAN, Length: 10000, dtype: float64\n"
     ]
    },
    {
     "name": "stderr",
     "output_type": "stream",
     "text": [
      "/tmp/ipykernel_6862/2863507177.py:1: SettingWithCopyWarning: \n",
      "A value is trying to be set on a copy of a slice from a DataFrame.\n",
      "Try using .loc[row_indexer,col_indexer] = value instead\n",
      "\n",
      "See the caveats in the documentation: https://pandas.pydata.org/pandas-docs/stable/user_guide/indexing.html#returning-a-view-versus-a-copy\n",
      "  df_na_values['Score_BAN'] = df_na_values['Score_BAN'].str.replace(',','.').astype(float)\n",
      "/tmp/ipykernel_6862/2863507177.py:3: SettingWithCopyWarning: \n",
      "A value is trying to be set on a copy of a slice from a DataFrame.\n",
      "Try using .loc[row_indexer,col_indexer] = value instead\n",
      "\n",
      "See the caveats in the documentation: https://pandas.pydata.org/pandas-docs/stable/user_guide/indexing.html#returning-a-view-versus-a-copy\n",
      "  df_na_values['Score_BAN'] = df_na_values['Score_BAN'].fillna(df_na_values['Score_BAN'].mean().round(1))\n"
     ]
    }
   ],
   "source": [
    "df_na_values['Score_BAN'] = df_na_values['Score_BAN'].str.replace(',','.').astype(float)\n",
    "\n",
    "df_na_values['Score_BAN'] = df_na_values['Score_BAN'].fillna(df_na_values['Score_BAN'].mean().round(1))\n",
    "\n",
    "print(df_na_values['Score_BAN'].isna().sum())\n",
    "\n",
    "print(df_na_values['Score_BAN'])\n",
    "\n"
   ]
  },
  {
   "cell_type": "code",
   "execution_count": 114,
   "id": "1e993c7a-d28c-461a-9b8c-56cb50946a06",
   "metadata": {},
   "outputs": [
    {
     "name": "stdout",
     "output_type": "stream",
     "text": [
      "0\n",
      "0       0.80\n",
      "1       0.21\n",
      "2       0.72\n",
      "3       0.33\n",
      "4       0.82\n",
      "        ... \n",
      "9995    0.96\n",
      "9996    0.56\n",
      "9997    0.75\n",
      "9998    0.64\n",
      "9999    0.88\n",
      "Name: Coût_chauffage_énergie_n°2, Length: 10000, dtype: float64\n"
     ]
    },
    {
     "name": "stderr",
     "output_type": "stream",
     "text": [
      "/tmp/ipykernel_6862/2180220433.py:1: SettingWithCopyWarning: \n",
      "A value is trying to be set on a copy of a slice from a DataFrame.\n",
      "Try using .loc[row_indexer,col_indexer] = value instead\n",
      "\n",
      "See the caveats in the documentation: https://pandas.pydata.org/pandas-docs/stable/user_guide/indexing.html#returning-a-view-versus-a-copy\n",
      "  df_na_values['Coût_chauffage_énergie_n°2'] = df_na_values['Coût_chauffage_énergie_n°2'].str.replace(',','.').astype(float)\n",
      "/tmp/ipykernel_6862/2180220433.py:3: SettingWithCopyWarning: \n",
      "A value is trying to be set on a copy of a slice from a DataFrame.\n",
      "Try using .loc[row_indexer,col_indexer] = value instead\n",
      "\n",
      "See the caveats in the documentation: https://pandas.pydata.org/pandas-docs/stable/user_guide/indexing.html#returning-a-view-versus-a-copy\n",
      "  df_na_values['Coût_chauffage_énergie_n°2'] = df_na_values['Score_BAN'].fillna(df_na_values['Coût_chauffage_énergie_n°2'].mean().round(1))\n"
     ]
    }
   ],
   "source": [
    "df_na_values['Coût_chauffage_énergie_n°2'] = df_na_values['Coût_chauffage_énergie_n°2'].str.replace(',','.').astype(float)\n",
    "\n",
    "df_na_values['Coût_chauffage_énergie_n°2'] = df_na_values['Score_BAN'].fillna(df_na_values['Coût_chauffage_énergie_n°2'].mean().round(1))\n",
    "\n",
    "print(df_na_values['Coût_chauffage_énergie_n°2'].isna().sum())\n",
    "\n",
    "print(df_na_values['Coût_chauffage_énergie_n°2'])\n",
    "\n"
   ]
  },
  {
   "cell_type": "code",
   "execution_count": 115,
   "id": "bc8ede24-27a2-434d-8e25-d9e244bae646",
   "metadata": {},
   "outputs": [
    {
     "name": "stderr",
     "output_type": "stream",
     "text": [
      "/tmp/ipykernel_6862/2535515516.py:1: SettingWithCopyWarning: \n",
      "A value is trying to be set on a copy of a slice from a DataFrame.\n",
      "Try using .loc[row_indexer,col_indexer] = value instead\n",
      "\n",
      "See the caveats in the documentation: https://pandas.pydata.org/pandas-docs/stable/user_guide/indexing.html#returning-a-view-versus-a-copy\n",
      "  df_na_values['Coût_ECS_énergie_n°2'] = df_na_values['Coût_ECS_énergie_n°2'].str.replace(',','.').astype(float)\n"
     ]
    },
    {
     "name": "stdout",
     "output_type": "stream",
     "text": [
      "0\n",
      "0         0.0\n",
      "1         3.0\n",
      "2         0.0\n",
      "3       227.0\n",
      "4         4.4\n",
      "        ...  \n",
      "9995    268.2\n",
      "9996      0.0\n",
      "9997      0.0\n",
      "9998    167.7\n",
      "9999     52.3\n",
      "Name: Coût_ECS_énergie_n°2, Length: 10000, dtype: float64\n"
     ]
    },
    {
     "name": "stderr",
     "output_type": "stream",
     "text": [
      "/tmp/ipykernel_6862/2535515516.py:3: SettingWithCopyWarning: \n",
      "A value is trying to be set on a copy of a slice from a DataFrame.\n",
      "Try using .loc[row_indexer,col_indexer] = value instead\n",
      "\n",
      "See the caveats in the documentation: https://pandas.pydata.org/pandas-docs/stable/user_guide/indexing.html#returning-a-view-versus-a-copy\n",
      "  df_na_values['Coût_ECS_énergie_n°2'] = df_na_values['Coût_ECS_énergie_n°2'].fillna(df_na_values['Coût_ECS_énergie_n°2'].mean().round(1))\n"
     ]
    }
   ],
   "source": [
    "df_na_values['Coût_ECS_énergie_n°2'] = df_na_values['Coût_ECS_énergie_n°2'].str.replace(',','.').astype(float)\n",
    "\n",
    "df_na_values['Coût_ECS_énergie_n°2'] = df_na_values['Coût_ECS_énergie_n°2'].fillna(df_na_values['Coût_ECS_énergie_n°2'].mean().round(1))\n",
    "\n",
    "print(df_na_values['Coût_ECS_énergie_n°2'].isna().sum())\n",
    "\n",
    "print(df_na_values['Coût_ECS_énergie_n°2'])\n",
    "\n"
   ]
  },
  {
   "cell_type": "code",
   "execution_count": 116,
   "id": "81b02a84-d61b-41a3-805c-7d4caddd8b87",
   "metadata": {},
   "outputs": [
    {
     "name": "stdout",
     "output_type": "stream",
     "text": [
      "0\n",
      "0       Électricité\n",
      "1       Électricité\n",
      "2       Électricité\n",
      "3       Électricité\n",
      "4       Électricité\n",
      "           ...     \n",
      "9995    Électricité\n",
      "9996    Électricité\n",
      "9997    Électricité\n",
      "9998    Électricité\n",
      "9999    Électricité\n",
      "Name: Type_énergie_n°2, Length: 10000, dtype: object\n"
     ]
    },
    {
     "name": "stderr",
     "output_type": "stream",
     "text": [
      "/tmp/ipykernel_6862/1702328222.py:1: SettingWithCopyWarning: \n",
      "A value is trying to be set on a copy of a slice from a DataFrame.\n",
      "Try using .loc[row_indexer,col_indexer] = value instead\n",
      "\n",
      "See the caveats in the documentation: https://pandas.pydata.org/pandas-docs/stable/user_guide/indexing.html#returning-a-view-versus-a-copy\n",
      "  df_na_values['Type_énergie_n°2'] = df_na_values['Type_énergie_n°2'].fillna('Électricité')\n"
     ]
    },
    {
     "data": {
      "text/plain": [
       "Type_énergie_n°2\n",
       "Électricité                                9112\n",
       "Gaz naturel                                 690\n",
       "Réseau de Chauffage urbain                  101\n",
       "Bois – Granulés (pellets) ou briquettes      84\n",
       "Bois – Bûches                                 9\n",
       "GPL                                           3\n",
       "Fioul domestique                              1\n",
       "Name: count, dtype: int64"
      ]
     },
     "execution_count": 116,
     "metadata": {},
     "output_type": "execute_result"
    }
   ],
   "source": [
    "df_na_values['Type_énergie_n°2'] = df_na_values['Type_énergie_n°2'].fillna('Électricité')\n",
    "\n",
    "print(df_na_values['Type_énergie_n°2'].isna().sum())\n",
    "\n",
    "print(df_na_values['Type_énergie_n°2'])\n",
    "\n",
    "df_na_values['Type_énergie_n°2'].value_counts()\n",
    "\n"
   ]
  },
  {
   "cell_type": "code",
   "execution_count": 117,
   "id": "039c3721-f5d5-4791-af43-301532302a65",
   "metadata": {},
   "outputs": [
    {
     "name": "stdout",
     "output_type": "stream",
     "text": [
      "0\n",
      "0         2.4\n",
      "1        12.7\n",
      "2         1.9\n",
      "3        22.5\n",
      "4         2.8\n",
      "        ...  \n",
      "9995    103.2\n",
      "9996     16.7\n",
      "9997      2.6\n",
      "9998    652.7\n",
      "9999    796.7\n",
      "Name: Emission_GES_5_usages_énergie_n°2, Length: 10000, dtype: float64\n"
     ]
    },
    {
     "name": "stderr",
     "output_type": "stream",
     "text": [
      "/tmp/ipykernel_6862/3326178503.py:1: SettingWithCopyWarning: \n",
      "A value is trying to be set on a copy of a slice from a DataFrame.\n",
      "Try using .loc[row_indexer,col_indexer] = value instead\n",
      "\n",
      "See the caveats in the documentation: https://pandas.pydata.org/pandas-docs/stable/user_guide/indexing.html#returning-a-view-versus-a-copy\n",
      "  df_na_values['Emission_GES_5_usages_énergie_n°2'] = df_na_values['Emission_GES_5_usages_énergie_n°2'].str.replace(',','.').astype(float)\n",
      "/tmp/ipykernel_6862/3326178503.py:3: SettingWithCopyWarning: \n",
      "A value is trying to be set on a copy of a slice from a DataFrame.\n",
      "Try using .loc[row_indexer,col_indexer] = value instead\n",
      "\n",
      "See the caveats in the documentation: https://pandas.pydata.org/pandas-docs/stable/user_guide/indexing.html#returning-a-view-versus-a-copy\n",
      "  df_na_values['Emission_GES_5_usages_énergie_n°2'] = df_na_values['Emission_GES_5_usages_énergie_n°2'].fillna(df_na_values['Emission_GES_5_usages_énergie_n°2'].mean().round(1))\n"
     ]
    }
   ],
   "source": [
    "df_na_values['Emission_GES_5_usages_énergie_n°2'] = df_na_values['Emission_GES_5_usages_énergie_n°2'].str.replace(',','.').astype(float)\n",
    "\n",
    "df_na_values['Emission_GES_5_usages_énergie_n°2'] = df_na_values['Emission_GES_5_usages_énergie_n°2'].fillna(df_na_values['Emission_GES_5_usages_énergie_n°2'].mean().round(1))\n",
    "\n",
    "print(df_na_values['Emission_GES_5_usages_énergie_n°2'].isna().sum())\n",
    "\n",
    "print(df_na_values['Emission_GES_5_usages_énergie_n°2'])\n",
    "\n"
   ]
  },
  {
   "cell_type": "code",
   "execution_count": 118,
   "id": "39a653b3-8768-434c-9499-f89fc6209eb3",
   "metadata": {},
   "outputs": [
    {
     "name": "stdout",
     "output_type": "stream",
     "text": [
      "18\n",
      "0            bonne\n",
      "1       très bonne\n",
      "2            bonne\n",
      "3       très bonne\n",
      "4            bonne\n",
      "           ...    \n",
      "9995    très bonne\n",
      "9996    très bonne\n",
      "9997         bonne\n",
      "9998    très bonne\n",
      "9999    très bonne\n",
      "Name: Qualité_isolation_plancher_bas, Length: 10000, dtype: object\n"
     ]
    },
    {
     "data": {
      "text/plain": [
       "Qualité_isolation_plancher_bas\n",
       "très bonne      6069\n",
       "bonne           3713\n",
       "moyenne          169\n",
       "insuffisante      31\n",
       "Name: count, dtype: int64"
      ]
     },
     "execution_count": 118,
     "metadata": {},
     "output_type": "execute_result"
    }
   ],
   "source": [
    "print(df_na_values['Qualité_isolation_plancher_bas'].isna().sum())\n",
    "\n",
    "print(df_na_values['Qualité_isolation_plancher_bas'])\n",
    "\n",
    "df_na_values['Qualité_isolation_plancher_bas'].value_counts()\n",
    "\n"
   ]
  },
  {
   "cell_type": "code",
   "execution_count": 119,
   "id": "33e0f654-ea88-4132-973b-d6d36b19a60f",
   "metadata": {},
   "outputs": [
    {
     "name": "stdout",
     "output_type": "stream",
     "text": [
      "0\n",
      "0            bonne\n",
      "1       très bonne\n",
      "2            bonne\n",
      "3       très bonne\n",
      "4            bonne\n",
      "           ...    \n",
      "9995    très bonne\n",
      "9996    très bonne\n",
      "9997         bonne\n",
      "9998    très bonne\n",
      "9999    très bonne\n",
      "Name: Qualité_isolation_plancher_bas, Length: 10000, dtype: object\n"
     ]
    },
    {
     "name": "stderr",
     "output_type": "stream",
     "text": [
      "/tmp/ipykernel_6862/1788131108.py:1: SettingWithCopyWarning: \n",
      "A value is trying to be set on a copy of a slice from a DataFrame.\n",
      "Try using .loc[row_indexer,col_indexer] = value instead\n",
      "\n",
      "See the caveats in the documentation: https://pandas.pydata.org/pandas-docs/stable/user_guide/indexing.html#returning-a-view-versus-a-copy\n",
      "  df_na_values['Qualité_isolation_plancher_bas'] = df_na_values['Qualité_isolation_plancher_bas'].fillna('très bonne')\n"
     ]
    },
    {
     "data": {
      "text/plain": [
       "Qualité_isolation_plancher_bas\n",
       "très bonne      6087\n",
       "bonne           3713\n",
       "moyenne          169\n",
       "insuffisante      31\n",
       "Name: count, dtype: int64"
      ]
     },
     "execution_count": 119,
     "metadata": {},
     "output_type": "execute_result"
    }
   ],
   "source": [
    "df_na_values['Qualité_isolation_plancher_bas'] = df_na_values['Qualité_isolation_plancher_bas'].fillna('très bonne')\n",
    "\n",
    "print(df_na_values['Qualité_isolation_plancher_bas'].isna().sum())\n",
    "\n",
    "print(df_na_values['Qualité_isolation_plancher_bas'])\n",
    "\n",
    "df_na_values['Qualité_isolation_plancher_bas'].value_counts()\n",
    "\n"
   ]
  },
  {
   "cell_type": "code",
   "execution_count": 120,
   "id": "5e276b2b-c66e-4d60-aa6f-946b621387bc",
   "metadata": {},
   "outputs": [
    {
     "name": "stdout",
     "output_type": "stream",
     "text": [
      "0\n",
      "0       1.0\n",
      "1       1.0\n",
      "2       1.0\n",
      "3       1.0\n",
      "4       1.0\n",
      "       ... \n",
      "9995    1.0\n",
      "9996    1.0\n",
      "9997    1.0\n",
      "9998    1.0\n",
      "9999    1.0\n",
      "Name: Nombre_niveau_logement, Length: 10000, dtype: float64\n"
     ]
    },
    {
     "name": "stderr",
     "output_type": "stream",
     "text": [
      "/tmp/ipykernel_6862/2827488787.py:1: SettingWithCopyWarning: \n",
      "A value is trying to be set on a copy of a slice from a DataFrame.\n",
      "Try using .loc[row_indexer,col_indexer] = value instead\n",
      "\n",
      "See the caveats in the documentation: https://pandas.pydata.org/pandas-docs/stable/user_guide/indexing.html#returning-a-view-versus-a-copy\n",
      "  df_na_values['Nombre_niveau_logement'] = df_na_values['Nombre_niveau_logement'].fillna(1.0)\n"
     ]
    },
    {
     "data": {
      "text/plain": [
       "Nombre_niveau_logement\n",
       "1.0    9733\n",
       "2.0      91\n",
       "4.0      83\n",
       "3.0      40\n",
       "5.0      27\n",
       "6.0      20\n",
       "9.0       5\n",
       "7.0       1\n",
       "Name: count, dtype: int64"
      ]
     },
     "execution_count": 120,
     "metadata": {},
     "output_type": "execute_result"
    }
   ],
   "source": [
    "df_na_values['Nombre_niveau_logement'] = df_na_values['Nombre_niveau_logement'].fillna(1.0)\n",
    "\n",
    "print(df_na_values['Nombre_niveau_logement'].isna().sum())\n",
    "\n",
    "print(df_na_values['Nombre_niveau_logement'])\n",
    "\n",
    "df_na_values['Nombre_niveau_logement'].value_counts()\n",
    "\n"
   ]
  },
  {
   "cell_type": "code",
   "execution_count": 121,
   "id": "cf2a11f4-9886-4665-9b37-adbf86227685",
   "metadata": {},
   "outputs": [
    {
     "name": "stdout",
     "output_type": "stream",
     "text": [
      "0        43,2\n",
      "1        71,6\n",
      "2        44,4\n",
      "3       104,5\n",
      "4        54,7\n",
      "        ...  \n",
      "9995     61,9\n",
      "9996     94,2\n",
      "9997     61,5\n",
      "9998     87,2\n",
      "9999       89\n",
      "Name: Surface_habitable_logement, Length: 10000, dtype: object\n",
      "45\n"
     ]
    },
    {
     "data": {
      "text/plain": [
       "Surface_habitable_logement\n",
       "65,3      40\n",
       "44,6      39\n",
       "65,2      37\n",
       "63,4      36\n",
       "41        35\n",
       "          ..\n",
       "204        1\n",
       "162        1\n",
       "128,5      1\n",
       "170,9      1\n",
       "1133,6     1\n",
       "Name: count, Length: 1634, dtype: int64"
      ]
     },
     "execution_count": 121,
     "metadata": {},
     "output_type": "execute_result"
    }
   ],
   "source": [
    "print(df_na_values['Surface_habitable_logement'])\n",
    "\n",
    "print(df_na_values['Surface_habitable_logement'].isna().sum())\n",
    "\n",
    "df_na_values['Surface_habitable_logement'].value_counts()\n",
    "\n"
   ]
  },
  {
   "cell_type": "code",
   "execution_count": 122,
   "id": "10e0c367-2b46-4c76-9463-96d7ae769e6f",
   "metadata": {},
   "outputs": [
    {
     "name": "stdout",
     "output_type": "stream",
     "text": [
      "0\n",
      "0        43.2\n",
      "1        71.6\n",
      "2        44.4\n",
      "3       104.5\n",
      "4        54.7\n",
      "        ...  \n",
      "9995     61.9\n",
      "9996     94.2\n",
      "9997     61.5\n",
      "9998     87.2\n",
      "9999     89.0\n",
      "Name: Surface_habitable_logement, Length: 10000, dtype: float64\n"
     ]
    },
    {
     "name": "stderr",
     "output_type": "stream",
     "text": [
      "/tmp/ipykernel_6862/1507279307.py:1: SettingWithCopyWarning: \n",
      "A value is trying to be set on a copy of a slice from a DataFrame.\n",
      "Try using .loc[row_indexer,col_indexer] = value instead\n",
      "\n",
      "See the caveats in the documentation: https://pandas.pydata.org/pandas-docs/stable/user_guide/indexing.html#returning-a-view-versus-a-copy\n",
      "  df_na_values['Surface_habitable_logement'] = df_na_values['Surface_habitable_logement'].str.replace(',','.').astype(float)\n",
      "/tmp/ipykernel_6862/1507279307.py:3: SettingWithCopyWarning: \n",
      "A value is trying to be set on a copy of a slice from a DataFrame.\n",
      "Try using .loc[row_indexer,col_indexer] = value instead\n",
      "\n",
      "See the caveats in the documentation: https://pandas.pydata.org/pandas-docs/stable/user_guide/indexing.html#returning-a-view-versus-a-copy\n",
      "  df_na_values['Surface_habitable_logement'] = df_na_values['Surface_habitable_logement'].fillna(df_na_values['Surface_habitable_logement'].mean().round(1))\n"
     ]
    }
   ],
   "source": [
    "df_na_values['Surface_habitable_logement'] = df_na_values['Surface_habitable_logement'].str.replace(',','.').astype(float)\n",
    "\n",
    "df_na_values['Surface_habitable_logement'] = df_na_values['Surface_habitable_logement'].fillna(df_na_values['Surface_habitable_logement'].mean().round(1))\n",
    "\n",
    "print(df_na_values['Surface_habitable_logement'].isna().sum())\n",
    "\n",
    "print(df_na_values['Surface_habitable_logement'])\n",
    "\n"
   ]
  },
  {
   "cell_type": "code",
   "execution_count": 123,
   "id": "fd05e762-e121-4b84-b4a3-ceda96843b4c",
   "metadata": {},
   "outputs": [
    {
     "name": "stdout",
     "output_type": "stream",
     "text": [
      "df_data  (10000, 66)\n"
     ]
    }
   ],
   "source": [
    "na_values_columns = ['Appartement_non_visité_(0/1)', 'Nombre_appartement', 'Nombre_niveau_immeuble', 'Nombre_niveau_logement',\n",
    "                     'Surface_habitable_immeuble', 'Surface_habitable_logement', 'Score_BAN', 'Coût_chauffage_énergie_n°2', \n",
    "                     'Coût_ECS_énergie_n°2', 'Type_énergie_n°2', 'Emission_GES_5_usages_énergie_n°2', 'Qualité_isolation_plancher_bas']\n",
    "\n",
    "df_test.drop(labels = na_values_columns, axis = 1, inplace = True)\n",
    "\n",
    "df_data = pd.concat([df_test, df_na_values], axis = 1)\n",
    "\n",
    "print(\"df_data \", df_data.shape)\n",
    "\n"
   ]
  },
  {
   "cell_type": "code",
   "execution_count": 124,
   "id": "8d6f3695-3955-4bf9-b521-4d400c5497b9",
   "metadata": {},
   "outputs": [
    {
     "name": "stdout",
     "output_type": "stream",
     "text": [
      "<class 'pandas.core.frame.DataFrame'>\n",
      "RangeIndex: 10000 entries, 0 to 9999\n",
      "Data columns (total 66 columns):\n",
      " #   Column                                      Non-Null Count  Dtype  \n",
      "---  ------                                      --------------  -----  \n",
      " 0   Modèle_DPE                                  10000 non-null  object \n",
      " 1   Version_DPE                                 10000 non-null  object \n",
      " 2   Méthode_application_DPE                     10000 non-null  object \n",
      " 3   Etiquette_DPE                               10000 non-null  object \n",
      " 4   Etiquette_GES                               10000 non-null  object \n",
      " 5   Type_bâtiment                               10000 non-null  object \n",
      " 6   Hauteur_sous-plafond                        10000 non-null  object \n",
      " 7   Conso_5_usages_é_finale                     10000 non-null  object \n",
      " 8   Conso_5_usages/m²_é_finale                  10000 non-null  object \n",
      " 9   Conso_chauffage_é_finale                    10000 non-null  object \n",
      " 10  Conso_chauffage_dépensier_é_finale          10000 non-null  object \n",
      " 11  Conso_éclairage_é_finale                    10000 non-null  object \n",
      " 12  Conso_ECS_é_finale                          10000 non-null  object \n",
      " 13  Conso_ECS_dépensier_é_finale                10000 non-null  object \n",
      " 14  Conso_refroidissement_é_finale              10000 non-null  object \n",
      " 15  Conso_refroidissement_dépensier_é_finale    10000 non-null  object \n",
      " 16  Conso_auxiliaires_é_finale                  10000 non-null  object \n",
      " 17  Conso_5_usages_é_primaire                   10000 non-null  object \n",
      " 18  Conso_5_usages_par_m²_é_primaire            10000 non-null  object \n",
      " 19  Conso_chauffage_é_primaire                  10000 non-null  object \n",
      " 20  Conso_chauffage_dépensier_é_primaire        10000 non-null  object \n",
      " 21  Conso_éclairage_é_primaire                  10000 non-null  object \n",
      " 22  Conso_ECS_é_primaire                        10000 non-null  object \n",
      " 23  Conso_ECS_dépensier_é_primaire              10000 non-null  object \n",
      " 24  Conso_refroidissement_é_primaire            10000 non-null  object \n",
      " 25  Conso_refroidissement_dépensier_é_primaire  10000 non-null  object \n",
      " 26  Conso_auxiliaires_é_primaire                10000 non-null  object \n",
      " 27  Emission_GES_5_usages                       10000 non-null  object \n",
      " 28  Emission_GES_5_usages_par_m²                10000 non-null  object \n",
      " 29  Emission_GES_chauffage                      10000 non-null  object \n",
      " 30  Emission_GES_chauffage_dépensier            10000 non-null  object \n",
      " 31  Emission_GES_éclairage                      10000 non-null  object \n",
      " 32  Emission_GES_ECS                            10000 non-null  object \n",
      " 33  Emission_GES_ECS_dépensier                  10000 non-null  object \n",
      " 34  Emission_GES_refroidissement                10000 non-null  object \n",
      " 35  Emission_GES_refroidissement_dépensier      10000 non-null  object \n",
      " 36  Emission_GES_auxiliaires                    10000 non-null  object \n",
      " 37  Coût_chauffage_énergie_n°1                  10000 non-null  object \n",
      " 38  Coût_ECS_énergie_n°1                        10000 non-null  object \n",
      " 39  Emission_GES_5_usages_énergie_n°1           10000 non-null  object \n",
      " 40  Type_énergie_n°1                            10000 non-null  object \n",
      " 41  Coût_total_5_usages                         10000 non-null  object \n",
      " 42  Coût_chauffage                              10000 non-null  object \n",
      " 43  Coût_chauffage_dépensier                    10000 non-null  object \n",
      " 44  Coût_éclairage                              10000 non-null  object \n",
      " 45  Coût_ECS_dépensier                          10000 non-null  object \n",
      " 46  Coût_ECS                                    10000 non-null  object \n",
      " 47  Coût_refroidissement                        10000 non-null  object \n",
      " 48  Coût_refroidissement_dépensier              10000 non-null  object \n",
      " 49  Coût_auxiliaires                            10000 non-null  object \n",
      " 50  Qualité_isolation_enveloppe                 10000 non-null  object \n",
      " 51  Qualité_isolation_menuiseries               10000 non-null  object \n",
      " 52  Qualité_isolation_murs                      10000 non-null  object \n",
      " 53  Ubat_W/m²_K                                 10000 non-null  object \n",
      " 54  Appartement_non_visité_(0/1)                10000 non-null  object \n",
      " 55  Nombre_appartement                          10000 non-null  float64\n",
      " 56  Nombre_niveau_immeuble                      10000 non-null  float64\n",
      " 57  Nombre_niveau_logement                      10000 non-null  float64\n",
      " 58  Surface_habitable_immeuble                  10000 non-null  float64\n",
      " 59  Surface_habitable_logement                  10000 non-null  float64\n",
      " 60  Score_BAN                                   10000 non-null  float64\n",
      " 61  Coût_chauffage_énergie_n°2                  10000 non-null  float64\n",
      " 62  Coût_ECS_énergie_n°2                        10000 non-null  float64\n",
      " 63  Type_énergie_n°2                            10000 non-null  object \n",
      " 64  Emission_GES_5_usages_énergie_n°2           10000 non-null  float64\n",
      " 65  Qualité_isolation_plancher_bas              10000 non-null  object \n",
      "dtypes: float64(9), object(57)\n",
      "memory usage: 5.0+ MB\n"
     ]
    }
   ],
   "source": [
    "df_data.info()\n",
    "\n"
   ]
  },
  {
   "cell_type": "code",
   "execution_count": 125,
   "id": "ea2a8ac9-bfca-4c28-9a49-bf3cd437ab8c",
   "metadata": {},
   "outputs": [
    {
     "name": "stdout",
     "output_type": "stream",
     "text": [
      "0       2.5\n",
      "1       2.5\n",
      "2       2.5\n",
      "3       2.5\n",
      "4       2.5\n",
      "       ... \n",
      "9995    2.5\n",
      "9996    2.5\n",
      "9997    2.5\n",
      "9998    2.5\n",
      "9999    2.6\n",
      "Name: Hauteur_sous-plafond, Length: 10000, dtype: float64\n"
     ]
    }
   ],
   "source": [
    "df_data['Hauteur_sous-plafond'] = df_data['Hauteur_sous-plafond'].str.replace(',','.').astype(float)\n",
    "\n",
    "print(df_data['Hauteur_sous-plafond'])\n",
    "\n"
   ]
  },
  {
   "cell_type": "code",
   "execution_count": 126,
   "id": "3bfd34b2-4475-4931-8e85-9bff6d570d36",
   "metadata": {},
   "outputs": [
    {
     "name": "stdout",
     "output_type": "stream",
     "text": [
      "0       2780.9\n",
      "1       4173.0\n",
      "2       2401.9\n",
      "3       6651.3\n",
      "4       4856.8\n",
      "         ...  \n",
      "9995    5573.1\n",
      "9996    4866.3\n",
      "9997    3491.2\n",
      "9998    3457.3\n",
      "9999    3471.2\n",
      "Name: Conso_5_usages_é_finale, Length: 10000, dtype: float64\n"
     ]
    }
   ],
   "source": [
    "df_data['Conso_5_usages_é_finale'] = df_data['Conso_5_usages_é_finale'].str.replace(',','.').astype(float)\n",
    "\n",
    "print(df_data['Conso_5_usages_é_finale'])\n",
    "\n"
   ]
  },
  {
   "cell_type": "code",
   "execution_count": 127,
   "id": "e12ffb98-a193-48bf-a9b8-a87650da2256",
   "metadata": {},
   "outputs": [
    {
     "name": "stdout",
     "output_type": "stream",
     "text": [
      "0       64.4\n",
      "1       58.3\n",
      "2       54.1\n",
      "3       63.7\n",
      "4       88.7\n",
      "        ... \n",
      "9995    90.0\n",
      "9996    51.7\n",
      "9997    56.8\n",
      "9998    39.0\n",
      "9999    39.0\n",
      "Name: Conso_5_usages/m²_é_finale, Length: 10000, dtype: float64\n"
     ]
    }
   ],
   "source": [
    "df_data['Conso_5_usages/m²_é_finale'] = df_data['Conso_5_usages/m²_é_finale'].str.replace(',','.').astype(float)\n",
    "\n",
    "print(df_data['Conso_5_usages/m²_é_finale'])\n",
    "\n"
   ]
  },
  {
   "cell_type": "code",
   "execution_count": 128,
   "id": "cce0534f-ef91-4cde-a8b3-336e1f478c82",
   "metadata": {},
   "outputs": [
    {
     "name": "stdout",
     "output_type": "stream",
     "text": [
      "0       1713.9\n",
      "1       2613.0\n",
      "2       1147.8\n",
      "3       5452.0\n",
      "4       3301.6\n",
      "         ...  \n",
      "9995    4179.6\n",
      "9996    3017.0\n",
      "9997    1874.4\n",
      "9998    2657.6\n",
      "9999    1770.7\n",
      "Name: Conso_chauffage_é_finale, Length: 10000, dtype: float64\n"
     ]
    }
   ],
   "source": [
    "df_data['Conso_chauffage_é_finale'] = df_data['Conso_chauffage_é_finale'].str.replace(',','.').astype(float)\n",
    "\n",
    "print(df_data['Conso_chauffage_é_finale'])\n",
    "\n"
   ]
  },
  {
   "cell_type": "code",
   "execution_count": 129,
   "id": "cbc0f105-ce8f-4f2d-808e-1db500d57e4d",
   "metadata": {},
   "outputs": [
    {
     "name": "stdout",
     "output_type": "stream",
     "text": [
      "0       1988.1\n",
      "1       3031.1\n",
      "2       1331.4\n",
      "3       6324.3\n",
      "4       3829.8\n",
      "         ...  \n",
      "9995    4848.3\n",
      "9996    3499.7\n",
      "9997    2174.3\n",
      "9998    3082.8\n",
      "9999    2054.0\n",
      "Name: Conso_chauffage_dépensier_é_finale, Length: 10000, dtype: float64\n"
     ]
    }
   ],
   "source": [
    "df_data['Conso_chauffage_dépensier_é_finale'] = df_data['Conso_chauffage_dépensier_é_finale'].str.replace(',','.').astype(float)\n",
    "\n",
    "print(df_data['Conso_chauffage_dépensier_é_finale'])\n",
    "\n"
   ]
  },
  {
   "cell_type": "code",
   "execution_count": 130,
   "id": "0ae17dc8-a7db-4eb8-ae5a-02b3f1fe6154",
   "metadata": {},
   "outputs": [
    {
     "name": "stdout",
     "output_type": "stream",
     "text": [
      "0        30.9\n",
      "1       131.6\n",
      "2        25.7\n",
      "3       226.6\n",
      "4        36.8\n",
      "        ...  \n",
      "9995    239.3\n",
      "9996    178.0\n",
      "9997     37.6\n",
      "9998    177.8\n",
      "9999    163.1\n",
      "Name: Conso_éclairage_é_finale, Length: 10000, dtype: float64\n"
     ]
    }
   ],
   "source": [
    "df_data['Conso_éclairage_é_finale'] = df_data['Conso_éclairage_é_finale'].str.replace(',','.').astype(float)\n",
    "\n",
    "print(df_data['Conso_éclairage_é_finale'])\n",
    "\n"
   ]
  },
  {
   "cell_type": "code",
   "execution_count": 131,
   "id": "3646d123-255a-4e12-938f-426bb3772126",
   "metadata": {},
   "outputs": [
    {
     "name": "stdout",
     "output_type": "stream",
     "text": [
      "0        934.4\n",
      "1       1372.0\n",
      "2       1132.9\n",
      "3        866.0\n",
      "4       1379.0\n",
      "         ...  \n",
      "9995    1150.9\n",
      "9996    1602.0\n",
      "9997    1454.9\n",
      "9998     578.0\n",
      "9999    1534.4\n",
      "Name: Conso_ECS_é_finale, Length: 10000, dtype: float64\n"
     ]
    }
   ],
   "source": [
    "df_data['Conso_ECS_é_finale'] = df_data['Conso_ECS_é_finale'].str.replace(',','.').astype(float)\n",
    "\n",
    "print(df_data['Conso_ECS_é_finale'])\n",
    "\n"
   ]
  },
  {
   "cell_type": "code",
   "execution_count": 132,
   "id": "6d81f929-fc38-43db-9766-f47e8773a7b4",
   "metadata": {},
   "outputs": [
    {
     "name": "stdout",
     "output_type": "stream",
     "text": [
      "0       1317.5\n",
      "1       1934.5\n",
      "2       1597.4\n",
      "3       1221.1\n",
      "4       1944.3\n",
      "         ...  \n",
      "9995    1622.8\n",
      "9996    2258.8\n",
      "9997    2051.4\n",
      "9998     814.9\n",
      "9999    2163.5\n",
      "Name: Conso_ECS_dépensier_é_finale, Length: 10000, dtype: float64\n"
     ]
    }
   ],
   "source": [
    "df_data['Conso_ECS_dépensier_é_finale'] = df_data['Conso_ECS_dépensier_é_finale'].str.replace(',','.').astype(float)\n",
    "\n",
    "print(df_data['Conso_ECS_dépensier_é_finale'])\n",
    "\n"
   ]
  },
  {
   "cell_type": "code",
   "execution_count": 133,
   "id": "e46c4adc-b975-4447-843a-920a9d661bb2",
   "metadata": {},
   "outputs": [
    {
     "name": "stdout",
     "output_type": "stream",
     "text": [
      "0       0.0\n",
      "1       0.0\n",
      "2       0.0\n",
      "3       0.0\n",
      "4       0.0\n",
      "       ... \n",
      "9995    0.0\n",
      "9996    0.0\n",
      "9997    0.0\n",
      "9998    0.0\n",
      "9999    0.0\n",
      "Name: Conso_refroidissement_é_finale, Length: 10000, dtype: float64\n"
     ]
    }
   ],
   "source": [
    "df_data['Conso_refroidissement_é_finale'] = df_data['Conso_refroidissement_é_finale'].str.replace(',','.').astype(float)\n",
    "\n",
    "print(df_data['Conso_refroidissement_é_finale'])\n",
    "\n"
   ]
  },
  {
   "cell_type": "code",
   "execution_count": 134,
   "id": "ae559a07-7443-4551-b5bd-ae9ae1f7fc6b",
   "metadata": {},
   "outputs": [
    {
     "name": "stdout",
     "output_type": "stream",
     "text": [
      "0       0.0\n",
      "1       0.0\n",
      "2       0.0\n",
      "3       0.0\n",
      "4       0.0\n",
      "       ... \n",
      "9995    0.0\n",
      "9996    0.0\n",
      "9997    0.0\n",
      "9998    0.0\n",
      "9999    0.0\n",
      "Name: Conso_refroidissement_dépensier_é_finale, Length: 10000, dtype: float64\n"
     ]
    }
   ],
   "source": [
    "df_data['Conso_refroidissement_dépensier_é_finale'] = df_data['Conso_refroidissement_dépensier_é_finale'].str.replace(',','.').astype(float)\n",
    "\n",
    "print(df_data['Conso_refroidissement_dépensier_é_finale'])\n",
    "\n"
   ]
  },
  {
   "cell_type": "code",
   "execution_count": 135,
   "id": "bb59a0b6-a858-40d5-bec9-63cb0c619889",
   "metadata": {},
   "outputs": [
    {
     "name": "stdout",
     "output_type": "stream",
     "text": [
      "0        3.9\n",
      "1        0.0\n",
      "2        1.4\n",
      "3       13.3\n",
      "4        4.1\n",
      "        ... \n",
      "9995     3.3\n",
      "9996     9.9\n",
      "9997     0.0\n",
      "9998    43.9\n",
      "9999     3.0\n",
      "Name: Conso_auxiliaires_é_finale, Length: 10000, dtype: float64\n"
     ]
    }
   ],
   "source": [
    "df_data['Conso_auxiliaires_é_finale'] = df_data['Conso_auxiliaires_é_finale'].str.replace(',','.').astype(float)\n",
    "\n",
    "print(df_data['Conso_auxiliaires_é_finale'])\n",
    "\n"
   ]
  },
  {
   "cell_type": "code",
   "execution_count": 136,
   "id": "98138f23-9fc3-4c75-9de7-799fcc8592df",
   "metadata": {},
   "outputs": [
    {
     "name": "stdout",
     "output_type": "stream",
     "text": [
      "0       2953.4\n",
      "1       4440.8\n",
      "2       2559.5\n",
      "3       8245.4\n",
      "4       5140.0\n",
      "         ...  \n",
      "9995    7429.2\n",
      "9996    5200.7\n",
      "9997    3701.8\n",
      "9998    4525.5\n",
      "9999    3696.4\n",
      "Name: Conso_5_usages_é_primaire, Length: 10000, dtype: float64\n"
     ]
    }
   ],
   "source": [
    "df_data['Conso_5_usages_é_primaire'] = df_data['Conso_5_usages_é_primaire'].str.replace(',','.').astype(float)\n",
    "\n",
    "print(df_data['Conso_5_usages_é_primaire'])\n",
    "\n"
   ]
  },
  {
   "cell_type": "code",
   "execution_count": 137,
   "id": "a1d73e8b-780d-41ab-a516-355cb4959d71",
   "metadata": {},
   "outputs": [
    {
     "name": "stdout",
     "output_type": "stream",
     "text": [
      "0        68.3\n",
      "1        62.0\n",
      "2        57.6\n",
      "3        78.9\n",
      "4        93.9\n",
      "        ...  \n",
      "9995    120.0\n",
      "9996     55.2\n",
      "9997     60.2\n",
      "9998     51.0\n",
      "9999     41.5\n",
      "Name: Conso_5_usages_par_m²_é_primaire, Length: 10000, dtype: float64\n"
     ]
    }
   ],
   "source": [
    "df_data['Conso_5_usages_par_m²_é_primaire'] = df_data['Conso_5_usages_par_m²_é_primaire'].str.replace(',','.').astype(float)\n",
    "\n",
    "print(df_data['Conso_5_usages_par_m²_é_primaire'])\n",
    "\n"
   ]
  },
  {
   "cell_type": "code",
   "execution_count": 138,
   "id": "1bbf099b-36c8-44b5-b0db-e4de1d3b2ef6",
   "metadata": {},
   "outputs": [
    {
     "name": "stdout",
     "output_type": "stream",
     "text": [
      "0       1713.9\n",
      "1       2624.7\n",
      "2       1147.8\n",
      "3       5487.1\n",
      "4       3335.7\n",
      "         ...  \n",
      "9995    4224.0\n",
      "9996    3030.0\n",
      "9997    1874.4\n",
      "9998    2686.1\n",
      "9999    1776.4\n",
      "Name: Conso_chauffage_é_primaire, Length: 10000, dtype: float64\n"
     ]
    }
   ],
   "source": [
    "df_data['Conso_chauffage_é_primaire'] = df_data['Conso_chauffage_é_primaire'].str.replace(',','.').astype(float)\n",
    "\n",
    "print(df_data['Conso_chauffage_é_primaire'])\n",
    "\n"
   ]
  },
  {
   "cell_type": "code",
   "execution_count": 139,
   "id": "db1c04f4-fe1c-4ae4-aba8-fe23a3584771",
   "metadata": {},
   "outputs": [
    {
     "name": "stdout",
     "output_type": "stream",
     "text": [
      "0       1988.1\n",
      "1       3044.7\n",
      "2       1331.4\n",
      "3       6365.0\n",
      "4       3869.5\n",
      "         ...  \n",
      "9995    4899.9\n",
      "9996    3514.8\n",
      "9997    2174.3\n",
      "9998    2686.1\n",
      "9999    2060.7\n",
      "Name: Conso_chauffage_dépensier_é_primaire, Length: 10000, dtype: float64\n"
     ]
    }
   ],
   "source": [
    "df_data['Conso_chauffage_dépensier_é_primaire'] = df_data['Conso_chauffage_dépensier_é_primaire'].str.replace(',','.').astype(float)\n",
    "\n",
    "print(df_data['Conso_chauffage_dépensier_é_primaire'])\n",
    "\n"
   ]
  },
  {
   "cell_type": "code",
   "execution_count": 140,
   "id": "27018d3a-f518-4113-b837-c6b256344a6a",
   "metadata": {},
   "outputs": [
    {
     "name": "stdout",
     "output_type": "stream",
     "text": [
      "0        71.1\n",
      "1       302.7\n",
      "2        59.1\n",
      "3       521.2\n",
      "4        84.7\n",
      "        ...  \n",
      "9995    550.4\n",
      "9996    409.4\n",
      "9997     86.4\n",
      "9998    409.0\n",
      "9999    375.1\n",
      "Name: Conso_éclairage_é_primaire, Length: 10000, dtype: float64\n"
     ]
    }
   ],
   "source": [
    "df_data['Conso_éclairage_é_primaire'] = df_data['Conso_éclairage_é_primaire'].str.replace(',','.').astype(float)\n",
    "\n",
    "print(df_data['Conso_éclairage_é_primaire'])\n",
    "\n"
   ]
  },
  {
   "cell_type": "code",
   "execution_count": 141,
   "id": "7f26f34e-1cf4-443e-b69d-9f02c11eac0c",
   "metadata": {},
   "outputs": [
    {
     "name": "stdout",
     "output_type": "stream",
     "text": [
      "0       1317.5\n",
      "1       1951.0\n",
      "2       1597.4\n",
      "3       2808.4\n",
      "4       1972.4\n",
      "         ...  \n",
      "9995    2647.1\n",
      "9996    2258.8\n",
      "9997    2051.4\n",
      "9998    1329.3\n",
      "9999    1538.1\n",
      "Name: Conso_ECS_é_primaire, Length: 10000, dtype: float64\n"
     ]
    }
   ],
   "source": [
    "df_data['Conso_ECS_é_primaire'] = df_data['Conso_ECS_é_primaire'].str.replace(',','.').astype(float)\n",
    "\n",
    "print(df_data['Conso_ECS_é_primaire'])\n",
    "\n"
   ]
  },
  {
   "cell_type": "code",
   "execution_count": 142,
   "id": "85770054-7a2c-499b-9749-016a96787ef3",
   "metadata": {},
   "outputs": [
    {
     "name": "stdout",
     "output_type": "stream",
     "text": [
      "0        934.4\n",
      "1       1383.7\n",
      "2       1132.9\n",
      "3       1991.8\n",
      "4       1398.9\n",
      "         ...  \n",
      "9995    3732.5\n",
      "9996    1602.0\n",
      "9997    1454.9\n",
      "9998    1329.3\n",
      "9999    2168.7\n",
      "Name: Conso_ECS_dépensier_é_primaire, Length: 10000, dtype: float64\n"
     ]
    }
   ],
   "source": [
    "df_data['Conso_ECS_dépensier_é_primaire'] = df_data['Conso_ECS_dépensier_é_primaire'].str.replace(',','.').astype(float)\n",
    "\n",
    "print(df_data['Conso_ECS_dépensier_é_primaire'])\n",
    "\n"
   ]
  },
  {
   "cell_type": "code",
   "execution_count": 143,
   "id": "12ea68e2-c5b6-441a-8920-5e1459d5e4f2",
   "metadata": {},
   "outputs": [
    {
     "name": "stdout",
     "output_type": "stream",
     "text": [
      "0       0.0\n",
      "1       0.0\n",
      "2       0.0\n",
      "3       0.0\n",
      "4       0.0\n",
      "       ... \n",
      "9995    0.0\n",
      "9996    0.0\n",
      "9997    0.0\n",
      "9998    0.0\n",
      "9999    0.0\n",
      "Name: Conso_refroidissement_é_primaire, Length: 10000, dtype: float64\n"
     ]
    }
   ],
   "source": [
    "df_data['Conso_refroidissement_é_primaire'] = df_data['Conso_refroidissement_é_primaire'].str.replace(',','.').astype(float)\n",
    "\n",
    "print(df_data['Conso_refroidissement_é_primaire'])\n",
    "\n"
   ]
  },
  {
   "cell_type": "code",
   "execution_count": 144,
   "id": "f25f5918-f310-4408-bce8-7ee52fe80b60",
   "metadata": {},
   "outputs": [
    {
     "name": "stdout",
     "output_type": "stream",
     "text": [
      "0       0.0\n",
      "1       0.0\n",
      "2       0.0\n",
      "3       0.0\n",
      "4       0.0\n",
      "       ... \n",
      "9995    0.0\n",
      "9996    0.0\n",
      "9997    0.0\n",
      "9998    0.0\n",
      "9999    0.0\n",
      "Name: Conso_refroidissement_dépensier_é_primaire, Length: 10000, dtype: float64\n"
     ]
    }
   ],
   "source": [
    "df_data['Conso_refroidissement_dépensier_é_primaire'] = df_data['Conso_refroidissement_dépensier_é_primaire'].str.replace(',','.').astype(float)\n",
    "\n",
    "print(df_data['Conso_refroidissement_dépensier_é_primaire'])\n",
    "\n"
   ]
  },
  {
   "cell_type": "code",
   "execution_count": 145,
   "id": "e0d1fe3b-ead7-4d96-856f-cc2e74f5938c",
   "metadata": {},
   "outputs": [
    {
     "name": "stdout",
     "output_type": "stream",
     "text": [
      "0         8.9\n",
      "1         0.0\n",
      "2         3.1\n",
      "3        30.7\n",
      "4         9.4\n",
      "        ...  \n",
      "9995      7.6\n",
      "9996     22.7\n",
      "9997      0.0\n",
      "9998    101.0\n",
      "9999      6.9\n",
      "Name: Conso_auxiliaires_é_primaire, Length: 10000, dtype: float64\n"
     ]
    }
   ],
   "source": [
    "df_data['Conso_auxiliaires_é_primaire'] = df_data['Conso_auxiliaires_é_primaire'].str.replace(',','.').astype(float)\n",
    "\n",
    "print(df_data['Conso_auxiliaires_é_primaire'])\n",
    "\n"
   ]
  },
  {
   "cell_type": "code",
   "execution_count": 146,
   "id": "5b05a665-7830-4a83-8f3d-b2d22fd1f372",
   "metadata": {},
   "outputs": [],
   "source": [
    "# Emission_GES_5_usages                       \n",
    "# Emission_GES_5_usages_par_m²                 \n",
    "# Emission_GES_chauffage                       \n",
    "# Emission_GES_chauffage_dépensier             \n",
    "# Emission_GES_éclairage                       \n",
    "# Emission_GES_ECS                             \n",
    "# Emission_GES_ECS_dépensier                   \n",
    "# Emission_GES_refroidissement                 \n",
    "# Emission_GES_refroidissement_dépensier \n",
    "# Emission_GES_auxiliaires       \n",
    "\n"
   ]
  },
  {
   "cell_type": "code",
   "execution_count": 147,
   "id": "7f276880-d225-4383-9d9b-378c0df3da05",
   "metadata": {},
   "outputs": [
    {
     "name": "stdout",
     "output_type": "stream",
     "text": [
      "0        610.1\n",
      "1        914.5\n",
      "2        525.9\n",
      "3       1312.4\n",
      "4       1068.0\n",
      "         ...  \n",
      "9995    1032.4\n",
      "9996    1063.7\n",
      "9997     766.8\n",
      "9998     652.7\n",
      "9999     759.7\n",
      "Name: Emission_GES_5_usages, Length: 10000, dtype: float64\n"
     ]
    }
   ],
   "source": [
    "df_data['Emission_GES_5_usages'] = df_data['Emission_GES_5_usages'].str.replace(',','.').astype(float)\n",
    "\n",
    "print(df_data['Emission_GES_5_usages'])\n",
    "\n"
   ]
  },
  {
   "cell_type": "code",
   "execution_count": 148,
   "id": "dfbb93f5-7fc7-434a-94a6-b0adcaf7a865",
   "metadata": {},
   "outputs": [
    {
     "name": "stdout",
     "output_type": "stream",
     "text": [
      "0       14.1\n",
      "1       12.8\n",
      "2       11.8\n",
      "3       12.6\n",
      "4       19.5\n",
      "        ... \n",
      "9995    16.7\n",
      "9996    11.3\n",
      "9997    12.5\n",
      "9998     7.0\n",
      "9999     8.5\n",
      "Name: Emission_GES_5_usages_par_m², Length: 10000, dtype: float64\n"
     ]
    }
   ],
   "source": [
    "df_data['Emission_GES_5_usages_par_m²'] = df_data['Emission_GES_5_usages_par_m²'].str.replace(',','.').astype(float)\n",
    "\n",
    "print(df_data['Emission_GES_5_usages_par_m²'])\n",
    "\n"
   ]
  },
  {
   "cell_type": "code",
   "execution_count": 149,
   "id": "0b278e77-f81d-42f3-8cdb-986c613cbffa",
   "metadata": {},
   "outputs": [
    {
     "name": "stdout",
     "output_type": "stream",
     "text": [
      "0        389.1\n",
      "1        591.8\n",
      "2        260.5\n",
      "3       1233.6\n",
      "4        745.6\n",
      "         ...  \n",
      "9995     943.2\n",
      "9996     683.4\n",
      "9997     425.5\n",
      "9998     600.0\n",
      "9999     401.2\n",
      "Name: Emission_GES_chauffage, Length: 10000, dtype: float64\n"
     ]
    }
   ],
   "source": [
    "df_data['Emission_GES_chauffage'] = df_data['Emission_GES_chauffage'].str.replace(',','.').astype(float)\n",
    "\n",
    "print(df_data['Emission_GES_chauffage'])\n",
    "\n"
   ]
  },
  {
   "cell_type": "code",
   "execution_count": 150,
   "id": "9a855a8b-09bd-4c08-9ff0-f633f47189be",
   "metadata": {},
   "outputs": [
    {
     "name": "stdout",
     "output_type": "stream",
     "text": [
      "0        451.3\n",
      "1        686.5\n",
      "2        302.2\n",
      "3       1431.0\n",
      "4        864.9\n",
      "         ...  \n",
      "9995    1094.1\n",
      "9996     792.7\n",
      "9997     493.6\n",
      "9998     600.0\n",
      "9999     465.4\n",
      "Name: Emission_GES_chauffage_dépensier, Length: 10000, dtype: float64\n"
     ]
    }
   ],
   "source": [
    "df_data['Emission_GES_chauffage_dépensier'] = df_data['Emission_GES_chauffage_dépensier'].str.replace(',','.').astype(float)\n",
    "\n",
    "print(df_data['Emission_GES_chauffage_dépensier'])\n",
    "\n"
   ]
  },
  {
   "cell_type": "code",
   "execution_count": 151,
   "id": "b504e8ec-f3c0-4de3-bffd-578c5e3278fa",
   "metadata": {},
   "outputs": [
    {
     "name": "stdout",
     "output_type": "stream",
     "text": [
      "0        2.1\n",
      "1        9.1\n",
      "2        1.8\n",
      "3       15.6\n",
      "4        2.5\n",
      "        ... \n",
      "9995    15.3\n",
      "9996    12.3\n",
      "9997     2.6\n",
      "9998    12.3\n",
      "9999    10.4\n",
      "Name: Emission_GES_éclairage, Length: 10000, dtype: float64\n"
     ]
    }
   ],
   "source": [
    "df_data['Emission_GES_éclairage'] = df_data['Emission_GES_éclairage'].str.replace(',','.').astype(float)\n",
    "\n",
    "print(df_data['Emission_GES_éclairage'])\n",
    "\n"
   ]
  },
  {
   "cell_type": "code",
   "execution_count": 152,
   "id": "c525e369-ba43-4d61-962f-fd146b00052c",
   "metadata": {},
   "outputs": [
    {
     "name": "stdout",
     "output_type": "stream",
     "text": [
      "0       299.1\n",
      "1       437.1\n",
      "2       362.6\n",
      "3        79.4\n",
      "4       437.9\n",
      "        ...  \n",
      "9995     73.7\n",
      "9996    512.8\n",
      "9997    465.7\n",
      "9998     37.6\n",
      "9999    347.8\n",
      "Name: Emission_GES_ECS, Length: 10000, dtype: float64\n"
     ]
    }
   ],
   "source": [
    "df_data['Emission_GES_ECS'] = df_data['Emission_GES_ECS'].str.replace(',','.').astype(float)\n",
    "\n",
    "print(df_data['Emission_GES_ECS'])\n",
    "\n"
   ]
  },
  {
   "cell_type": "code",
   "execution_count": 153,
   "id": "41f00760-7b50-4e36-abe6-2e676862e3cd",
   "metadata": {},
   "outputs": [
    {
     "name": "stdout",
     "output_type": "stream",
     "text": [
      "0       212.1\n",
      "1       310.0\n",
      "2       257.2\n",
      "3        56.3\n",
      "4       310.5\n",
      "        ...  \n",
      "9995    103.9\n",
      "9996    363.7\n",
      "9997    330.3\n",
      "9998     37.6\n",
      "9999    490.5\n",
      "Name: Emission_GES_ECS_dépensier, Length: 10000, dtype: float64\n"
     ]
    }
   ],
   "source": [
    "df_data['Emission_GES_ECS_dépensier'] = df_data['Emission_GES_ECS_dépensier'].str.replace(',','.').astype(float)\n",
    "\n",
    "print(df_data['Emission_GES_ECS_dépensier'])\n",
    "\n"
   ]
  },
  {
   "cell_type": "code",
   "execution_count": 154,
   "id": "7bf71500-1ae5-4d16-894d-4d39c2827dcc",
   "metadata": {},
   "outputs": [
    {
     "name": "stdout",
     "output_type": "stream",
     "text": [
      "0       0.0\n",
      "1       0.0\n",
      "2       0.0\n",
      "3       0.0\n",
      "4       0.0\n",
      "       ... \n",
      "9995    0.0\n",
      "9996    0.0\n",
      "9997    0.0\n",
      "9998    0.0\n",
      "9999    0.0\n",
      "Name: Emission_GES_refroidissement, Length: 10000, dtype: float64\n"
     ]
    }
   ],
   "source": [
    "df_data['Emission_GES_refroidissement'] = df_data['Emission_GES_refroidissement'].str.replace(',','.').astype(float)\n",
    "\n",
    "print(df_data['Emission_GES_refroidissement'])\n",
    "\n"
   ]
  },
  {
   "cell_type": "code",
   "execution_count": 155,
   "id": "1fc442e4-5d46-41f3-a7c9-837b7d944245",
   "metadata": {},
   "outputs": [
    {
     "name": "stdout",
     "output_type": "stream",
     "text": [
      "0       0.0\n",
      "1       0.0\n",
      "2       0.0\n",
      "3       0.0\n",
      "4       0.0\n",
      "       ... \n",
      "9995    0.0\n",
      "9996    0.0\n",
      "9997    0.0\n",
      "9998    0.0\n",
      "9999    0.0\n",
      "Name: Emission_GES_refroidissement_dépensier, Length: 10000, dtype: float64\n"
     ]
    }
   ],
   "source": [
    "df_data['Emission_GES_refroidissement_dépensier'] = df_data['Emission_GES_refroidissement_dépensier'].str.replace(',','.').astype(float)\n",
    "\n",
    "print(df_data['Emission_GES_refroidissement_dépensier'])\n",
    "\n"
   ]
  },
  {
   "cell_type": "code",
   "execution_count": 156,
   "id": "64ccd8b2-58b8-4c29-a07c-fb4fc8029f07",
   "metadata": {},
   "outputs": [
    {
     "name": "stdout",
     "output_type": "stream",
     "text": [
      "0       0.2\n",
      "1       0.0\n",
      "2       0.1\n",
      "3       0.9\n",
      "4       0.3\n",
      "       ... \n",
      "9995    0.2\n",
      "9996    0.6\n",
      "9997    0.0\n",
      "9998    2.8\n",
      "9999    0.2\n",
      "Name: Emission_GES_auxiliaires, Length: 10000, dtype: float64\n"
     ]
    }
   ],
   "source": [
    "df_data['Emission_GES_auxiliaires'] = df_data['Emission_GES_auxiliaires'].str.replace(',','.').astype(float)\n",
    "\n",
    "print(df_data['Emission_GES_auxiliaires'])\n",
    "\n"
   ]
  },
  {
   "cell_type": "code",
   "execution_count": 157,
   "id": "1417b5e2-88cb-4957-9816-5360b05fa778",
   "metadata": {},
   "outputs": [
    {
     "name": "stdout",
     "output_type": "stream",
     "text": [
      "0        247.2\n",
      "1        376.0\n",
      "2         79.9\n",
      "3        584.0\n",
      "4        364.2\n",
      "         ...  \n",
      "9995     461.0\n",
      "9996     434.0\n",
      "9997     208.5\n",
      "9998     299.5\n",
      "9999    8955.7\n",
      "Name: Coût_chauffage_énergie_n°1, Length: 10000, dtype: float64\n"
     ]
    }
   ],
   "source": [
    "df_data['Coût_chauffage_énergie_n°1'] = df_data['Coût_chauffage_énergie_n°1'].str.replace(',','.').astype(float)\n",
    "\n",
    "print(df_data['Coût_chauffage_énergie_n°1'])\n",
    "\n"
   ]
  },
  {
   "cell_type": "code",
   "execution_count": 158,
   "id": "a7df09e3-d323-462c-8957-3c56adcbac96",
   "metadata": {},
   "outputs": [
    {
     "name": "stdout",
     "output_type": "stream",
     "text": [
      "0         134.7\n",
      "1         197.0\n",
      "2          78.9\n",
      "3           0.0\n",
      "4         151.7\n",
      "         ...   \n",
      "9995        0.0\n",
      "9996      231.0\n",
      "9997      161.8\n",
      "9998      167.7\n",
      "9999    10922.9\n",
      "Name: Coût_ECS_énergie_n°1, Length: 10000, dtype: float64\n"
     ]
    }
   ],
   "source": [
    "df_data['Coût_ECS_énergie_n°1'] = df_data['Coût_ECS_énergie_n°1'].str.replace(',','.').astype(float)\n",
    "\n",
    "print(df_data['Coût_ECS_énergie_n°1'])\n",
    "\n"
   ]
  },
  {
   "cell_type": "code",
   "execution_count": 159,
   "id": "ac72a441-0aac-4931-9f77-811cd93ba8d5",
   "metadata": {},
   "outputs": [
    {
     "name": "stdout",
     "output_type": "stream",
     "text": [
      "0           0.0\n",
      "1           0.0\n",
      "2           0.0\n",
      "3           0.0\n",
      "4           0.0\n",
      "         ...   \n",
      "9995      941.0\n",
      "9996        0.0\n",
      "9997        0.0\n",
      "9998      652.7\n",
      "9999    40575.8\n",
      "Name: Emission_GES_5_usages_énergie_n°1, Length: 10000, dtype: float64\n"
     ]
    }
   ],
   "source": [
    "df_data['Emission_GES_5_usages_énergie_n°1'] = df_data['Emission_GES_5_usages_énergie_n°1'].str.replace(',','.').astype(float)\n",
    "\n",
    "print(df_data['Emission_GES_5_usages_énergie_n°1'])\n",
    "\n"
   ]
  },
  {
   "cell_type": "code",
   "execution_count": 160,
   "id": "546d4943-41b7-42df-bf5c-522218805270",
   "metadata": {},
   "outputs": [
    {
     "name": "stdout",
     "output_type": "stream",
     "text": [
      "0       430.2\n",
      "1       648.0\n",
      "2       194.0\n",
      "3       904.0\n",
      "4       579.1\n",
      "        ...  \n",
      "9995    844.5\n",
      "9996    760.0\n",
      "9997    417.2\n",
      "9998    531.5\n",
      "9999    457.4\n",
      "Name: Coût_total_5_usages, Length: 10000, dtype: float64\n"
     ]
    }
   ],
   "source": [
    "df_data['Coût_total_5_usages'] = df_data['Coût_total_5_usages'].str.replace(',','.').astype(float)\n",
    "\n",
    "print(df_data['Coût_total_5_usages'])\n",
    "\n"
   ]
  },
  {
   "cell_type": "code",
   "execution_count": 161,
   "id": "2b591b96-1144-4558-9736-3a3c39621f45",
   "metadata": {},
   "outputs": [
    {
     "name": "stdout",
     "output_type": "stream",
     "text": [
      "0       247.2\n",
      "1       379.0\n",
      "2        79.9\n",
      "3       591.0\n",
      "4       371.9\n",
      "        ...  \n",
      "9995    519.7\n",
      "9996    438.0\n",
      "9997    208.4\n",
      "9998    299.5\n",
      "9999    219.3\n",
      "Name: Coût_chauffage, Length: 10000, dtype: float64\n"
     ]
    }
   ],
   "source": [
    "df_data['Coût_chauffage'] = df_data['Coût_chauffage'].str.replace(',','.').astype(float)\n",
    "\n",
    "print(df_data['Coût_chauffage'])\n",
    "\n"
   ]
  },
  {
   "cell_type": "code",
   "execution_count": 162,
   "id": "3db9a559-6c4e-450e-be42-dd5a26ede7b1",
   "metadata": {},
   "outputs": [
    {
     "name": "stdout",
     "output_type": "stream",
     "text": [
      "0       286.7\n",
      "1       439.6\n",
      "2        92.7\n",
      "3       685.6\n",
      "4       431.4\n",
      "        ...  \n",
      "9995    602.8\n",
      "9996    508.1\n",
      "9997    241.8\n",
      "9998    299.5\n",
      "9999    254.4\n",
      "Name: Coût_chauffage_dépensier, Length: 10000, dtype: float64\n"
     ]
    }
   ],
   "source": [
    "df_data['Coût_chauffage_dépensier'] = df_data['Coût_chauffage_dépensier'].str.replace(',','.').astype(float)\n",
    "\n",
    "print(df_data['Coût_chauffage_dépensier'])\n",
    "\n"
   ]
  },
  {
   "cell_type": "code",
   "execution_count": 163,
   "id": "7298616d-6c61-43e5-ad55-93be6339fd51",
   "metadata": {},
   "outputs": [
    {
     "name": "stdout",
     "output_type": "stream",
     "text": [
      "0        84.9\n",
      "1        48.0\n",
      "2        88.6\n",
      "3        59.0\n",
      "4       126.9\n",
      "        ...  \n",
      "9995     55.8\n",
      "9996     65.0\n",
      "9997    129.6\n",
      "9998     51.6\n",
      "9999     47.3\n",
      "Name: Coût_éclairage, Length: 10000, dtype: float64\n"
     ]
    }
   ],
   "source": [
    "df_data['Coût_éclairage'] = df_data['Coût_éclairage'].str.replace(',','.').astype(float)\n",
    "\n",
    "print(df_data['Coût_éclairage'])\n",
    "\n"
   ]
  },
  {
   "cell_type": "code",
   "execution_count": 164,
   "id": "5c5154b9-01eb-42ed-b0bb-3828f17782be",
   "metadata": {},
   "outputs": [
    {
     "name": "stdout",
     "output_type": "stream",
     "text": [
      "0       190.0\n",
      "1       282.0\n",
      "2       111.3\n",
      "3       320.1\n",
      "4       220.1\n",
      "        ...  \n",
      "9995    378.2\n",
      "9996    325.7\n",
      "9997    228.1\n",
      "9998    167.7\n",
      "9999    267.7\n",
      "Name: Coût_ECS_dépensier, Length: 10000, dtype: float64\n"
     ]
    }
   ],
   "source": [
    "df_data['Coût_ECS_dépensier'] = df_data['Coût_ECS_dépensier'].str.replace(',','.').astype(float)\n",
    "\n",
    "print(df_data['Coût_ECS_dépensier'])\n",
    "\n"
   ]
  },
  {
   "cell_type": "code",
   "execution_count": 165,
   "id": "f7864383-d08d-4007-88c4-d17d31d8cda6",
   "metadata": {},
   "outputs": [
    {
     "name": "stdout",
     "output_type": "stream",
     "text": [
      "0       134.8\n",
      "1       200.0\n",
      "2        78.9\n",
      "3       227.0\n",
      "4       156.1\n",
      "        ...  \n",
      "9995    268.2\n",
      "9996    231.0\n",
      "9997    161.8\n",
      "9998    167.7\n",
      "9999    189.9\n",
      "Name: Coût_ECS, Length: 10000, dtype: float64\n"
     ]
    }
   ],
   "source": [
    "df_data['Coût_ECS'] = df_data['Coût_ECS'].str.replace(',','.').astype(float)\n",
    "\n",
    "print(df_data['Coût_ECS'])\n",
    "\n"
   ]
  },
  {
   "cell_type": "code",
   "execution_count": 166,
   "id": "efb5f1b6-8ca6-49c2-8ba7-6242da3e19c3",
   "metadata": {},
   "outputs": [
    {
     "name": "stdout",
     "output_type": "stream",
     "text": [
      "0       0.0\n",
      "1       0.0\n",
      "2       0.0\n",
      "3       0.0\n",
      "4       0.0\n",
      "       ... \n",
      "9995    0.0\n",
      "9996    0.0\n",
      "9997    0.0\n",
      "9998    0.0\n",
      "9999    0.0\n",
      "Name: Coût_refroidissement, Length: 10000, dtype: float64\n"
     ]
    }
   ],
   "source": [
    "df_data['Coût_refroidissement'] = df_data['Coût_refroidissement'].str.replace(',','.').astype(float)\n",
    "\n",
    "print(df_data['Coût_refroidissement'])\n",
    "\n"
   ]
  },
  {
   "cell_type": "code",
   "execution_count": 167,
   "id": "65a55ffb-6272-4bf2-b6d1-15e535d86772",
   "metadata": {},
   "outputs": [
    {
     "name": "stdout",
     "output_type": "stream",
     "text": [
      "0       0.0\n",
      "1       0.0\n",
      "2       0.0\n",
      "3       0.0\n",
      "4       0.0\n",
      "       ... \n",
      "9995    0.0\n",
      "9996    0.0\n",
      "9997    0.0\n",
      "9998    0.0\n",
      "9999    0.0\n",
      "Name: Coût_refroidissement_dépensier, Length: 10000, dtype: float64\n"
     ]
    }
   ],
   "source": [
    "df_data['Coût_refroidissement_dépensier'] = df_data['Coût_refroidissement_dépensier'].str.replace(',','.').astype(float)\n",
    "\n",
    "print(df_data['Coût_refroidissement_dépensier'])\n",
    "\n"
   ]
  },
  {
   "cell_type": "code",
   "execution_count": 168,
   "id": "700df7ab-767c-421c-b7b0-dbc429f4743b",
   "metadata": {},
   "outputs": [
    {
     "name": "stdout",
     "output_type": "stream",
     "text": [
      "0       10.6\n",
      "1        0.0\n",
      "2        4.7\n",
      "3        3.0\n",
      "4       14.1\n",
      "        ... \n",
      "9995     0.8\n",
      "9996     4.0\n",
      "9997     0.0\n",
      "9998    12.7\n",
      "9999     0.9\n",
      "Name: Coût_auxiliaires, Length: 10000, dtype: float64\n"
     ]
    }
   ],
   "source": [
    "df_data['Coût_auxiliaires'] = df_data['Coût_auxiliaires'].str.replace(',','.').astype(float)\n",
    "\n",
    "print(df_data['Coût_auxiliaires'])\n",
    "\n"
   ]
  },
  {
   "cell_type": "code",
   "execution_count": 169,
   "id": "4c1f66de-5060-4336-8047-598e986dbcb8",
   "metadata": {},
   "outputs": [
    {
     "name": "stdout",
     "output_type": "stream",
     "text": [
      "0       0.52\n",
      "1       0.37\n",
      "2       0.47\n",
      "3       0.34\n",
      "4       0.63\n",
      "        ... \n",
      "9995    0.61\n",
      "9996    0.35\n",
      "9997    0.62\n",
      "9998    0.35\n",
      "9999    0.68\n",
      "Name: Ubat_W/m²_K, Length: 10000, dtype: float64\n"
     ]
    }
   ],
   "source": [
    "df_data['Ubat_W/m²_K'] = df_data['Ubat_W/m²_K'].str.replace(',','.').astype(float)\n",
    "\n",
    "print(df_data['Ubat_W/m²_K'])\n",
    "\n"
   ]
  },
  {
   "cell_type": "code",
   "execution_count": 170,
   "id": "cae85ddb-fe74-432c-9173-01db6e53cc06",
   "metadata": {},
   "outputs": [],
   "source": [
    "#updatepath = os.path.join('..','data','dpe-update.csv')\n",
    "\n",
    "#df_data.to_csv(updatepath, index = False)\n",
    "\n"
   ]
  },
  {
   "cell_type": "code",
   "execution_count": 171,
   "id": "de40ca97-80ab-4b8d-b061-1b9aad1ec161",
   "metadata": {},
   "outputs": [
    {
     "name": "stdout",
     "output_type": "stream",
     "text": [
      "<class 'pandas.core.frame.DataFrame'>\n",
      "RangeIndex: 10000 entries, 0 to 9999\n",
      "Data columns (total 66 columns):\n",
      " #   Column                                      Non-Null Count  Dtype  \n",
      "---  ------                                      --------------  -----  \n",
      " 0   Modèle_DPE                                  10000 non-null  object \n",
      " 1   Version_DPE                                 10000 non-null  object \n",
      " 2   Méthode_application_DPE                     10000 non-null  object \n",
      " 3   Etiquette_DPE                               10000 non-null  object \n",
      " 4   Etiquette_GES                               10000 non-null  object \n",
      " 5   Type_bâtiment                               10000 non-null  object \n",
      " 6   Hauteur_sous-plafond                        10000 non-null  float64\n",
      " 7   Conso_5_usages_é_finale                     10000 non-null  float64\n",
      " 8   Conso_5_usages/m²_é_finale                  10000 non-null  float64\n",
      " 9   Conso_chauffage_é_finale                    10000 non-null  float64\n",
      " 10  Conso_chauffage_dépensier_é_finale          10000 non-null  float64\n",
      " 11  Conso_éclairage_é_finale                    10000 non-null  float64\n",
      " 12  Conso_ECS_é_finale                          10000 non-null  float64\n",
      " 13  Conso_ECS_dépensier_é_finale                10000 non-null  float64\n",
      " 14  Conso_refroidissement_é_finale              10000 non-null  float64\n",
      " 15  Conso_refroidissement_dépensier_é_finale    10000 non-null  float64\n",
      " 16  Conso_auxiliaires_é_finale                  10000 non-null  float64\n",
      " 17  Conso_5_usages_é_primaire                   10000 non-null  float64\n",
      " 18  Conso_5_usages_par_m²_é_primaire            10000 non-null  float64\n",
      " 19  Conso_chauffage_é_primaire                  10000 non-null  float64\n",
      " 20  Conso_chauffage_dépensier_é_primaire        10000 non-null  float64\n",
      " 21  Conso_éclairage_é_primaire                  10000 non-null  float64\n",
      " 22  Conso_ECS_é_primaire                        10000 non-null  float64\n",
      " 23  Conso_ECS_dépensier_é_primaire              10000 non-null  float64\n",
      " 24  Conso_refroidissement_é_primaire            10000 non-null  float64\n",
      " 25  Conso_refroidissement_dépensier_é_primaire  10000 non-null  float64\n",
      " 26  Conso_auxiliaires_é_primaire                10000 non-null  float64\n",
      " 27  Emission_GES_5_usages                       10000 non-null  float64\n",
      " 28  Emission_GES_5_usages_par_m²                10000 non-null  float64\n",
      " 29  Emission_GES_chauffage                      10000 non-null  float64\n",
      " 30  Emission_GES_chauffage_dépensier            10000 non-null  float64\n",
      " 31  Emission_GES_éclairage                      10000 non-null  float64\n",
      " 32  Emission_GES_ECS                            10000 non-null  float64\n",
      " 33  Emission_GES_ECS_dépensier                  10000 non-null  float64\n",
      " 34  Emission_GES_refroidissement                10000 non-null  float64\n",
      " 35  Emission_GES_refroidissement_dépensier      10000 non-null  float64\n",
      " 36  Emission_GES_auxiliaires                    10000 non-null  float64\n",
      " 37  Coût_chauffage_énergie_n°1                  10000 non-null  float64\n",
      " 38  Coût_ECS_énergie_n°1                        10000 non-null  float64\n",
      " 39  Emission_GES_5_usages_énergie_n°1           10000 non-null  float64\n",
      " 40  Type_énergie_n°1                            10000 non-null  object \n",
      " 41  Coût_total_5_usages                         10000 non-null  float64\n",
      " 42  Coût_chauffage                              10000 non-null  float64\n",
      " 43  Coût_chauffage_dépensier                    10000 non-null  float64\n",
      " 44  Coût_éclairage                              10000 non-null  float64\n",
      " 45  Coût_ECS_dépensier                          10000 non-null  float64\n",
      " 46  Coût_ECS                                    10000 non-null  float64\n",
      " 47  Coût_refroidissement                        10000 non-null  float64\n",
      " 48  Coût_refroidissement_dépensier              10000 non-null  float64\n",
      " 49  Coût_auxiliaires                            10000 non-null  float64\n",
      " 50  Qualité_isolation_enveloppe                 10000 non-null  object \n",
      " 51  Qualité_isolation_menuiseries               10000 non-null  object \n",
      " 52  Qualité_isolation_murs                      10000 non-null  object \n",
      " 53  Ubat_W/m²_K                                 10000 non-null  float64\n",
      " 54  Appartement_non_visité_(0/1)                10000 non-null  object \n",
      " 55  Nombre_appartement                          10000 non-null  float64\n",
      " 56  Nombre_niveau_immeuble                      10000 non-null  float64\n",
      " 57  Nombre_niveau_logement                      10000 non-null  float64\n",
      " 58  Surface_habitable_immeuble                  10000 non-null  float64\n",
      " 59  Surface_habitable_logement                  10000 non-null  float64\n",
      " 60  Score_BAN                                   10000 non-null  float64\n",
      " 61  Coût_chauffage_énergie_n°2                  10000 non-null  float64\n",
      " 62  Coût_ECS_énergie_n°2                        10000 non-null  float64\n",
      " 63  Type_énergie_n°2                            10000 non-null  object \n",
      " 64  Emission_GES_5_usages_énergie_n°2           10000 non-null  float64\n",
      " 65  Qualité_isolation_plancher_bas              10000 non-null  object \n",
      "dtypes: float64(53), object(13)\n",
      "memory usage: 5.0+ MB\n"
     ]
    }
   ],
   "source": [
    "df_data.info()\n",
    "\n"
   ]
  },
  {
   "cell_type": "code",
   "execution_count": 172,
   "id": "5dae576b-0c84-472e-a652-03b72f2dccf1",
   "metadata": {},
   "outputs": [],
   "source": [
    "dict_columns={'Modèle_DPE':'Modele_DPE',\n",
    "        'Méthode_application_DPE':'Methode_application_DPE',\n",
    "         'Type_bâtiment':'Type_batiment',\n",
    "         'Conso_5_usages_é_finale':'Conso_5_usages_finale',\n",
    "         'Conso_5_usages/m²_é_finale':'Conso_5_usages_m2_finale',\n",
    "         'Conso_chauffage_é_finale':'Conso_chauffage_finale',\n",
    "         'Conso_chauffage_dépensier_é_finale':'Conso_chauffage_depensier_finale',\n",
    "         'Conso_éclairage_é_finale':'Conso_eclairage_finale',\n",
    "         'Conso_ECS_é_finale':'Conso_ECS_finale',\n",
    "         'Conso_ECS_dépensier_é_finale':'Conso_ECS_depensier_finale',\n",
    "         'Conso_refroidissement_é_finale':'Conso_refroidissement_finale',\n",
    "         'Conso_refroidissement_dépensier_é_finale':'Conso_refroidissement_depensier_finale',\n",
    "         'Conso_auxiliaires_é_finale':'Conso_auxiliaires_finale',\n",
    "         'Conso_5_usages_é_primaire':'Conso_5_usages_primaire',\n",
    "         'Conso_5_usages_par_m²_é_primaire':'Conso_5_usages_par_m2_primaire',\n",
    "         'Conso_chauffage_é_primaire':'Conso_chauffage_primaire',\n",
    "         'Conso_chauffage_dépensier_é_primaire':'Conso_chauffage_depensier_primaire',\n",
    "         'Conso_éclairage_é_primaire':'Conso_eclairage_primaire',\n",
    "         'Conso_ECS_é_primaire':'Conso_ECS_primaire',\n",
    "         'Conso_ECS_dépensier_é_primaire':'Conso_ECS_depensier_primaire',\n",
    "         'Conso_refroidissement_é_primaire':'Conso_refroidissement_primaire',\n",
    "         'Conso_refroidissement_dépensier_é_primaire':'Conso_refroidissement_depensier_primaire',\n",
    "         'Conso_auxiliaires_é_primaire':'Conso_auxiliaires_primaire',\n",
    "         'Emission_GES_5_usages_par_m²':'Emission_GES_5_usages_par_m2',\n",
    "         'Emission_GES_chauffage_dépensier':'Emission_GES_chauffage_depensier',\n",
    "         'Emission_GES_éclairage':'Emission_GES_eclairage',\n",
    "         'Emission_GES_ECS_dépensier':'Emission_GES_ECS_depensier',\n",
    "         'Emission_GES_refroidissement_dépensier':'Emission_GES_refroidissement_depensier',\n",
    "         'Coût_chauffage_énergie_n°1':'Cout_chauffage_energie_num1',\n",
    "         'Coût_ECS_énergie_n°1':'Coût_ECS_energie_num1',\n",
    "         'Emission_GES_5_usages_énergie_n°1':'Emission_GES_5_usages_energie_num1',\n",
    "         'Type_énergie_n°1':'Type_energie_num1',\n",
    "         'Coût_total_5_usages':'Cout_total_5_usages',\n",
    "         'Coût_chauffage':'Cout_chauffage',\n",
    "         'Coût_chauffage_dépensier':'Cout_chauffage_depensier',\n",
    "         'Coût_éclairage':'Cout_eclairage',\n",
    "         'Coût_ECS_dépensier':'Cout_ECS_depensier',\n",
    "         'Coût_ECS':'Cout_ECS',\n",
    "         'Coût_refroidissement':'Cout_refroidissement',\n",
    "         'Coût_refroidissement_dépensier':'Cout_refroidissement_depensier',\n",
    "         'Coût_auxiliaires':'Cout_auxiliaires',\n",
    "         'Qualité_isolation_enveloppe':'Qualite_isolation_enveloppe',\n",
    "         'Qualité_isolation_menuiseries':'Qualite_isolation_menuiseries',\n",
    "         'Qualité_isolation_murs':'Qualite_isolation_murs',\n",
    "         'Ubat_W/m²_K':'Ubat_W_m2_K',\n",
    "         'Appartement_non_visité_(0/1)':'Appartement_non_visite_0_1',\n",
    "         'Coût_chauffage_énergie_n°2':'Cout_chauffage_energie_num2',\n",
    "         'Coût_ECS_énergie_n°2':'Cout_ECS_energie_num2',\n",
    "         'Type_énergie_n°2':'Type_energie_num2',\n",
    "         'Emission_GES_5_usages_énergie_n°2':'Emission_GES_5_usages_energie_num2',\n",
    "         'Qualité_isolation_plancher_bas':'Qualite_isolation_plancher_bas',\n",
    "        }         \n",
    "\n",
    "df_data.rename(columns=dict_columns, inplace=True)\n",
    "\n"
   ]
  },
  {
   "cell_type": "code",
   "execution_count": 174,
   "id": "83153d38-2fcf-48d1-860b-4c30ae6baad5",
   "metadata": {},
   "outputs": [
    {
     "data": {
      "text/plain": [
       "Index(['Modele_DPE', 'Version_DPE', 'Methode_application_DPE', 'Etiquette_DPE',\n",
       "       'Etiquette_GES', 'Type_batiment', 'Hauteur_sous-plafond',\n",
       "       'Conso_5_usages_finale', 'Conso_5_usages_m2_finale',\n",
       "       'Conso_chauffage_finale', 'Conso_chauffage_depensier_finale',\n",
       "       'Conso_eclairage_finale', 'Conso_ECS_finale',\n",
       "       'Conso_ECS_depensier_finale', 'Conso_refroidissement_finale',\n",
       "       'Conso_refroidissement_depensier_finale', 'Conso_auxiliaires_finale',\n",
       "       'Conso_5_usages_primaire', 'Conso_5_usages_par_m2_primaire',\n",
       "       'Conso_chauffage_primaire', 'Conso_chauffage_depensier_primaire',\n",
       "       'Conso_eclairage_primaire', 'Conso_ECS_primaire',\n",
       "       'Conso_ECS_depensier_primaire', 'Conso_refroidissement_primaire',\n",
       "       'Conso_refroidissement_depensier_primaire',\n",
       "       'Conso_auxiliaires_primaire', 'Emission_GES_5_usages',\n",
       "       'Emission_GES_5_usages_par_m2', 'Emission_GES_chauffage',\n",
       "       'Emission_GES_chauffage_depensier', 'Emission_GES_eclairage',\n",
       "       'Emission_GES_ECS', 'Emission_GES_ECS_depensier',\n",
       "       'Emission_GES_refroidissement',\n",
       "       'Emission_GES_refroidissement_depensier', 'Emission_GES_auxiliaires',\n",
       "       'Cout_chauffage_energie_num1', 'Coût_ECS_energie_num1',\n",
       "       'Emission_GES_5_usages_energie_num1', 'Type_energie_num1',\n",
       "       'Cout_total_5_usages', 'Cout_chauffage', 'Cout_chauffage_depensier',\n",
       "       'Cout_eclairage', 'Cout_ECS_depensier', 'Cout_ECS',\n",
       "       'Cout_refroidissement', 'Cout_refroidissement_depensier',\n",
       "       'Cout_auxiliaires', 'Qualite_isolation_enveloppe',\n",
       "       'Qualite_isolation_menuiseries', 'Qualite_isolation_murs',\n",
       "       'Ubat_W_m2_K', 'Appartement_non_visite_0_1', 'Nombre_appartement',\n",
       "       'Nombre_niveau_immeuble', 'Nombre_niveau_logement',\n",
       "       'Surface_habitable_immeuble', 'Surface_habitable_logement', 'Score_BAN',\n",
       "       'Cout_chauffage_energie_num2', 'Cout_ECS_energie_num2',\n",
       "       'Type_energie_num2', 'Emission_GES_5_usages_energie_num2',\n",
       "       'Qualite_isolation_plancher_bas'],\n",
       "      dtype='object')"
      ]
     },
     "execution_count": 174,
     "metadata": {},
     "output_type": "execute_result"
    }
   ],
   "source": [
    "df_data.columns\n",
    "\n"
   ]
  },
  {
   "cell_type": "code",
   "execution_count": 175,
   "id": "6bc89b08-35a4-43e2-b9e4-62f9f1eea4fa",
   "metadata": {},
   "outputs": [],
   "source": [
    "updatepath = os.path.join('..','data','dpe-update.csv')\n",
    "\n",
    "df_data.to_csv(updatepath, index = False)\n",
    "\n"
   ]
  },
  {
   "cell_type": "code",
   "execution_count": null,
   "id": "da4de8a7-00f3-431c-b662-75d2257a1fa9",
   "metadata": {},
   "outputs": [],
   "source": []
  },
  {
   "cell_type": "code",
   "execution_count": null,
   "id": "34cf2735-1f76-416f-b31a-1f51db455028",
   "metadata": {},
   "outputs": [],
   "source": []
  },
  {
   "cell_type": "code",
   "execution_count": null,
   "id": "0a1f4bd5-87cd-4cd1-8807-8661b2492b60",
   "metadata": {},
   "outputs": [],
   "source": []
  },
  {
   "cell_type": "code",
   "execution_count": null,
   "id": "2ea27167-5b34-4239-95f3-c7a54d3abe42",
   "metadata": {},
   "outputs": [],
   "source": []
  }
 ],
 "metadata": {
  "kernelspec": {
   "display_name": "Python 3 (ipykernel)",
   "language": "python",
   "name": "python3"
  },
  "language_info": {
   "codemirror_mode": {
    "name": "ipython",
    "version": 3
   },
   "file_extension": ".py",
   "mimetype": "text/x-python",
   "name": "python",
   "nbconvert_exporter": "python",
   "pygments_lexer": "ipython3",
   "version": "3.10.4"
  }
 },
 "nbformat": 4,
 "nbformat_minor": 5
}
